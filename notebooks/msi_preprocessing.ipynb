{
 "cells": [
  {
   "cell_type": "code",
   "execution_count": null,
   "metadata": {},
   "outputs": [],
   "source": [
    "import scanpy as sc\n",
    "import numpy as np\n",
    "import squidpy as sq\n"
   ]
  },
  {
   "cell_type": "code",
   "execution_count": 5,
   "metadata": {},
   "outputs": [
    {
     "name": "stderr",
     "output_type": "stream",
     "text": [
      "/ictstr01/home/icb/eirini.giannakoulia/tools/apps/mamba/envs/vitatrack/lib/python3.9/site-packages/anndata/_core/anndata.py:1754: UserWarning: Observation names are not unique. To make them unique, call `.obs_names_make_unique`.\n",
      "  utils.warn_names_duplicates(\"obs\")\n"
     ]
    }
   ],
   "source": [
    "adata_msi = sc.read_h5ad(\"/lustre/groups/ml01/workspace/eirini.giannakoulia/datasets/MSI_concat_neurotransmitters.h5ad\")"
   ]
  },
  {
   "cell_type": "code",
   "execution_count": 6,
   "metadata": {},
   "outputs": [
    {
     "data": {
      "text/plain": [
       "AnnData object with n_obs × n_vars = 5443 × 1538\n",
       "    obs: 'technology', 'clusters', 'random_split', 'half_split', 'slide', 'msi_concat_clusters'\n",
       "    var: 'highly_variable', 'means', 'dispersions', 'dispersions_norm', 'highly_variable_nbatches', 'highly_variable_intersection', 'spatialy_highly_variable', 'msi_highly_variable'\n",
       "    uns: 'hvg', 'msi_concat_clusters', 'neighbors', 'pca', 'slide_colors', 'umap'\n",
       "    obsm: 'X_pca', 'X_umap', 'spatial', 'spatial_warp'\n",
       "    varm: 'PCs'\n",
       "    layers: 'counts'\n",
       "    obsp: 'connectivities', 'distances'"
      ]
     },
     "execution_count": 3,
     "metadata": {},
     "output_type": "execute_result"
    }
   ],
   "source": [
    "adata_msi"
   ]
  },
  {
   "cell_type": "code",
   "execution_count": null,
   "metadata": {},
   "outputs": [
    {
     "name": "stderr",
     "output_type": "stream",
     "text": [
      "/ictstr01/home/icb/eirini.giannakoulia/tools/apps/mamba/envs/vitatrack/lib/python3.9/site-packages/anndata/_core/anndata.py:1754: UserWarning: Observation names are not unique. To make them unique, call `.obs_names_make_unique`.\n",
      "  utils.warn_names_duplicates(\"obs\")\n"
     ]
    }
   ],
   "source": [
    "# Step 1: Convert m/z to numeric and bin similar features\n",
    "adata_msi = adata_msi[:, adata_msi.var_names.astype(float) > 288.15].copy()\n",
    "# adata_msi.var_names = adata_msi.var_names.astype(float)\n",
    "# bin_size = 0.05  \n",
    "# adata_msi.var[\"binned_mz\"] = np.round(adata_msi.var_names / bin_size) * bin_size\n",
    "# adata_msi = adata_msi[:, adata_msi.var.groupby(\"binned_mz\").apply(lambda x: x.index[x.X.mean(axis=0).idxmax()])]\n"
   ]
  },
  {
   "cell_type": "code",
   "execution_count": null,
   "metadata": {},
   "outputs": [],
   "source": [
    "# Step 2: Normalize per-pixel intensities\n",
    "sc.pp.normalize_total(adata_msi, target_sum=1e4)\n",
    "\n",
    "# Step 3: Filter out low-variance and background noise features\n",
    "sc.pp.filter_genes(adata_msi, min_disp=0.1)\n",
    "adata_msi = adata_msi[:, adata_msi.X.mean(axis=0) > (0.01 * adata_msi.X.max())]\n",
    "\n",
    "# Step 4: Spatial feature selection using Moran’s I\n",
    "sq.gr.spatial_autocorr(adata_msi, mode=\"moran\")\n",
    "adata_msi = adata_msi[:, adata_msi.var[\"moranI_score\"] > 0.2]\n",
    "\n",
    "# Step 5: Remove batch effects (if applicable)\n",
    "sc.pp.combat(adata_msi)\n",
    "\n",
    "# Step 6: Log transform for better downstream analysis\n",
    "sc.pp.log1p(adata_msi)\n"
   ]
  },
  {
   "cell_type": "code",
   "execution_count": null,
   "metadata": {},
   "outputs": [],
   "source": []
  }
 ],
 "metadata": {
  "kernelspec": {
   "display_name": "Python (vitatrack)",
   "language": "python",
   "name": "vitatrack"
  }
 },
 "nbformat": 4,
 "nbformat_minor": 2
}
