{
 "cells": [
  {
   "cell_type": "markdown",
   "metadata": {},
   "source": [
    "# scRNA preprocessing notebook restricting genes [for given gene subset]"
   ]
  },
  {
   "cell_type": "code",
   "execution_count": 1,
   "metadata": {},
   "outputs": [
    {
     "name": "stderr",
     "output_type": "stream",
     "text": [
      "/ictstr01/home/icb/eirini.giannakoulia/tools/apps/mamba/envs/mini/lib/python3.12/site-packages/anndata/utils.py:429: FutureWarning: Importing read_csv from `anndata` is deprecated. Import anndata.io.read_csv instead.\n",
      "  warnings.warn(msg, FutureWarning)\n",
      "/ictstr01/home/icb/eirini.giannakoulia/tools/apps/mamba/envs/mini/lib/python3.12/site-packages/anndata/utils.py:429: FutureWarning: Importing read_excel from `anndata` is deprecated. Import anndata.io.read_excel instead.\n",
      "  warnings.warn(msg, FutureWarning)\n",
      "/ictstr01/home/icb/eirini.giannakoulia/tools/apps/mamba/envs/mini/lib/python3.12/site-packages/anndata/utils.py:429: FutureWarning: Importing read_hdf from `anndata` is deprecated. Import anndata.io.read_hdf instead.\n",
      "  warnings.warn(msg, FutureWarning)\n",
      "/ictstr01/home/icb/eirini.giannakoulia/tools/apps/mamba/envs/mini/lib/python3.12/site-packages/anndata/utils.py:429: FutureWarning: Importing read_loom from `anndata` is deprecated. Import anndata.io.read_loom instead.\n",
      "  warnings.warn(msg, FutureWarning)\n",
      "/ictstr01/home/icb/eirini.giannakoulia/tools/apps/mamba/envs/mini/lib/python3.12/site-packages/anndata/utils.py:429: FutureWarning: Importing read_mtx from `anndata` is deprecated. Import anndata.io.read_mtx instead.\n",
      "  warnings.warn(msg, FutureWarning)\n",
      "/ictstr01/home/icb/eirini.giannakoulia/tools/apps/mamba/envs/mini/lib/python3.12/site-packages/anndata/utils.py:429: FutureWarning: Importing read_text from `anndata` is deprecated. Import anndata.io.read_text instead.\n",
      "  warnings.warn(msg, FutureWarning)\n",
      "/ictstr01/home/icb/eirini.giannakoulia/tools/apps/mamba/envs/mini/lib/python3.12/site-packages/anndata/utils.py:429: FutureWarning: Importing read_umi_tools from `anndata` is deprecated. Import anndata.io.read_umi_tools instead.\n",
      "  warnings.warn(msg, FutureWarning)\n",
      "/ictstr01/home/icb/eirini.giannakoulia/tools/apps/mamba/envs/mini/lib/python3.12/site-packages/dask/dataframe/__init__.py:31: FutureWarning: The legacy Dask DataFrame implementation is deprecated and will be removed in a future version. Set the configuration option `dataframe.query-planning` to `True` or None to enable the new Dask Dataframe implementation and silence this warning.\n",
      "  warnings.warn(\n",
      "/ictstr01/home/icb/eirini.giannakoulia/tools/apps/mamba/envs/mini/lib/python3.12/site-packages/anndata/utils.py:429: FutureWarning: Importing read_text from `anndata` is deprecated. Import anndata.io.read_text instead.\n",
      "  warnings.warn(msg, FutureWarning)\n"
     ]
    }
   ],
   "source": [
    "import scanpy as sc\n",
    "import numpy as np\n",
    "import pandas as pd\n",
    "from tqdm import tqdm\n",
    "import seaborn as sns\n",
    "import squidpy as sq\n",
    "from sklearn.preprocessing import StandardScaler\n",
    "# from sklearn import model_selection\n",
    "from sklearn.metrics import r2_score\n",
    "import matplotlib.pyplot as plt"
   ]
  },
  {
   "cell_type": "markdown",
   "metadata": {},
   "source": [
    "genes to keep: TH, DDC, SLC6A3, COMT, MAOA, MAOB, PINK1, PRKN, PARK7, NDUFS2, NDUFV1, ATP5A1, GPX1, SOD2, GSR, NFE2L2, TNF, IL6, CX3CR1, TREM2, SNCA, LRRK2, GBA, HSPA1A  \n",
    "\n",
    "also metabolomes to keep: 154.09, 169.07, 181.08, 198.08, 135.02, 117.00, 119.00, 90.05, 89.02, 400.29, 428.32, 703.58, 731.61, 782.57, 806.57, 523.38, 521.35, 369.35, 650.00, 308.09, 613.17, 305.24, 351.23, 351.23"
   ]
  },
  {
   "cell_type": "markdown",
   "metadata": {},
   "source": [
    "To make this easily runable for other ds, ask from user to enter input paths, name of final dataset, destination of saving"
   ]
  },
  {
   "cell_type": "code",
   "execution_count": 4,
   "metadata": {},
   "outputs": [],
   "source": [
    "path_rna = \"/lustre/groups/ml01/workspace/anastasia.litinetskaya/code/vitatrack/datasets/V11L12-038_A1.RNA_MOSCOT_paired.h5ad\"\n",
    "path_msi = \"/lustre/groups/ml01/workspace/anastasia.litinetskaya/code/vitatrack/datasets/V11L12-038_A1.MSI_MOSCOT_paired.h5ad\"\n",
    "\n",
    "\n",
    "#Make sure you use the filename at the end, eg \"path_to_dataset_dir/file_name.h5ad'\n",
    "save_rna_ds_path = \"/lustre/groups/ml01/workspace/eirini.giannakoulia/hand_prep/V11L12-038_A1.RNA_MOSCOT_paired_selectedgenesDHB.h5ad\"\n",
    "save_msi_ds_path = \"/lustre/groups/ml01/workspace/eirini.giannakoulia/hand_prep/V11L12-038_A1.MSI_MOSCOT_paired_selectedgenesDHB.h5ad\""
   ]
  },
  {
   "cell_type": "code",
   "execution_count": 5,
   "metadata": {},
   "outputs": [],
   "source": [
    "adata_msi= sc.read_h5ad(path_msi)\n",
    "adata_rna = sc.read_h5ad(path_rna)"
   ]
  },
  {
   "cell_type": "code",
   "execution_count": 6,
   "metadata": {},
   "outputs": [
    {
     "data": {
      "text/plain": [
       "AnnData object with n_obs × n_vars = 2681 × 2754\n",
       "    obs: 'technology', 'clusters', 'random_split', 'half_split', 'slide'\n",
       "    var: 'highly_variable', 'means', 'dispersions', 'dispersions_norm'\n",
       "    uns: 'clusters', 'clusters_colors', 'hvg', 'log1p', 'moranI', 'neighbors', 'pca', 'spatial_neighbors', 'umap'\n",
       "    obsm: 'X_pca', 'X_umap', 'spatial', 'spatial_warp'\n",
       "    varm: 'PCs'\n",
       "    layers: 'counts'\n",
       "    obsp: 'connectivities', 'distances', 'spatial_connectivities', 'spatial_distances'"
      ]
     },
     "execution_count": 6,
     "metadata": {},
     "output_type": "execute_result"
    }
   ],
   "source": [
    "adata_msi"
   ]
  },
  {
   "cell_type": "code",
   "execution_count": 7,
   "metadata": {},
   "outputs": [
    {
     "data": {
      "text/plain": [
       "AnnData object with n_obs × n_vars = 2681 × 14479\n",
       "    obs: 'in_tissue', 'array_row', 'array_col', 'mt_frac', 'total_counts', 'n_counts', 'n_genes', 'clusters', 'technology', 'random_split', 'half_split', 'og_index', 'slide'\n",
       "    var: 'gene_ids', 'feature_types', 'genome', 'n_cells', 'highly_variable', 'means', 'dispersions', 'dispersions_norm', 'technology'\n",
       "    uns: 'clusters', 'clusters_colors', 'hvg', 'log1p', 'moranI', 'neighbors', 'pca', 'spatial', 'spatial_neighbors', 'umap'\n",
       "    obsm: 'X_pca', 'X_umap', 'spatial', 'spatial_warp'\n",
       "    varm: 'PCs'\n",
       "    layers: 'counts'\n",
       "    obsp: 'connectivities', 'distances', 'spatial_connectivities', 'spatial_distances'"
      ]
     },
     "execution_count": 7,
     "metadata": {},
     "output_type": "execute_result"
    }
   ],
   "source": [
    "adata_rna"
   ]
  },
  {
   "cell_type": "markdown",
   "metadata": {},
   "source": [
    "Assuming the given genes will be in the above comma separated format"
   ]
  },
  {
   "cell_type": "code",
   "execution_count": 8,
   "metadata": {},
   "outputs": [
    {
     "data": {
      "text/plain": [
       "21"
      ]
     },
     "execution_count": 8,
     "metadata": {},
     "output_type": "execute_result"
    }
   ],
   "source": [
    "genes_str = \"TH, DDC, SLC6A3, COMT, MAOA, MAOB, PINK1, PRKN, PARK7, NDUFS2, NDUFV1, ATP5A1, GPX1, SOD2, GSR, NFE2L2, TNF, IL6, CX3CR1, TREM2, SNCA, LRRK2, GBA, HSPA1A\"\n",
    "gene_list = [gene.strip() for gene in genes_str.split(\",\")]\n",
    "\n",
    "#control for uppercase in given list:\n",
    "gene_upper_map = {gene.upper(): gene for gene in adata_rna.var_names}\n",
    "valid_genes = [gene_upper_map[gene.upper()] for gene in gene_list if gene.upper() in gene_upper_map]\n",
    "\n",
    "# valid_genes = [gene for gene in gene_list if gene in adata_rna.var_names]\n",
    "len(valid_genes)"
   ]
  },
  {
   "cell_type": "code",
   "execution_count": 9,
   "metadata": {},
   "outputs": [
    {
     "data": {
      "text/plain": [
       "AnnData object with n_obs × n_vars = 2681 × 21\n",
       "    obs: 'in_tissue', 'array_row', 'array_col', 'mt_frac', 'total_counts', 'n_counts', 'n_genes', 'clusters', 'technology', 'random_split', 'half_split', 'og_index', 'slide'\n",
       "    var: 'gene_ids', 'feature_types', 'genome', 'n_cells', 'highly_variable', 'means', 'dispersions', 'dispersions_norm', 'technology'\n",
       "    uns: 'clusters', 'clusters_colors', 'hvg', 'log1p', 'moranI', 'neighbors', 'pca', 'spatial', 'spatial_neighbors', 'umap'\n",
       "    obsm: 'X_pca', 'X_umap', 'spatial', 'spatial_warp'\n",
       "    varm: 'PCs'\n",
       "    layers: 'counts'\n",
       "    obsp: 'connectivities', 'distances', 'spatial_connectivities', 'spatial_distances'"
      ]
     },
     "execution_count": 9,
     "metadata": {},
     "output_type": "execute_result"
    }
   ],
   "source": [
    "adata_rna_subset = adata_rna[:, valid_genes].copy()\n",
    "adata_rna_subset"
   ]
  },
  {
   "cell_type": "code",
   "execution_count": 10,
   "metadata": {},
   "outputs": [],
   "source": [
    "adata_rna_subset.write(save_rna_ds_path) #path given on the top of the nb"
   ]
  },
  {
   "cell_type": "markdown",
   "metadata": {},
   "source": [
    "Assuming the given meatbolites will be in the above comma separated format"
   ]
  },
  {
   "cell_type": "code",
   "execution_count": 11,
   "metadata": {},
   "outputs": [],
   "source": [
    "metabolites_str = \"154.09, 169.07, 181.08, 198.08, 135.02, 117.00, 119.00, 90.05, 89.02, 400.29, 428.32, 703.58, 731.61, 782.57, 806.57, 523.38, 521.35, 369.35, 650.00, 308.09, 613.17, 305.24, 351.23, 351.23\"\n",
    "\n",
    "#Keep list of wanted metabolites as floats\n",
    "target_mzs = [float(x.strip()) for x in metabolites_str.split(\",\")]\n",
    "tol = 0.1 #add tolerance\n",
    "\n",
    "\n",
    "valid_metabolites = set()\n",
    "for target in target_mzs:\n",
    "    for peak in adata_msi.var_names:\n",
    "        peak_val = float(peak)\n",
    "        if abs(peak_val - target) <= tol:\n",
    "            valid_metabolites.add(peak)\n",
    "valid_metabolites = list(valid_metabolites)"
   ]
  },
  {
   "cell_type": "code",
   "execution_count": 12,
   "metadata": {},
   "outputs": [
    {
     "data": {
      "text/plain": [
       "24"
      ]
     },
     "execution_count": 12,
     "metadata": {},
     "output_type": "execute_result"
    }
   ],
   "source": [
    "len(target_mzs)"
   ]
  },
  {
   "cell_type": "code",
   "execution_count": 13,
   "metadata": {},
   "outputs": [
    {
     "data": {
      "text/plain": [
       "42"
      ]
     },
     "execution_count": 13,
     "metadata": {},
     "output_type": "execute_result"
    }
   ],
   "source": [
    "len(valid_metabolites)"
   ]
  },
  {
   "cell_type": "markdown",
   "metadata": {},
   "source": [
    "We see that using the full unprocessed slides many of the obtained m/z are superclose (indicating that possibly they are the ratios fromt the same metabolite) but of course this is unwanted, so the next block of code will try to clear this problem, by selecting the metabolite with the smalles absolute difference to the given values:"
   ]
  },
  {
   "cell_type": "code",
   "execution_count": 14,
   "metadata": {},
   "outputs": [
    {
     "name": "stdout",
     "output_type": "stream",
     "text": [
      "['154.05953499999998', '169.07619', '198.089485', '400.342015', '428.372025', '703.56658', '731.596855', '782.5560700000001', '806.57208', '523.354765', '369.35074', '308.089615', '613.153765', '305.302855', '351.13323']\n"
     ]
    }
   ],
   "source": [
    "selected_metabolites = []\n",
    "for target in target_mzs:\n",
    "    best_peak = None\n",
    "    best_diff = tol + 1  # initialize with a value larger than the tolerance\n",
    "    for peak in adata_msi.var_names:\n",
    "        try:\n",
    "            peak_val = float(peak)\n",
    "        except ValueError:\n",
    "            continue  # skip if conversion fails\n",
    "        diff = abs(peak_val - target)\n",
    "        if diff <= tol and diff < best_diff:\n",
    "            best_diff = diff\n",
    "            best_peak = peak\n",
    "    if best_peak is not None:\n",
    "        selected_metabolites.append(best_peak)\n",
    "\n",
    "# Remove duplicates in case different target values end up selecting the same peak\n",
    "selected_metabolites = list(dict.fromkeys(selected_metabolites))\n",
    "\n",
    "# Subset the AnnData object to include only the selected metabolite peaks\n",
    "adata_msi_subset = adata_msi[:, selected_metabolites].copy()\n",
    "print(selected_metabolites)\n",
    "len(selected_metabolites)\n",
    "adata_msi_subset.write(save_msi_ds_path) #path given on the top of the nb"
   ]
  },
  {
   "cell_type": "code",
   "execution_count": 15,
   "metadata": {},
   "outputs": [
    {
     "data": {
      "text/plain": [
       "AnnData object with n_obs × n_vars = 2681 × 15\n",
       "    obs: 'technology', 'clusters', 'random_split', 'half_split', 'slide'\n",
       "    var: 'highly_variable', 'means', 'dispersions', 'dispersions_norm'\n",
       "    uns: 'clusters', 'clusters_colors', 'hvg', 'log1p', 'moranI', 'neighbors', 'pca', 'spatial_neighbors', 'umap'\n",
       "    obsm: 'X_pca', 'X_umap', 'spatial', 'spatial_warp'\n",
       "    varm: 'PCs'\n",
       "    layers: 'counts'\n",
       "    obsp: 'connectivities', 'distances', 'spatial_connectivities', 'spatial_distances'"
      ]
     },
     "execution_count": 15,
     "metadata": {},
     "output_type": "execute_result"
    }
   ],
   "source": [
    "adata_msi_subset"
   ]
  },
  {
   "cell_type": "code",
   "execution_count": null,
   "metadata": {},
   "outputs": [],
   "source": []
  }
 ],
 "metadata": {
  "kernelspec": {
   "display_name": "Python (minimal)",
   "language": "python",
   "name": "mini"
  }
 },
 "nbformat": 4,
 "nbformat_minor": 2
}
