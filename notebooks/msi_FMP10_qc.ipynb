{
 "cells": [
  {
   "cell_type": "code",
   "execution_count": 1,
   "id": "a6add37f-37ed-4d9a-a326-9275c72882e8",
   "metadata": {},
   "outputs": [
    {
     "name": "stderr",
     "output_type": "stream",
     "text": [
      "/ictstr01/home/icb/eirini.giannakoulia/tools/apps/mamba/envs/scRNA-env/lib/python3.12/site-packages/anndata/utils.py:429: FutureWarning: Importing read_csv from `anndata` is deprecated. Import anndata.io.read_csv instead.\n",
      "  warnings.warn(msg, FutureWarning)\n",
      "/ictstr01/home/icb/eirini.giannakoulia/tools/apps/mamba/envs/scRNA-env/lib/python3.12/site-packages/anndata/utils.py:429: FutureWarning: Importing read_excel from `anndata` is deprecated. Import anndata.io.read_excel instead.\n",
      "  warnings.warn(msg, FutureWarning)\n",
      "/ictstr01/home/icb/eirini.giannakoulia/tools/apps/mamba/envs/scRNA-env/lib/python3.12/site-packages/anndata/utils.py:429: FutureWarning: Importing read_hdf from `anndata` is deprecated. Import anndata.io.read_hdf instead.\n",
      "  warnings.warn(msg, FutureWarning)\n",
      "/ictstr01/home/icb/eirini.giannakoulia/tools/apps/mamba/envs/scRNA-env/lib/python3.12/site-packages/anndata/utils.py:429: FutureWarning: Importing read_loom from `anndata` is deprecated. Import anndata.io.read_loom instead.\n",
      "  warnings.warn(msg, FutureWarning)\n",
      "/ictstr01/home/icb/eirini.giannakoulia/tools/apps/mamba/envs/scRNA-env/lib/python3.12/site-packages/anndata/utils.py:429: FutureWarning: Importing read_mtx from `anndata` is deprecated. Import anndata.io.read_mtx instead.\n",
      "  warnings.warn(msg, FutureWarning)\n",
      "/ictstr01/home/icb/eirini.giannakoulia/tools/apps/mamba/envs/scRNA-env/lib/python3.12/site-packages/anndata/utils.py:429: FutureWarning: Importing read_text from `anndata` is deprecated. Import anndata.io.read_text instead.\n",
      "  warnings.warn(msg, FutureWarning)\n",
      "/ictstr01/home/icb/eirini.giannakoulia/tools/apps/mamba/envs/scRNA-env/lib/python3.12/site-packages/anndata/utils.py:429: FutureWarning: Importing read_umi_tools from `anndata` is deprecated. Import anndata.io.read_umi_tools instead.\n",
      "  warnings.warn(msg, FutureWarning)\n",
      "/ictstr01/home/icb/eirini.giannakoulia/tools/apps/mamba/envs/scRNA-env/lib/python3.12/site-packages/dask/dataframe/__init__.py:31: FutureWarning: The legacy Dask DataFrame implementation is deprecated and will be removed in a future version. Set the configuration option `dataframe.query-planning` to `True` or None to enable the new Dask Dataframe implementation and silence this warning.\n",
      "  warnings.warn(\n",
      "/ictstr01/home/icb/eirini.giannakoulia/tools/apps/mamba/envs/scRNA-env/lib/python3.12/site-packages/anndata/utils.py:429: FutureWarning: Importing read_text from `anndata` is deprecated. Import anndata.io.read_text instead.\n",
      "  warnings.warn(msg, FutureWarning)\n"
     ]
    }
   ],
   "source": [
    "import scanpy as sc\n",
    "# import wandb\n",
    "# from utils import find_closest_points\n",
    "import numpy as np\n",
    "import pandas as pd\n",
    "# import gensim\n",
    "# from gensim.models import word2vec\n",
    "from tqdm import tqdm\n",
    "from scipy.spatial import cKDTree\n",
    "from sklearn import model_selection\n",
    "import seaborn as sns\n",
    "import squidpy as sq\n",
    "from sklearn.preprocessing import StandardScaler\n",
    "from xgboost import XGBRegressor\n",
    "from sklearn.metrics import r2_score\n",
    "# import nichepca as npc\n",
    "import matplotlib.pyplot as plt\n",
    "%load_ext autoreload\n",
    "%autoreload 2"
   ]
  },
  {
   "cell_type": "markdown",
   "id": "0198a982-4c50-4fe9-93c6-e496992d440a",
   "metadata": {},
   "source": [
    "Read data"
   ]
  },
  {
   "cell_type": "code",
   "execution_count": null,
   "id": "d427c87a",
   "metadata": {},
   "outputs": [],
   "source": []
  },
  {
   "cell_type": "code",
   "execution_count": 2,
   "id": "3f9adf53-6d9d-44f8-a010-d2cea66d8ddb",
   "metadata": {},
   "outputs": [
    {
     "name": "stderr",
     "output_type": "stream",
     "text": [
      "/ictstr01/home/icb/eirini.giannakoulia/tools/apps/mamba/envs/scRNA-env/lib/python3.12/site-packages/anndata/_core/anndata.py:1756: UserWarning: Observation names are not unique. To make them unique, call `.obs_names_make_unique`.\n",
      "  utils.warn_names_duplicates(\"obs\")\n",
      "/ictstr01/home/icb/eirini.giannakoulia/tools/apps/mamba/envs/scRNA-env/lib/python3.12/site-packages/anndata/_core/anndata.py:1756: UserWarning: Observation names are not unique. To make them unique, call `.obs_names_make_unique`.\n",
      "  utils.warn_names_duplicates(\"obs\")\n"
     ]
    }
   ],
   "source": [
    "# adata_msi_full = sc.read('/lustre/groups/ml01/workspace/eirini.giannakoulia/datasets/MSI_concat_neurotransmitters.h5ad')\n",
    "# adata_rna_full = sc.read('/lustre/groups/ml01/workspace/eirini.giannakoulia/datasets/RNA_concat_neurotransmitters.h5ad')\n",
    "adata_msi_full = sc.read('/lustre/groups/ml01/workspace/anastasia.litinetskaya/code/vitatrack/datasets/MSI_concat_neurotransmitters.h5ad')\n",
    "adata_rna_full = sc.read('/lustre/groups/ml01/workspace/anastasia.litinetskaya/code/vitatrack/datasets/RNA_concat_neurotransmitters.h5ad')\n"
   ]
  },
  {
   "cell_type": "markdown",
   "id": "d2f4f295-4af7-4c84-921e-9a0354e53dcd",
   "metadata": {},
   "source": [
    "Subset to slides A1 and B1"
   ]
  },
  {
   "cell_type": "code",
   "execution_count": 3,
   "id": "87f3cbe6",
   "metadata": {},
   "outputs": [
    {
     "data": {
      "text/plain": [
       "AnnData object with n_obs × n_vars = 5443 × 1538\n",
       "    obs: 'technology', 'clusters', 'random_split', 'half_split', 'slide', 'msi_concat_clusters'\n",
       "    var: 'highly_variable', 'means', 'dispersions', 'dispersions_norm', 'highly_variable_nbatches', 'highly_variable_intersection', 'spatialy_highly_variable', 'msi_highly_variable'\n",
       "    uns: 'hvg', 'msi_concat_clusters', 'neighbors', 'pca', 'slide_colors', 'umap'\n",
       "    obsm: 'X_pca', 'X_umap', 'spatial', 'spatial_warp'\n",
       "    varm: 'PCs'\n",
       "    layers: 'counts'\n",
       "    obsp: 'connectivities', 'distances'"
      ]
     },
     "execution_count": 3,
     "metadata": {},
     "output_type": "execute_result"
    }
   ],
   "source": [
    "adata_msi_full"
   ]
  },
  {
   "cell_type": "code",
   "execution_count": 4,
   "id": "b35c4741-0549-46d0-99ff-2dbbcf23fc38",
   "metadata": {},
   "outputs": [],
   "source": [
    "adata_msi = adata_msi_full[adata_msi_full.obs.slide != \"V11L12-109_C1\", :].copy()#, adata_msi_full.var.highly_variable].copy()# & adata_rna.obs.highly_variable"
   ]
  },
  {
   "cell_type": "code",
   "execution_count": 5,
   "id": "21e47be3",
   "metadata": {},
   "outputs": [
    {
     "data": {
      "text/plain": [
       "AnnData object with n_obs × n_vars = 5443 × 1538\n",
       "    obs: 'technology', 'clusters', 'random_split', 'half_split', 'slide', 'msi_concat_clusters'\n",
       "    var: 'highly_variable', 'means', 'dispersions', 'dispersions_norm', 'highly_variable_nbatches', 'highly_variable_intersection', 'spatialy_highly_variable', 'msi_highly_variable'\n",
       "    uns: 'hvg', 'msi_concat_clusters', 'neighbors', 'pca', 'slide_colors', 'umap'\n",
       "    obsm: 'X_pca', 'X_umap', 'spatial', 'spatial_warp'\n",
       "    varm: 'PCs'\n",
       "    layers: 'counts'\n",
       "    obsp: 'connectivities', 'distances'"
      ]
     },
     "execution_count": 5,
     "metadata": {},
     "output_type": "execute_result"
    }
   ],
   "source": [
    "adata_msi #slide 3 not included in MSI_concat_neuro"
   ]
  },
  {
   "cell_type": "markdown",
   "id": "30b9d1e5-7c7f-4c50-b36a-5f197a0eeb23",
   "metadata": {},
   "source": [
    "Remove m/z below FMP10, because most likely this is noise "
   ]
  },
  {
   "cell_type": "code",
   "execution_count": 6,
   "id": "3ef1d73b",
   "metadata": {},
   "outputs": [
    {
     "data": {
      "text/plain": [
       "Index(['156.26059', '156.26195', '156.48344', '156.4838', '156.485',\n",
       "       '157.54681', '158.41217', '160.02547', '170.45622', '170.45738',\n",
       "       ...\n",
       "       '1044.29885', '1044.3523', '1046.31366', '1046.32671', '1046.33977',\n",
       "       '1046.36442', '1048.32025', '1048.3319', '1048.34354', '1048.38431'],\n",
       "      dtype='object', length=1538)"
      ]
     },
     "execution_count": 6,
     "metadata": {},
     "output_type": "execute_result"
    }
   ],
   "source": [
    "adata_msi_full.var_names"
   ]
  },
  {
   "cell_type": "code",
   "execution_count": 7,
   "id": "159ce473-f1ba-46d0-90af-aed6c768db23",
   "metadata": {},
   "outputs": [
    {
     "name": "stderr",
     "output_type": "stream",
     "text": [
      "/ictstr01/home/icb/eirini.giannakoulia/tools/apps/mamba/envs/scRNA-env/lib/python3.12/site-packages/anndata/_core/anndata.py:1756: UserWarning: Observation names are not unique. To make them unique, call `.obs_names_make_unique`.\n",
      "  utils.warn_names_duplicates(\"obs\")\n"
     ]
    }
   ],
   "source": [
    "adata_msi = adata_msi[:, adata_msi.var_names.astype(float) > 288.15].copy()"
   ]
  },
  {
   "cell_type": "code",
   "execution_count": 8,
   "id": "5df02980-efc1-4475-bbac-26866ed2615e",
   "metadata": {},
   "outputs": [
    {
     "data": {
      "text/plain": [
       "AnnData object with n_obs × n_vars = 5443 × 1361\n",
       "    obs: 'technology', 'clusters', 'random_split', 'half_split', 'slide', 'msi_concat_clusters'\n",
       "    var: 'highly_variable', 'means', 'dispersions', 'dispersions_norm', 'highly_variable_nbatches', 'highly_variable_intersection', 'spatialy_highly_variable', 'msi_highly_variable'\n",
       "    uns: 'hvg', 'msi_concat_clusters', 'neighbors', 'pca', 'slide_colors', 'umap'\n",
       "    obsm: 'X_pca', 'X_umap', 'spatial', 'spatial_warp'\n",
       "    varm: 'PCs'\n",
       "    layers: 'counts'\n",
       "    obsp: 'connectivities', 'distances'"
      ]
     },
     "execution_count": 8,
     "metadata": {},
     "output_type": "execute_result"
    }
   ],
   "source": [
    "adata_msi"
   ]
  },
  {
   "cell_type": "markdown",
   "id": "7b5d66fc-702f-4603-9ff6-db4422143d26",
   "metadata": {},
   "source": [
    "QC"
   ]
  },
  {
   "cell_type": "code",
   "execution_count": 9,
   "id": "a8316743-416c-4841-a492-ca5132156cfb",
   "metadata": {},
   "outputs": [],
   "source": [
    "sc.pp.calculate_qc_metrics(adata_msi, inplace=True)"
   ]
  },
  {
   "cell_type": "code",
   "execution_count": 10,
   "id": "68b55e53-46d0-47be-b0a8-084c07191ea9",
   "metadata": {},
   "outputs": [
    {
     "data": {
      "text/plain": [
       "<Axes: xlabel='total_counts', ylabel='Count'>"
      ]
     },
     "execution_count": 10,
     "metadata": {},
     "output_type": "execute_result"
    },
    {
     "data": {
      "image/png": "[encoded data removed]",
      "text/plain": [
       "<Figure size 640x480 with 1 Axes>"
      ]
     },
     "metadata": {},
     "output_type": "display_data"
    }
   ],
   "source": [
    "sns.histplot(adata_msi.obs.total_counts)"
   ]
  },
  {
   "cell_type": "code",
   "execution_count": 11,
   "id": "4572d753-fc30-4c0d-b12a-22dfe86e0fdd",
   "metadata": {},
   "outputs": [
    {
     "data": {
      "text/plain": [
       "<Axes: xlabel='n_cells_by_counts', ylabel='Count'>"
      ]
     },
     "execution_count": 11,
     "metadata": {},
     "output_type": "execute_result"
    },
    {
     "data": {
      "image/png": "[encoded data removed]",
      "text/plain": [
       "<Figure size 640x480 with 1 Axes>"
      ]
     },
     "metadata": {},
     "output_type": "display_data"
    }
   ],
   "source": [
    "sns.histplot(adata_msi.var.n_cells_by_counts)"
   ]
  },
  {
   "cell_type": "code",
   "execution_count": 12,
   "id": "2f08bdcd-3a64-40da-9fee-de298be48b7b",
   "metadata": {},
   "outputs": [
    {
     "data": {
      "text/plain": [
       "count    1361.000000\n",
       "mean     1519.506980\n",
       "std      1639.893486\n",
       "min       367.000000\n",
       "25%       510.000000\n",
       "50%       632.000000\n",
       "75%      1718.000000\n",
       "max      5443.000000\n",
       "Name: n_cells_by_counts, dtype: float64"
      ]
     },
     "execution_count": 12,
     "metadata": {},
     "output_type": "execute_result"
    }
   ],
   "source": [
    "adata_msi.var.n_cells_by_counts.describe()"
   ]
  },
  {
   "cell_type": "markdown",
   "id": "26359687-70a0-4f0a-a66c-0a6961bb7b1e",
   "metadata": {},
   "source": [
    "Removing highly abundant m/z because this is also most likely noise "
   ]
  },
  {
   "cell_type": "code",
   "execution_count": 13,
   "id": "4936a7d3-70ce-4adc-8439-b2bd4f8604f3",
   "metadata": {},
   "outputs": [
    {
     "name": "stderr",
     "output_type": "stream",
     "text": [
      "/ictstr01/home/icb/eirini.giannakoulia/tools/apps/mamba/envs/scRNA-env/lib/python3.12/site-packages/anndata/_core/anndata.py:1756: UserWarning: Observation names are not unique. To make them unique, call `.obs_names_make_unique`.\n",
      "  utils.warn_names_duplicates(\"obs\")\n"
     ]
    }
   ],
   "source": [
    "sc.pp.filter_genes(adata_msi, max_cells=1750)"
   ]
  },
  {
   "cell_type": "code",
   "execution_count": 14,
   "id": "398ef97e-c79c-46b7-b907-fe7108646be5",
   "metadata": {},
   "outputs": [
    {
     "data": {
      "text/plain": [
       "<Axes: xlabel='n_cells_by_counts', ylabel='Count'>"
      ]
     },
     "execution_count": 14,
     "metadata": {},
     "output_type": "execute_result"
    },
    {
     "data": {
      "image/png": "[encoded data removed]",
      "text/plain": [
       "<Figure size 640x480 with 1 Axes>"
      ]
     },
     "metadata": {},
     "output_type": "display_data"
    }
   ],
   "source": [
    "sns.histplot(adata_msi.var.n_cells_by_counts)"
   ]
  },
  {
   "cell_type": "code",
   "execution_count": 15,
   "id": "0426d1e8-1c7c-4915-9dc3-cd6e470a8a5b",
   "metadata": {},
   "outputs": [
    {
     "data": {
      "text/plain": [
       "<Axes: xlabel='total_counts', ylabel='Count'>"
      ]
     },
     "execution_count": 15,
     "metadata": {},
     "output_type": "execute_result"
    },
    {
     "data": {
      "image/png": "[encoded data removed]",
      "text/plain": [
       "<Figure size 640x480 with 1 Axes>"
      ]
     },
     "metadata": {},
     "output_type": "display_data"
    }
   ],
   "source": [
    "sns.histplot(adata_msi.obs.total_counts)"
   ]
  },
  {
   "cell_type": "markdown",
   "id": "2e0e1e2c-836e-4439-bb52-c54fa600a66e",
   "metadata": {},
   "source": [
    "Read metabolite annotations from the FMP10 paper"
   ]
  },
  {
   "cell_type": "code",
   "execution_count": 16,
   "id": "af374bda-0c53-4db1-b437-cc43cfb317d9",
   "metadata": {},
   "outputs": [],
   "source": [
    "names = pd.read_csv(\"/lustre/groups/ml01/workspace/eirini.giannakoulia/datasets/FMP10_metabolite_weights.csv\").iloc[:, :2]"
   ]
  },
  {
   "cell_type": "code",
   "execution_count": 17,
   "id": "61db3577-f868-40a3-ab63-e784aa34162a",
   "metadata": {},
   "outputs": [],
   "source": [
    "names[\"Observed Mass (m/z) coarse\"] = names[\"Observed Mass (m/z)\"].round(1)"
   ]
  },
  {
   "cell_type": "code",
   "execution_count": 18,
   "id": "75e5f22a-e07c-4d78-8a43-dfea6e802a8f",
   "metadata": {},
   "outputs": [],
   "source": [
    "m_z = adata_msi.var_names.astype(float).round(1)"
   ]
  },
  {
   "cell_type": "markdown",
   "id": "a3d866f6-2a50-46ea-b6b6-4633a4906029",
   "metadata": {},
   "source": [
    "Coarsly annotating metabolites"
   ]
  },
  {
   "cell_type": "code",
   "execution_count": 19,
   "id": "98ef8ba6-e051-4a20-b4df-6309055dd37a",
   "metadata": {},
   "outputs": [],
   "source": [
    "len(set(names[\"Observed Mass (m/z) coarse\"]).intersection(set(m_z)))\n",
    "\n",
    "new_vars = []\n",
    "for col in adata_msi.var_names.astype(float).round(1):\n",
    "    if col in names[\"Observed Mass (m/z) coarse\"].tolist() and names.loc[names[\"Observed Mass (m/z) coarse\"] == col][\"Compound\"].shape[0] == 1:\n",
    "        new_vars.append(names.loc[names[\"Observed Mass (m/z) coarse\"] == col][\"Compound\"].tolist()[0])\n",
    "    else:\n",
    "        new_vars.append(str(col))"
   ]
  },
  {
   "cell_type": "code",
   "execution_count": 20,
   "id": "fcb109f2-7643-4ea1-b7e1-5b21186e58c8",
   "metadata": {},
   "outputs": [],
   "source": [
    "adata_msi.var_names_new = new_vars"
   ]
  },
  {
   "cell_type": "markdown",
   "id": "8fb08d0f-f3a1-414e-9789-0aed56868d21",
   "metadata": {},
   "source": [
    "Plotting some of metabolite expressions"
   ]
  },
  {
   "cell_type": "code",
   "execution_count": 69,
   "id": "31244ccf-a247-4369-8268-cd37ae11c4fe",
   "metadata": {
    "scrolled": true
   },
   "outputs": [],
   "source": [
    "# for i, col in enumerate(adata_msi.var_names_new):\n",
    "#     try:\n",
    "#         a= float(col)\n",
    "#         continue\n",
    "#     except:\n",
    "#         sns.scatterplot(x=adata_msi[adata_msi.obs.slide == \"V11L12-109_A1\"].obsm[\"spatial_warp\"][:, 0], \n",
    "#                         y=adata_msi[adata_msi.obs.slide == \"V11L12-109_A1\"].obsm[\"spatial_warp\"][:, 1], \n",
    "#                         c=adata_msi[adata_msi.obs.slide == \"V11L12-109_A1\"].X[:, i].flatten(),\n",
    "#                        s=15)\n",
    "#         plt.title(col)\n",
    "#         plt.show()"
   ]
  },
  {
   "cell_type": "code",
   "execution_count": null,
   "id": "38157ccf-8b07-4a5d-b7e8-ce0770e4aaca",
   "metadata": {},
   "outputs": [],
   "source": [
    "sq.gr.spatial_neighbors(adata_msi, spatial_key='spatial_warp', )"
   ]
  },
  {
   "cell_type": "code",
   "execution_count": 23,
   "id": "2d1aa799-e0a6-48e6-97c5-7d30d6d3e669",
   "metadata": {},
   "outputs": [
    {
     "data": {
      "text/plain": [
       "AnnData object with n_obs × n_vars = 5443 × 1026\n",
       "    obs: 'technology', 'clusters', 'random_split', 'half_split', 'slide', 'msi_concat_clusters', 'n_genes_by_counts', 'log1p_n_genes_by_counts', 'total_counts', 'log1p_total_counts', 'pct_counts_in_top_50_genes', 'pct_counts_in_top_100_genes', 'pct_counts_in_top_200_genes', 'pct_counts_in_top_500_genes'\n",
       "    var: 'highly_variable', 'means', 'dispersions', 'dispersions_norm', 'highly_variable_nbatches', 'highly_variable_intersection', 'spatialy_highly_variable', 'msi_highly_variable', 'n_cells_by_counts', 'mean_counts', 'log1p_mean_counts', 'pct_dropout_by_counts', 'total_counts', 'log1p_total_counts', 'n_cells'\n",
       "    uns: 'hvg', 'msi_concat_clusters', 'neighbors', 'pca', 'slide_colors', 'umap', 'spatial_neighbors'\n",
       "    obsm: 'X_pca', 'X_umap', 'spatial', 'spatial_warp'\n",
       "    varm: 'PCs'\n",
       "    layers: 'counts'\n",
       "    obsp: 'connectivities', 'distances', 'spatial_connectivities', 'spatial_distances'"
      ]
     },
     "execution_count": 23,
     "metadata": {},
     "output_type": "execute_result"
    }
   ],
   "source": [
    "adata_msi"
   ]
  },
  {
   "cell_type": "markdown",
   "id": "0cab9454-1daf-4dfb-9a91-b654f245927e",
   "metadata": {},
   "source": [
    "Checking is some m/z are spatially variable after removing noize"
   ]
  },
  {
   "cell_type": "code",
   "execution_count": 24,
   "id": "9664fe9b-5cce-4e8e-9585-99aa2f3a91ff",
   "metadata": {},
   "outputs": [],
   "source": [
    "sq.gr.spatial_autocorr(adata_msi)"
   ]
  },
  {
   "cell_type": "code",
   "execution_count": 25,
   "id": "eb10a682",
   "metadata": {},
   "outputs": [
    {
     "data": {
      "text/html": [
       "<div>\n",
       "<style scoped>\n",
       "    .dataframe tbody tr th:only-of-type {\n",
       "        vertical-align: middle;\n",
       "    }\n",
       "\n",
       "    .dataframe tbody tr th {\n",
       "        vertical-align: top;\n",
       "    }\n",
       "\n",
       "    .dataframe thead th {\n",
       "        text-align: right;\n",
       "    }\n",
       "</style>\n",
       "<table border=\"1\" class=\"dataframe\">\n",
       "  <thead>\n",
       "    <tr style=\"text-align: right;\">\n",
       "      <th></th>\n",
       "      <th>I</th>\n",
       "      <th>pval_norm</th>\n",
       "      <th>var_norm</th>\n",
       "      <th>pval_norm_fdr_bh</th>\n",
       "    </tr>\n",
       "  </thead>\n",
       "  <tbody>\n",
       "    <tr>\n",
       "      <th>1006.2271</th>\n",
       "      <td>0.022269</td>\n",
       "      <td>1.004602e-03</td>\n",
       "      <td>0.000053</td>\n",
       "      <td>3.036990e-02</td>\n",
       "    </tr>\n",
       "    <tr>\n",
       "      <th>400.18521</th>\n",
       "      <td>0.022781</td>\n",
       "      <td>7.905536e-04</td>\n",
       "      <td>0.000053</td>\n",
       "      <td>2.589063e-02</td>\n",
       "    </tr>\n",
       "    <tr>\n",
       "      <th>435.20692</th>\n",
       "      <td>0.431915</td>\n",
       "      <td>0.000000e+00</td>\n",
       "      <td>0.000053</td>\n",
       "      <td>0.000000e+00</td>\n",
       "    </tr>\n",
       "    <tr>\n",
       "      <th>445.09869</th>\n",
       "      <td>0.023735</td>\n",
       "      <td>4.998920e-04</td>\n",
       "      <td>0.000053</td>\n",
       "      <td>1.785978e-02</td>\n",
       "    </tr>\n",
       "    <tr>\n",
       "      <th>569.25386</th>\n",
       "      <td>0.024726</td>\n",
       "      <td>3.052923e-04</td>\n",
       "      <td>0.000053</td>\n",
       "      <td>1.199799e-02</td>\n",
       "    </tr>\n",
       "    <tr>\n",
       "      <th>674.2805</th>\n",
       "      <td>0.264561</td>\n",
       "      <td>0.000000e+00</td>\n",
       "      <td>0.000053</td>\n",
       "      <td>0.000000e+00</td>\n",
       "    </tr>\n",
       "    <tr>\n",
       "      <th>674.28592</th>\n",
       "      <td>0.396906</td>\n",
       "      <td>0.000000e+00</td>\n",
       "      <td>0.000053</td>\n",
       "      <td>0.000000e+00</td>\n",
       "    </tr>\n",
       "    <tr>\n",
       "      <th>674.28833</th>\n",
       "      <td>0.442162</td>\n",
       "      <td>0.000000e+00</td>\n",
       "      <td>0.000053</td>\n",
       "      <td>0.000000e+00</td>\n",
       "    </tr>\n",
       "    <tr>\n",
       "      <th>675.28961</th>\n",
       "      <td>0.189879</td>\n",
       "      <td>0.000000e+00</td>\n",
       "      <td>0.000053</td>\n",
       "      <td>0.000000e+00</td>\n",
       "    </tr>\n",
       "    <tr>\n",
       "      <th>675.29202</th>\n",
       "      <td>0.325730</td>\n",
       "      <td>0.000000e+00</td>\n",
       "      <td>0.000053</td>\n",
       "      <td>0.000000e+00</td>\n",
       "    </tr>\n",
       "    <tr>\n",
       "      <th>682.12245</th>\n",
       "      <td>0.021086</td>\n",
       "      <td>1.715933e-03</td>\n",
       "      <td>0.000053</td>\n",
       "      <td>4.816870e-02</td>\n",
       "    </tr>\n",
       "    <tr>\n",
       "      <th>805.33878</th>\n",
       "      <td>0.025653</td>\n",
       "      <td>1.893959e-04</td>\n",
       "      <td>0.000053</td>\n",
       "      <td>9.304075e-03</td>\n",
       "    </tr>\n",
       "    <tr>\n",
       "      <th>843.3189</th>\n",
       "      <td>0.024872</td>\n",
       "      <td>2.833755e-04</td>\n",
       "      <td>0.000053</td>\n",
       "      <td>1.199799e-02</td>\n",
       "    </tr>\n",
       "    <tr>\n",
       "      <th>858.31325</th>\n",
       "      <td>0.040863</td>\n",
       "      <td>8.169561e-09</td>\n",
       "      <td>0.000053</td>\n",
       "      <td>4.586625e-07</td>\n",
       "    </tr>\n",
       "  </tbody>\n",
       "</table>\n",
       "</div>"
      ],
      "text/plain": [
       "                  I     pval_norm  var_norm  pval_norm_fdr_bh\n",
       "1006.2271  0.022269  1.004602e-03  0.000053      3.036990e-02\n",
       "400.18521  0.022781  7.905536e-04  0.000053      2.589063e-02\n",
       "435.20692  0.431915  0.000000e+00  0.000053      0.000000e+00\n",
       "445.09869  0.023735  4.998920e-04  0.000053      1.785978e-02\n",
       "569.25386  0.024726  3.052923e-04  0.000053      1.199799e-02\n",
       "674.2805   0.264561  0.000000e+00  0.000053      0.000000e+00\n",
       "674.28592  0.396906  0.000000e+00  0.000053      0.000000e+00\n",
       "674.28833  0.442162  0.000000e+00  0.000053      0.000000e+00\n",
       "675.28961  0.189879  0.000000e+00  0.000053      0.000000e+00\n",
       "675.29202  0.325730  0.000000e+00  0.000053      0.000000e+00\n",
       "682.12245  0.021086  1.715933e-03  0.000053      4.816870e-02\n",
       "805.33878  0.025653  1.893959e-04  0.000053      9.304075e-03\n",
       "843.3189   0.024872  2.833755e-04  0.000053      1.199799e-02\n",
       "858.31325  0.040863  8.169561e-09  0.000053      4.586625e-07"
      ]
     },
     "execution_count": 25,
     "metadata": {},
     "output_type": "execute_result"
    }
   ],
   "source": [
    "adata_msi.uns[\"moranI\"].loc[adata_msi.uns[\"moranI\"].pval_norm_fdr_bh < 0.05].sort_index()"
   ]
  },
  {
   "cell_type": "code",
   "execution_count": 26,
   "id": "11b2d53e",
   "metadata": {},
   "outputs": [
    {
     "data": {
      "text/plain": [
       "AnnData object with n_obs × n_vars = 5443 × 1026\n",
       "    obs: 'technology', 'clusters', 'random_split', 'half_split', 'slide', 'msi_concat_clusters', 'n_genes_by_counts', 'log1p_n_genes_by_counts', 'total_counts', 'log1p_total_counts', 'pct_counts_in_top_50_genes', 'pct_counts_in_top_100_genes', 'pct_counts_in_top_200_genes', 'pct_counts_in_top_500_genes'\n",
       "    var: 'highly_variable', 'means', 'dispersions', 'dispersions_norm', 'highly_variable_nbatches', 'highly_variable_intersection', 'spatialy_highly_variable', 'msi_highly_variable', 'n_cells_by_counts', 'mean_counts', 'log1p_mean_counts', 'pct_dropout_by_counts', 'total_counts', 'log1p_total_counts', 'n_cells'\n",
       "    uns: 'hvg', 'msi_concat_clusters', 'neighbors', 'pca', 'slide_colors', 'umap', 'spatial_neighbors', 'moranI'\n",
       "    obsm: 'X_pca', 'X_umap', 'spatial', 'spatial_warp'\n",
       "    varm: 'PCs'\n",
       "    layers: 'counts'\n",
       "    obsp: 'connectivities', 'distances', 'spatial_connectivities', 'spatial_distances'"
      ]
     },
     "execution_count": 26,
     "metadata": {},
     "output_type": "execute_result"
    }
   ],
   "source": [
    "adata_msi"
   ]
  },
  {
   "cell_type": "code",
   "execution_count": 27,
   "id": "458acd49-a52d-40f1-b428-34cc52268e48",
   "metadata": {},
   "outputs": [
    {
     "data": {
      "text/plain": [
       "Index(['674.28833', '435.20692', '674.28592', '675.29202', '674.2805',\n",
       "       '675.28961', '858.31325', '805.33878', '843.3189', '569.25386',\n",
       "       '445.09869', '400.18521', '1006.2271', '682.12245'],\n",
       "      dtype='object')"
      ]
     },
     "execution_count": 27,
     "metadata": {},
     "output_type": "execute_result"
    }
   ],
   "source": [
    "adata_msi.uns[\"moranI\"].loc[adata_msi.uns[\"moranI\"].pval_norm_fdr_bh < 0.05].index.round(1)"
   ]
  },
  {
   "cell_type": "code",
   "execution_count": 28,
   "id": "512cce80",
   "metadata": {},
   "outputs": [
    {
     "data": {
      "text/plain": [
       "Index([ 674.3,  435.2,  674.3,  675.3,  674.3,  675.3,  858.3,  805.3,  843.3,\n",
       "        569.3,  445.1,  400.2, 1006.2,  682.1],\n",
       "      dtype='float64')"
      ]
     },
     "execution_count": 28,
     "metadata": {},
     "output_type": "execute_result"
    }
   ],
   "source": [
    "adata_msi.uns[\"moranI\"].loc[adata_msi.uns[\"moranI\"].pval_norm_fdr_bh < 0.05].index.astype(float).round(1)"
   ]
  },
  {
   "cell_type": "code",
   "execution_count": 29,
   "id": "6e18be1b-fa00-4089-86d5-172f8203b217",
   "metadata": {},
   "outputs": [],
   "source": [
    "inter = list(set(adata_msi.uns[\"moranI\"].loc[adata_msi.uns[\"moranI\"].pval_norm_fdr_bh < 0.05].index.astype(float).round(1)).intersection(set(names[\"Observed Mass (m/z) coarse\"])))"
   ]
  },
  {
   "cell_type": "code",
   "execution_count": 30,
   "id": "0822be56",
   "metadata": {},
   "outputs": [
    {
     "data": {
      "text/plain": [
       "115     356.2\n",
       "43      357.2\n",
       "74      371.2\n",
       "124     373.2\n",
       "75      379.2\n",
       "        ...  \n",
       "0      1122.5\n",
       "37     1196.4\n",
       "36     1210.5\n",
       "35     1224.5\n",
       "34     1238.5\n",
       "Name: Observed Mass (m/z) coarse, Length: 141, dtype: float64"
      ]
     },
     "execution_count": 30,
     "metadata": {},
     "output_type": "execute_result"
    }
   ],
   "source": [
    "names[\"Observed Mass (m/z) coarse\"].sort_values()"
   ]
  },
  {
   "cell_type": "code",
   "execution_count": 31,
   "id": "a9a5aca3",
   "metadata": {},
   "outputs": [
    {
     "data": {
      "text/plain": [
       "Index([ 674.3,  435.2,  674.3,  675.3,  674.3,  675.3,  858.3,  805.3,  843.3,\n",
       "        569.3,  445.1,  400.2, 1006.2,  682.1],\n",
       "      dtype='float64')"
      ]
     },
     "execution_count": 31,
     "metadata": {},
     "output_type": "execute_result"
    }
   ],
   "source": [
    "adata_msi.uns[\"moranI\"].loc[adata_msi.uns[\"moranI\"].pval_norm_fdr_bh < 0.05].index.astype(float).round(1)"
   ]
  },
  {
   "cell_type": "code",
   "execution_count": null,
   "id": "30b5c586",
   "metadata": {},
   "outputs": [],
   "source": []
  },
  {
   "cell_type": "code",
   "execution_count": 32,
   "id": "b749dd34",
   "metadata": {},
   "outputs": [
    {
     "data": {
      "text/plain": [
       "{435.2}"
      ]
     },
     "execution_count": 32,
     "metadata": {},
     "output_type": "execute_result"
    }
   ],
   "source": [
    "set(adata_msi.uns[\"moranI\"].loc[adata_msi.uns[\"moranI\"].pval_norm_fdr_bh < 0.05].index.astype(float).round(1)).intersection(set(names[\"Observed Mass (m/z) coarse\"]))"
   ]
  },
  {
   "cell_type": "code",
   "execution_count": 33,
   "id": "dc423e6c",
   "metadata": {},
   "outputs": [
    {
     "data": {
      "text/plain": [
       "0      1122.5\n",
       "1      1108.4\n",
       "2       855.4\n",
       "3       701.3\n",
       "4       687.3\n",
       "        ...  \n",
       "136     658.9\n",
       "137     385.2\n",
       "138     480.2\n",
       "139     478.2\n",
       "140     466.2\n",
       "Name: Observed Mass (m/z) coarse, Length: 141, dtype: float64"
      ]
     },
     "execution_count": 33,
     "metadata": {},
     "output_type": "execute_result"
    }
   ],
   "source": [
    "names[\"Observed Mass (m/z) coarse\"]"
   ]
  },
  {
   "cell_type": "code",
   "execution_count": 34,
   "id": "f84acb15",
   "metadata": {},
   "outputs": [
    {
     "data": {
      "text/plain": [
       "Index([ 674.3,  435.2,  674.3,  675.3,  674.3,  675.3,  858.3,  805.3,  843.3,\n",
       "        569.3,  445.1,  400.2, 1006.2,  682.1],\n",
       "      dtype='float64')"
      ]
     },
     "execution_count": 34,
     "metadata": {},
     "output_type": "execute_result"
    }
   ],
   "source": [
    "adata_msi.uns[\"moranI\"].loc[adata_msi.uns[\"moranI\"].pval_norm_fdr_bh < 0.05].index.astype(float).round(1)"
   ]
  },
  {
   "cell_type": "code",
   "execution_count": 35,
   "id": "b79ef4b1",
   "metadata": {},
   "outputs": [
    {
     "data": {
      "text/plain": [
       "Index([ 674.3,  435.2,  674.3,  675.3,  674.3,  675.3,  858.3,  805.3,  843.3,\n",
       "        569.3,  445.1,  400.2, 1006.2,  682.1],\n",
       "      dtype='float64')"
      ]
     },
     "execution_count": 35,
     "metadata": {},
     "output_type": "execute_result"
    }
   ],
   "source": [
    "adata_msi.uns[\"moranI\"].loc[adata_msi.uns[\"moranI\"].pval_norm_fdr_bh < 0.05].index.astype(float).round(1)"
   ]
  },
  {
   "cell_type": "code",
   "execution_count": 36,
   "id": "c8391bb9",
   "metadata": {},
   "outputs": [
    {
     "data": {
      "text/plain": [
       "0      1122.5\n",
       "1      1108.4\n",
       "2       855.4\n",
       "3       701.3\n",
       "4       687.3\n",
       "        ...  \n",
       "136     658.9\n",
       "137     385.2\n",
       "138     480.2\n",
       "139     478.2\n",
       "140     466.2\n",
       "Name: Observed Mass (m/z) coarse, Length: 141, dtype: float64"
      ]
     },
     "execution_count": 36,
     "metadata": {},
     "output_type": "execute_result"
    }
   ],
   "source": [
    "names[\"Observed Mass (m/z) coarse\"]"
   ]
  },
  {
   "cell_type": "code",
   "execution_count": 37,
   "id": "beefbd8a",
   "metadata": {},
   "outputs": [
    {
     "data": {
      "text/html": [
       "<div>\n",
       "<style scoped>\n",
       "    .dataframe tbody tr th:only-of-type {\n",
       "        vertical-align: middle;\n",
       "    }\n",
       "\n",
       "    .dataframe tbody tr th {\n",
       "        vertical-align: top;\n",
       "    }\n",
       "\n",
       "    .dataframe thead th {\n",
       "        text-align: right;\n",
       "    }\n",
       "</style>\n",
       "<table border=\"1\" class=\"dataframe\">\n",
       "  <thead>\n",
       "    <tr style=\"text-align: right;\">\n",
       "      <th></th>\n",
       "      <th>var_names</th>\n",
       "    </tr>\n",
       "  </thead>\n",
       "  <tbody>\n",
       "    <tr>\n",
       "      <th>0</th>\n",
       "      <td>289.11568</td>\n",
       "    </tr>\n",
       "    <tr>\n",
       "      <th>1</th>\n",
       "      <td>289.11778</td>\n",
       "    </tr>\n",
       "    <tr>\n",
       "      <th>2</th>\n",
       "      <td>289.11933</td>\n",
       "    </tr>\n",
       "    <tr>\n",
       "      <th>3</th>\n",
       "      <td>289.11988</td>\n",
       "    </tr>\n",
       "    <tr>\n",
       "      <th>4</th>\n",
       "      <td>289.12044</td>\n",
       "    </tr>\n",
       "    <tr>\n",
       "      <th>...</th>\n",
       "      <td>...</td>\n",
       "    </tr>\n",
       "    <tr>\n",
       "      <th>1021</th>\n",
       "      <td>1046.36442</td>\n",
       "    </tr>\n",
       "    <tr>\n",
       "      <th>1022</th>\n",
       "      <td>1048.32025</td>\n",
       "    </tr>\n",
       "    <tr>\n",
       "      <th>1023</th>\n",
       "      <td>1048.3319</td>\n",
       "    </tr>\n",
       "    <tr>\n",
       "      <th>1024</th>\n",
       "      <td>1048.34354</td>\n",
       "    </tr>\n",
       "    <tr>\n",
       "      <th>1025</th>\n",
       "      <td>1048.38431</td>\n",
       "    </tr>\n",
       "  </tbody>\n",
       "</table>\n",
       "<p>1026 rows × 1 columns</p>\n",
       "</div>"
      ],
      "text/plain": [
       "       var_names\n",
       "0      289.11568\n",
       "1      289.11778\n",
       "2      289.11933\n",
       "3      289.11988\n",
       "4      289.12044\n",
       "...          ...\n",
       "1021  1046.36442\n",
       "1022  1048.32025\n",
       "1023   1048.3319\n",
       "1024  1048.34354\n",
       "1025  1048.38431\n",
       "\n",
       "[1026 rows x 1 columns]"
      ]
     },
     "execution_count": 37,
     "metadata": {},
     "output_type": "execute_result"
    }
   ],
   "source": [
    "import pandas as pd\n",
    "\n",
    "# Convert var_names to a DataFrame\n",
    "df_var_names = pd.DataFrame(adata_msi.var_names, columns=[\"var_names\"])\n",
    "\n",
    "# Display the DataFrame\n",
    "df_var_names\n"
   ]
  },
  {
   "cell_type": "code",
   "execution_count": 38,
   "id": "c7d8c91a-8417-484d-8cbf-91b29778f28f",
   "metadata": {},
   "outputs": [
    {
     "data": {
      "text/html": [
       "<div>\n",
       "<style scoped>\n",
       "    .dataframe tbody tr th:only-of-type {\n",
       "        vertical-align: middle;\n",
       "    }\n",
       "\n",
       "    .dataframe tbody tr th {\n",
       "        vertical-align: top;\n",
       "    }\n",
       "\n",
       "    .dataframe thead th {\n",
       "        text-align: right;\n",
       "    }\n",
       "</style>\n",
       "<table border=\"1\" class=\"dataframe\">\n",
       "  <thead>\n",
       "    <tr style=\"text-align: right;\">\n",
       "      <th></th>\n",
       "      <th>Compound</th>\n",
       "      <th>Observed Mass (m/z)</th>\n",
       "      <th>Observed Mass (m/z) coarse</th>\n",
       "    </tr>\n",
       "  </thead>\n",
       "  <tbody>\n",
       "    <tr>\n",
       "      <th>6</th>\n",
       "      <td>3-MT</td>\n",
       "      <td>435.21</td>\n",
       "      <td>435.2</td>\n",
       "    </tr>\n",
       "  </tbody>\n",
       "</table>\n",
       "</div>"
      ],
      "text/plain": [
       "  Compound  Observed Mass (m/z)  Observed Mass (m/z) coarse\n",
       "6     3-MT               435.21                       435.2"
      ]
     },
     "execution_count": 38,
     "metadata": {},
     "output_type": "execute_result"
    }
   ],
   "source": [
    "names.loc[names[\"Observed Mass (m/z) coarse\"].isin(inter)]\n"
   ]
  },
  {
   "cell_type": "code",
   "execution_count": 39,
   "id": "03e9c0ab-ec4f-4ceb-bdca-b83f5387769e",
   "metadata": {},
   "outputs": [
    {
     "data": {
      "text/html": [
       "<div>\n",
       "<style scoped>\n",
       "    .dataframe tbody tr th:only-of-type {\n",
       "        vertical-align: middle;\n",
       "    }\n",
       "\n",
       "    .dataframe tbody tr th {\n",
       "        vertical-align: top;\n",
       "    }\n",
       "\n",
       "    .dataframe thead th {\n",
       "        text-align: right;\n",
       "    }\n",
       "</style>\n",
       "<table border=\"1\" class=\"dataframe\">\n",
       "  <thead>\n",
       "    <tr style=\"text-align: right;\">\n",
       "      <th></th>\n",
       "      <th>Compound</th>\n",
       "      <th>Observed Mass (m/z)</th>\n",
       "      <th>Observed Mass (m/z) coarse</th>\n",
       "    </tr>\n",
       "  </thead>\n",
       "  <tbody>\n",
       "    <tr>\n",
       "      <th>0</th>\n",
       "      <td>[D-Ala2]-Met-enkephalin double</td>\n",
       "      <td>1122.46</td>\n",
       "      <td>1122.5</td>\n",
       "    </tr>\n",
       "    <tr>\n",
       "      <th>1</th>\n",
       "      <td>[D-Ala2]-Met-enkephalin double (*)</td>\n",
       "      <td>1108.44</td>\n",
       "      <td>1108.4</td>\n",
       "    </tr>\n",
       "    <tr>\n",
       "      <th>2</th>\n",
       "      <td>[D-Ala2]-Met-enkephalin single</td>\n",
       "      <td>855.35</td>\n",
       "      <td>855.4</td>\n",
       "    </tr>\n",
       "    <tr>\n",
       "      <th>3</th>\n",
       "      <td>3 4-dihydroxyphenylacetone</td>\n",
       "      <td>701.28</td>\n",
       "      <td>701.3</td>\n",
       "    </tr>\n",
       "    <tr>\n",
       "      <th>4</th>\n",
       "      <td>3 4-dihydroxyphenylacetone double (*)</td>\n",
       "      <td>687.27</td>\n",
       "      <td>687.3</td>\n",
       "    </tr>\n",
       "    <tr>\n",
       "      <th>...</th>\n",
       "      <td>...</td>\n",
       "      <td>...</td>\n",
       "      <td>...</td>\n",
       "    </tr>\n",
       "    <tr>\n",
       "      <th>136</th>\n",
       "      <td>Tyramine double (*)</td>\n",
       "      <td>658.90</td>\n",
       "      <td>658.9</td>\n",
       "    </tr>\n",
       "    <tr>\n",
       "      <th>137</th>\n",
       "      <td>Valine single</td>\n",
       "      <td>385.19</td>\n",
       "      <td>385.2</td>\n",
       "    </tr>\n",
       "    <tr>\n",
       "      <th>138</th>\n",
       "      <td>Vanillactic acid</td>\n",
       "      <td>480.18</td>\n",
       "      <td>480.2</td>\n",
       "    </tr>\n",
       "    <tr>\n",
       "      <th>139</th>\n",
       "      <td>Vanilpyruvate</td>\n",
       "      <td>478.17</td>\n",
       "      <td>478.2</td>\n",
       "    </tr>\n",
       "    <tr>\n",
       "      <th>140</th>\n",
       "      <td>VMA</td>\n",
       "      <td>466.17</td>\n",
       "      <td>466.2</td>\n",
       "    </tr>\n",
       "  </tbody>\n",
       "</table>\n",
       "<p>141 rows × 3 columns</p>\n",
       "</div>"
      ],
      "text/plain": [
       "                                  Compound  Observed Mass (m/z)  \\\n",
       "0           [D-Ala2]-Met-enkephalin double              1122.46   \n",
       "1       [D-Ala2]-Met-enkephalin double (*)              1108.44   \n",
       "2           [D-Ala2]-Met-enkephalin single               855.35   \n",
       "3               3 4-dihydroxyphenylacetone               701.28   \n",
       "4    3 4-dihydroxyphenylacetone double (*)               687.27   \n",
       "..                                     ...                  ...   \n",
       "136                    Tyramine double (*)               658.90   \n",
       "137                          Valine single               385.19   \n",
       "138                       Vanillactic acid               480.18   \n",
       "139                          Vanilpyruvate               478.17   \n",
       "140                                    VMA               466.17   \n",
       "\n",
       "     Observed Mass (m/z) coarse  \n",
       "0                        1122.5  \n",
       "1                        1108.4  \n",
       "2                         855.4  \n",
       "3                         701.3  \n",
       "4                         687.3  \n",
       "..                          ...  \n",
       "136                       658.9  \n",
       "137                       385.2  \n",
       "138                       480.2  \n",
       "139                       478.2  \n",
       "140                       466.2  \n",
       "\n",
       "[141 rows x 3 columns]"
      ]
     },
     "execution_count": 39,
     "metadata": {},
     "output_type": "execute_result"
    }
   ],
   "source": [
    "names"
   ]
  },
  {
   "cell_type": "code",
   "execution_count": null,
   "id": "62f62152",
   "metadata": {},
   "outputs": [],
   "source": []
  }
 ],
 "metadata": {
  "kernelspec": {
   "display_name": "Python (minimal)",
   "language": "python",
   "name": "mini"
  }
 },
 "nbformat": 4,
 "nbformat_minor": 5
}
