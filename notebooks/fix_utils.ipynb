{
 "cells": [
  {
   "cell_type": "code",
   "execution_count": 1,
   "metadata": {},
   "outputs": [],
   "source": [
    "import pandas as pd\n",
    "import yaml\n",
    "import hashlib\n",
    "import os\n",
    "import numpy as np"
   ]
  },
  {
   "cell_type": "code",
   "execution_count": 2,
   "metadata": {},
   "outputs": [],
   "source": [
    "os.chdir(\"/lustre/groups/ml01/workspace/eirini.giannakoulia/no_fs_pipeline/\")"
   ]
  },
  {
   "cell_type": "code",
   "execution_count": 3,
   "metadata": {},
   "outputs": [],
   "source": [
    "def create_hash(string: str, digest_size: int = 5):\n",
    "    string = string.encode('utf-8')\n",
    "    return hashlib.blake2b(string, digest_size=digest_size).hexdigest()\n",
    "\n",
    "def create_tasks_df(config, save=None):\n",
    "    tasks_df = []\n",
    "    with open(config, \"r\") as stream:\n",
    "        params = yaml.safe_load(stream)\n",
    "    \n",
    "    for task in params['TASKS']:\n",
    "        task_dict = params['TASKS'][task]\n",
    "        method_dfs = []\n",
    "        \n",
    "        for method, method_data in task_dict['methods'].items():\n",
    "            # If method_data is a string, it’s the parameters file path;\n",
    "            # if a dict, we extract the parameters file path.\n",
    "            if isinstance(method_data, str):\n",
    "                method_params = method_data\n",
    "            elif isinstance(method_data, dict):\n",
    "                method_params = method_data.get('params')\n",
    "            else:\n",
    "                raise ValueError(f\"Unexpected format for method_data: {method_data}\")\n",
    "            \n",
    "            if method_params:\n",
    "                df_params = pd.read_csv(method_params, sep='\\t', index_col=0)\n",
    "                params_list = [str(row) for row in df_params.to_dict(orient='records')]\n",
    "            else:\n",
    "                df_params = pd.DataFrame()\n",
    "                params_list = [{}]\n",
    "            \n",
    "            # Create rows for the method (feature selection removed)\n",
    "            method_df = {\n",
    "                'params': params_list,\n",
    "                'hash': [create_hash(row + method + task) for row in params_list],\n",
    "                'method': [method] * len(params_list),\n",
    "            }\n",
    "            method_dfs.append(pd.DataFrame(method_df))\n",
    "        \n",
    "        if method_dfs:\n",
    "            method_dfs = pd.concat(method_dfs, ignore_index=True)\n",
    "            method_dfs['task'] = task\n",
    "\n",
    "            # Add any additional task-level attributes\n",
    "            for key in task_dict:\n",
    "                if key != 'methods':\n",
    "                    method_dfs[key] = task_dict[key]\n",
    "            \n",
    "            tasks_df.append(method_dfs)\n",
    "    \n",
    "    if tasks_df:\n",
    "        tasks_df = pd.concat(tasks_df, ignore_index=True)\n",
    "    else:\n",
    "        tasks_df = pd.DataFrame()\n",
    "    \n",
    "    if save is not None:\n",
    "        tasks_df.to_csv(save, sep='\\t', index=False)\n",
    "    \n",
    "    return tasks_df\n"
   ]
  },
  {
   "cell_type": "code",
   "execution_count": 4,
   "metadata": {},
   "outputs": [],
   "source": [
    "mypath = os.getcwd()"
   ]
  },
  {
   "cell_type": "code",
   "execution_count": 5,
   "metadata": {},
   "outputs": [
    {
     "data": {
      "text/plain": [
       "'/ictstr01/groups/ml01/workspace/eirini.giannakoulia/no_fs_pipeline'"
      ]
     },
     "execution_count": 5,
     "metadata": {},
     "output_type": "execute_result"
    }
   ],
   "source": [
    "mypath "
   ]
  },
  {
   "cell_type": "code",
   "execution_count": 8,
   "metadata": {},
   "outputs": [],
   "source": [
    "# Generate tasks DataFrame and load configuration\n",
    "tasks_df = create_tasks_df(f\"{mypath}/config.yaml\")\n",
    "# tasks_df = pd.read_csv('data/tasks.tsv', sep='\\t')\n",
    "\n",
    "# # Extract unique task details\n",
    "# hashes = tasks_df['hash'].unique()\n",
    "# methods = tasks_df['method'].unique()\n",
    "# tasks = tasks_df['task'].unique()\n"
   ]
  },
  {
   "cell_type": "code",
   "execution_count": 9,
   "metadata": {},
   "outputs": [
    {
     "data": {
      "text/html": [
       "<div>\n",
       "<style scoped>\n",
       "    .dataframe tbody tr th:only-of-type {\n",
       "        vertical-align: middle;\n",
       "    }\n",
       "\n",
       "    .dataframe tbody tr th {\n",
       "        vertical-align: top;\n",
       "    }\n",
       "\n",
       "    .dataframe thead th {\n",
       "        text-align: right;\n",
       "    }\n",
       "</style>\n",
       "<table border=\"1\" class=\"dataframe\">\n",
       "  <thead>\n",
       "    <tr style=\"text-align: right;\">\n",
       "      <th></th>\n",
       "      <th>params</th>\n",
       "      <th>hash</th>\n",
       "      <th>method</th>\n",
       "      <th>task</th>\n",
       "      <th>input_rna</th>\n",
       "      <th>input_metabolomics</th>\n",
       "      <th>split</th>\n",
       "    </tr>\n",
       "  </thead>\n",
       "  <tbody>\n",
       "    <tr>\n",
       "      <th>0</th>\n",
       "      <td>{'alpha': 1.0}</td>\n",
       "      <td>64c49ba4e2</td>\n",
       "      <td>ridge</td>\n",
       "      <td>vitatrack</td>\n",
       "      <td>/lustre/groups/ml01/workspace/anastasia.litine...</td>\n",
       "      <td>/lustre/groups/ml01/workspace/anastasia.litine...</td>\n",
       "      <td>split</td>\n",
       "    </tr>\n",
       "    <tr>\n",
       "      <th>1</th>\n",
       "      <td>{'alpha': 0.1}</td>\n",
       "      <td>03053c6a2c</td>\n",
       "      <td>ridge</td>\n",
       "      <td>vitatrack</td>\n",
       "      <td>/lustre/groups/ml01/workspace/anastasia.litine...</td>\n",
       "      <td>/lustre/groups/ml01/workspace/anastasia.litine...</td>\n",
       "      <td>split</td>\n",
       "    </tr>\n",
       "  </tbody>\n",
       "</table>\n",
       "</div>"
      ],
      "text/plain": [
       "           params        hash method       task  \\\n",
       "0  {'alpha': 1.0}  64c49ba4e2  ridge  vitatrack   \n",
       "1  {'alpha': 0.1}  03053c6a2c  ridge  vitatrack   \n",
       "\n",
       "                                           input_rna  \\\n",
       "0  /lustre/groups/ml01/workspace/anastasia.litine...   \n",
       "1  /lustre/groups/ml01/workspace/anastasia.litine...   \n",
       "\n",
       "                                  input_metabolomics  split  \n",
       "0  /lustre/groups/ml01/workspace/anastasia.litine...  split  \n",
       "1  /lustre/groups/ml01/workspace/anastasia.litine...  split  "
      ]
     },
     "execution_count": 9,
     "metadata": {},
     "output_type": "execute_result"
    }
   ],
   "source": [
    "tasks_df"
   ]
  },
  {
   "cell_type": "code",
   "execution_count": 6,
   "metadata": {},
   "outputs": [],
   "source": [
    "prev = pd.read_csv('/ictstr01/home/icb/eirini.giannakoulia/data_copy/tasks.tsv', sep='\\t')"
   ]
  },
  {
   "cell_type": "code",
   "execution_count": 8,
   "metadata": {},
   "outputs": [
    {
     "data": {
      "text/plain": [
       "np.False_"
      ]
     },
     "execution_count": 8,
     "metadata": {},
     "output_type": "execute_result"
    }
   ],
   "source": [
    "np.all(tasks_df == prev)"
   ]
  },
  {
   "cell_type": "code",
   "execution_count": 9,
   "metadata": {},
   "outputs": [
    {
     "name": "stdout",
     "output_type": "stream",
     "text": [
      "(array([160, 160, 160, 161, 161, 161, 162, 162, 162, 162, 163, 163, 163,\n",
      "       163, 164, 164, 164, 164, 165, 165, 165, 165, 166, 166, 166, 166,\n",
      "       167, 167, 167, 167, 168, 168, 168, 168, 169, 169, 169, 169, 170,\n",
      "       170, 171, 171, 172, 172, 172, 173, 173, 173, 174, 174, 174, 175,\n",
      "       175, 175, 176, 176, 176, 177, 177, 177, 178, 178, 178, 179, 179,\n",
      "       179, 180, 180, 180, 181, 181, 181, 182, 182, 183, 183, 184, 184,\n",
      "       184, 185, 185, 185, 186, 186, 186, 187, 187, 187, 188, 188, 188,\n",
      "       189, 189, 189, 190, 190, 190, 191, 191, 191, 192, 192, 192, 193,\n",
      "       193, 193, 194, 194, 195, 195, 196, 196, 196, 197, 197, 197, 198,\n",
      "       198, 198, 199, 199, 199, 200, 200, 200, 201, 201, 201, 202, 202,\n",
      "       202, 203, 203, 203, 204, 204, 204, 205, 205, 205, 206, 206, 207,\n",
      "       207, 208, 208, 208, 209, 209, 209, 210, 210, 210, 211, 211, 211,\n",
      "       212, 212, 212, 213, 213, 213, 214, 214, 214, 215, 215, 215, 216,\n",
      "       216, 216, 217, 217, 217, 218, 218, 219, 219, 220, 220, 220, 220,\n",
      "       221, 221, 221, 221, 222, 222, 222, 222, 223, 223, 223, 223, 224,\n",
      "       224, 224, 224, 225, 225, 225, 225, 226, 226, 226, 226, 227, 227,\n",
      "       227, 227, 228, 228, 228, 229, 229, 229, 295, 295, 295, 296, 296,\n",
      "       296, 297, 297, 297, 297, 298, 298, 298, 298, 299, 299, 299, 299,\n",
      "       300, 300, 300, 300, 301, 301, 301, 301, 302, 302, 302, 302, 303,\n",
      "       303, 303, 303, 304, 304, 304, 304, 305, 305, 306, 306, 307, 307,\n",
      "       307, 308, 308, 308, 309, 309, 309, 310, 310, 310, 311, 311, 311,\n",
      "       312, 312, 312, 313, 313, 313, 314, 314, 314, 315, 315, 315, 316,\n",
      "       316, 316, 317, 317, 318, 318, 319, 319, 319, 320, 320, 320, 321,\n",
      "       321, 321, 322, 322, 322, 323, 323, 323, 324, 324, 324, 325, 325,\n",
      "       325, 326, 326, 326, 327, 327, 327, 328, 328, 328, 329, 329, 330,\n",
      "       330, 331, 331, 331, 332, 332, 332, 333, 333, 333, 334, 334, 334,\n",
      "       335, 335, 335, 336, 336, 336, 337, 337, 337, 338, 338, 338, 339,\n",
      "       339, 339, 340, 340, 340, 341, 341, 342, 342, 343, 343, 343, 344,\n",
      "       344, 344, 345, 345, 345, 346, 346, 346, 347, 347, 347, 348, 348,\n",
      "       348, 349, 349, 349, 350, 350, 350, 351, 351, 351, 352, 352, 352,\n",
      "       353, 353, 354, 354, 355, 355, 355, 355, 356, 356, 356, 356, 357,\n",
      "       357, 357, 357, 358, 358, 358, 358, 359, 359, 359, 359, 360, 360,\n",
      "       360, 360, 361, 361, 361, 361, 362, 362, 362, 362, 363, 363, 363,\n",
      "       364, 364, 364]), array([0, 1, 2, 0, 1, 2, 0, 1, 2, 3, 0, 1, 2, 3, 0, 1, 2, 3, 0, 1, 2, 3,\n",
      "       0, 1, 2, 3, 0, 1, 2, 3, 0, 1, 2, 3, 0, 1, 2, 3, 0, 1, 0, 1, 0, 1,\n",
      "       3, 0, 1, 3, 0, 1, 3, 0, 1, 3, 0, 1, 3, 0, 1, 3, 0, 1, 3, 0, 1, 3,\n",
      "       0, 1, 3, 0, 1, 3, 0, 1, 0, 1, 0, 1, 3, 0, 1, 3, 0, 1, 3, 0, 1, 3,\n",
      "       0, 1, 3, 0, 1, 3, 0, 1, 3, 0, 1, 3, 0, 1, 3, 0, 1, 3, 0, 1, 0, 1,\n",
      "       0, 1, 3, 0, 1, 3, 0, 1, 3, 0, 1, 3, 0, 1, 3, 0, 1, 3, 0, 1, 3, 0,\n",
      "       1, 3, 0, 1, 3, 0, 1, 3, 0, 1, 0, 1, 0, 1, 3, 0, 1, 3, 0, 1, 3, 0,\n",
      "       1, 3, 0, 1, 3, 0, 1, 3, 0, 1, 3, 0, 1, 3, 0, 1, 3, 0, 1, 3, 0, 1,\n",
      "       0, 1, 0, 1, 2, 3, 0, 1, 2, 3, 0, 1, 2, 3, 0, 1, 2, 3, 0, 1, 2, 3,\n",
      "       0, 1, 2, 3, 0, 1, 2, 3, 0, 1, 2, 3, 0, 1, 2, 0, 1, 2, 0, 1, 2, 0,\n",
      "       1, 2, 0, 1, 2, 3, 0, 1, 2, 3, 0, 1, 2, 3, 0, 1, 2, 3, 0, 1, 2, 3,\n",
      "       0, 1, 2, 3, 0, 1, 2, 3, 0, 1, 2, 3, 0, 1, 0, 1, 0, 1, 3, 0, 1, 3,\n",
      "       0, 1, 3, 0, 1, 3, 0, 1, 3, 0, 1, 3, 0, 1, 3, 0, 1, 3, 0, 1, 3, 0,\n",
      "       1, 3, 0, 1, 0, 1, 0, 1, 3, 0, 1, 3, 0, 1, 3, 0, 1, 3, 0, 1, 3, 0,\n",
      "       1, 3, 0, 1, 3, 0, 1, 3, 0, 1, 3, 0, 1, 3, 0, 1, 0, 1, 0, 1, 3, 0,\n",
      "       1, 3, 0, 1, 3, 0, 1, 3, 0, 1, 3, 0, 1, 3, 0, 1, 3, 0, 1, 3, 0, 1,\n",
      "       3, 0, 1, 3, 0, 1, 0, 1, 0, 1, 3, 0, 1, 3, 0, 1, 3, 0, 1, 3, 0, 1,\n",
      "       3, 0, 1, 3, 0, 1, 3, 0, 1, 3, 0, 1, 3, 0, 1, 3, 0, 1, 0, 1, 0, 1,\n",
      "       2, 3, 0, 1, 2, 3, 0, 1, 2, 3, 0, 1, 2, 3, 0, 1, 2, 3, 0, 1, 2, 3,\n",
      "       0, 1, 2, 3, 0, 1, 2, 3, 0, 1, 2, 0, 1, 2]))\n"
     ]
    }
   ],
   "source": [
    "diff_indices = np.where(tasks_df != prev)\n",
    "print(diff_indices)\n"
   ]
  },
  {
   "cell_type": "code",
   "execution_count": 10,
   "metadata": {},
   "outputs": [
    {
     "name": "stdout",
     "output_type": "stream",
     "text": [
      "Rows with differences: Index([160, 161, 162, 163, 164, 165, 166, 167, 168, 169,\n",
      "       ...\n",
      "       355, 356, 357, 358, 359, 360, 361, 362, 363, 364],\n",
      "      dtype='int64', length=140)\n"
     ]
    }
   ],
   "source": [
    "diff_mask = (tasks_df != prev).any(axis=1)\n",
    "\n",
    "# Print the indices of the rows that differ\n",
    "diff_row_indices = tasks_df.index[diff_mask]\n",
    "print(\"Rows with differences:\", diff_row_indices)\n"
   ]
  },
  {
   "cell_type": "code",
   "execution_count": 11,
   "metadata": {},
   "outputs": [
    {
     "data": {
      "text/plain": [
       "Index([160, 161, 162, 163, 164, 165, 166, 167, 168, 169,\n",
       "       ...\n",
       "       355, 356, 357, 358, 359, 360, 361, 362, 363, 364],\n",
       "      dtype='int64', length=140)"
      ]
     },
     "execution_count": 11,
     "metadata": {},
     "output_type": "execute_result"
    }
   ],
   "source": [
    "diff_row_indices"
   ]
  },
  {
   "cell_type": "code",
   "execution_count": null,
   "metadata": {},
   "outputs": [
    {
     "data": {
      "text/plain": [
       "np.False_"
      ]
     },
     "execution_count": 19,
     "metadata": {},
     "output_type": "execute_result"
    }
   ],
   "source": [
    "np.all(prev[] == tasks_df)"
   ]
  },
  {
   "cell_type": "code",
   "execution_count": 21,
   "metadata": {},
   "outputs": [
    {
     "data": {
      "text/html": [
       "<div>\n",
       "<style scoped>\n",
       "    .dataframe tbody tr th:only-of-type {\n",
       "        vertical-align: middle;\n",
       "    }\n",
       "\n",
       "    .dataframe tbody tr th {\n",
       "        vertical-align: top;\n",
       "    }\n",
       "\n",
       "    .dataframe thead th {\n",
       "        text-align: right;\n",
       "    }\n",
       "</style>\n",
       "<table border=\"1\" class=\"dataframe\">\n",
       "  <thead>\n",
       "    <tr style=\"text-align: right;\">\n",
       "      <th></th>\n",
       "      <th>params</th>\n",
       "      <th>hash</th>\n",
       "      <th>method</th>\n",
       "      <th>featsel</th>\n",
       "      <th>task</th>\n",
       "      <th>input_rna</th>\n",
       "      <th>input_metabolomics</th>\n",
       "      <th>split</th>\n",
       "    </tr>\n",
       "  </thead>\n",
       "  <tbody>\n",
       "    <tr>\n",
       "      <th>160</th>\n",
       "      <td>{'alpha': 50, 'lambda': 100, 'max_depth': 3, '...</td>\n",
       "      <td>9acdf9a0cc</td>\n",
       "      <td>xgboost</td>\n",
       "      <td>hvg</td>\n",
       "      <td>lipids</td>\n",
       "      <td>/lustre/groups/ml01/workspace/anastasia.litine...</td>\n",
       "      <td>/lustre/groups/ml01/workspace/anastasia.litine...</td>\n",
       "      <td>half_split</td>\n",
       "    </tr>\n",
       "    <tr>\n",
       "      <th>161</th>\n",
       "      <td>{'alpha': 10, 'lambda': 50, 'max_depth': 5, 'l...</td>\n",
       "      <td>c7b850df11</td>\n",
       "      <td>xgboost</td>\n",
       "      <td>hvg</td>\n",
       "      <td>lipids</td>\n",
       "      <td>/lustre/groups/ml01/workspace/anastasia.litine...</td>\n",
       "      <td>/lustre/groups/ml01/workspace/anastasia.litine...</td>\n",
       "      <td>half_split</td>\n",
       "    </tr>\n",
       "    <tr>\n",
       "      <th>162</th>\n",
       "      <td>{'alpha': 50, 'lambda': 100, 'max_depth': 3, '...</td>\n",
       "      <td>83dd4f22b5</td>\n",
       "      <td>xgboost</td>\n",
       "      <td>hvg_svd</td>\n",
       "      <td>lipids</td>\n",
       "      <td>/lustre/groups/ml01/workspace/anastasia.litine...</td>\n",
       "      <td>/lustre/groups/ml01/workspace/anastasia.litine...</td>\n",
       "      <td>half_split</td>\n",
       "    </tr>\n",
       "  </tbody>\n",
       "</table>\n",
       "</div>"
      ],
      "text/plain": [
       "                                                params        hash   method  \\\n",
       "160  {'alpha': 50, 'lambda': 100, 'max_depth': 3, '...  9acdf9a0cc  xgboost   \n",
       "161  {'alpha': 10, 'lambda': 50, 'max_depth': 5, 'l...  c7b850df11  xgboost   \n",
       "162  {'alpha': 50, 'lambda': 100, 'max_depth': 3, '...  83dd4f22b5  xgboost   \n",
       "\n",
       "     featsel    task                                          input_rna  \\\n",
       "160      hvg  lipids  /lustre/groups/ml01/workspace/anastasia.litine...   \n",
       "161      hvg  lipids  /lustre/groups/ml01/workspace/anastasia.litine...   \n",
       "162  hvg_svd  lipids  /lustre/groups/ml01/workspace/anastasia.litine...   \n",
       "\n",
       "                                    input_metabolomics       split  \n",
       "160  /lustre/groups/ml01/workspace/anastasia.litine...  half_split  \n",
       "161  /lustre/groups/ml01/workspace/anastasia.litine...  half_split  \n",
       "162  /lustre/groups/ml01/workspace/anastasia.litine...  half_split  "
      ]
     },
     "execution_count": 21,
     "metadata": {},
     "output_type": "execute_result"
    }
   ],
   "source": [
    "prev[160:163]"
   ]
  },
  {
   "cell_type": "code",
   "execution_count": 22,
   "metadata": {},
   "outputs": [
    {
     "data": {
      "text/html": [
       "<div>\n",
       "<style scoped>\n",
       "    .dataframe tbody tr th:only-of-type {\n",
       "        vertical-align: middle;\n",
       "    }\n",
       "\n",
       "    .dataframe tbody tr th {\n",
       "        vertical-align: top;\n",
       "    }\n",
       "\n",
       "    .dataframe thead th {\n",
       "        text-align: right;\n",
       "    }\n",
       "</style>\n",
       "<table border=\"1\" class=\"dataframe\">\n",
       "  <thead>\n",
       "    <tr style=\"text-align: right;\">\n",
       "      <th></th>\n",
       "      <th>params</th>\n",
       "      <th>hash</th>\n",
       "      <th>method</th>\n",
       "      <th>featsel</th>\n",
       "      <th>task</th>\n",
       "      <th>input_rna</th>\n",
       "      <th>input_metabolomics</th>\n",
       "      <th>split</th>\n",
       "    </tr>\n",
       "  </thead>\n",
       "  <tbody>\n",
       "    <tr>\n",
       "      <th>160</th>\n",
       "      <td>{'alpha': 0.001, 'l1_ratio': 0.1}</td>\n",
       "      <td>5c064c1399</td>\n",
       "      <td>elastic_net</td>\n",
       "      <td>hvg</td>\n",
       "      <td>lipids</td>\n",
       "      <td>/lustre/groups/ml01/workspace/anastasia.litine...</td>\n",
       "      <td>/lustre/groups/ml01/workspace/anastasia.litine...</td>\n",
       "      <td>half_split</td>\n",
       "    </tr>\n",
       "    <tr>\n",
       "      <th>161</th>\n",
       "      <td>{'alpha': 0.001, 'l1_ratio': 0.5}</td>\n",
       "      <td>aa9882b566</td>\n",
       "      <td>elastic_net</td>\n",
       "      <td>hvg</td>\n",
       "      <td>lipids</td>\n",
       "      <td>/lustre/groups/ml01/workspace/anastasia.litine...</td>\n",
       "      <td>/lustre/groups/ml01/workspace/anastasia.litine...</td>\n",
       "      <td>half_split</td>\n",
       "    </tr>\n",
       "    <tr>\n",
       "      <th>162</th>\n",
       "      <td>{'alpha': 0.001, 'l1_ratio': 0.9}</td>\n",
       "      <td>4e69bd9dfd</td>\n",
       "      <td>elastic_net</td>\n",
       "      <td>hvg</td>\n",
       "      <td>lipids</td>\n",
       "      <td>/lustre/groups/ml01/workspace/anastasia.litine...</td>\n",
       "      <td>/lustre/groups/ml01/workspace/anastasia.litine...</td>\n",
       "      <td>half_split</td>\n",
       "    </tr>\n",
       "  </tbody>\n",
       "</table>\n",
       "</div>"
      ],
      "text/plain": [
       "                                params        hash       method featsel  \\\n",
       "160  {'alpha': 0.001, 'l1_ratio': 0.1}  5c064c1399  elastic_net     hvg   \n",
       "161  {'alpha': 0.001, 'l1_ratio': 0.5}  aa9882b566  elastic_net     hvg   \n",
       "162  {'alpha': 0.001, 'l1_ratio': 0.9}  4e69bd9dfd  elastic_net     hvg   \n",
       "\n",
       "       task                                          input_rna  \\\n",
       "160  lipids  /lustre/groups/ml01/workspace/anastasia.litine...   \n",
       "161  lipids  /lustre/groups/ml01/workspace/anastasia.litine...   \n",
       "162  lipids  /lustre/groups/ml01/workspace/anastasia.litine...   \n",
       "\n",
       "                                    input_metabolomics       split  \n",
       "160  /lustre/groups/ml01/workspace/anastasia.litine...  half_split  \n",
       "161  /lustre/groups/ml01/workspace/anastasia.litine...  half_split  \n",
       "162  /lustre/groups/ml01/workspace/anastasia.litine...  half_split  "
      ]
     },
     "execution_count": 22,
     "metadata": {},
     "output_type": "execute_result"
    }
   ],
   "source": [
    "tasks_df[160:163]"
   ]
  },
  {
   "cell_type": "code",
   "execution_count": null,
   "metadata": {},
   "outputs": [],
   "source": []
  }
 ],
 "metadata": {
  "kernelspec": {
   "display_name": "Python (scRNA-env)",
   "language": "python",
   "name": "scrna-env"
  },
  "language_info": {
   "codemirror_mode": {
    "name": "ipython",
    "version": 3
   },
   "file_extension": ".py",
   "mimetype": "text/x-python",
   "name": "python",
   "nbconvert_exporter": "python",
   "pygments_lexer": "ipython3",
   "version": "3.12.7"
  }
 },
 "nbformat": 4,
 "nbformat_minor": 2
}
