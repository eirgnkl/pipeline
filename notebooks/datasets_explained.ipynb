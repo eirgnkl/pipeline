{
 "cells": [
  {
   "cell_type": "markdown",
   "metadata": {},
   "source": [
    "Comprehensive breakdown of all the processes that lead to final datasets\n"
   ]
  },
  {
   "cell_type": "code",
   "execution_count": 1,
   "metadata": {},
   "outputs": [
    {
     "name": "stderr",
     "output_type": "stream",
     "text": [
      "/home/icb/yufan.xia/tools/apps/mamba/envs/pipeline/lib/python3.12/site-packages/anndata/utils.py:434: FutureWarning: Importing read_csv from `anndata` is deprecated. Import anndata.io.read_csv instead.\n",
      "  warnings.warn(msg, FutureWarning)\n",
      "/home/icb/yufan.xia/tools/apps/mamba/envs/pipeline/lib/python3.12/site-packages/anndata/utils.py:434: FutureWarning: Importing read_excel from `anndata` is deprecated. Import anndata.io.read_excel instead.\n",
      "  warnings.warn(msg, FutureWarning)\n",
      "/home/icb/yufan.xia/tools/apps/mamba/envs/pipeline/lib/python3.12/site-packages/anndata/utils.py:434: FutureWarning: Importing read_hdf from `anndata` is deprecated. Import anndata.io.read_hdf instead.\n",
      "  warnings.warn(msg, FutureWarning)\n",
      "/home/icb/yufan.xia/tools/apps/mamba/envs/pipeline/lib/python3.12/site-packages/anndata/utils.py:434: FutureWarning: Importing read_loom from `anndata` is deprecated. Import anndata.io.read_loom instead.\n",
      "  warnings.warn(msg, FutureWarning)\n",
      "/home/icb/yufan.xia/tools/apps/mamba/envs/pipeline/lib/python3.12/site-packages/anndata/utils.py:434: FutureWarning: Importing read_mtx from `anndata` is deprecated. Import anndata.io.read_mtx instead.\n",
      "  warnings.warn(msg, FutureWarning)\n",
      "/home/icb/yufan.xia/tools/apps/mamba/envs/pipeline/lib/python3.12/site-packages/anndata/utils.py:434: FutureWarning: Importing read_text from `anndata` is deprecated. Import anndata.io.read_text instead.\n",
      "  warnings.warn(msg, FutureWarning)\n",
      "/home/icb/yufan.xia/tools/apps/mamba/envs/pipeline/lib/python3.12/site-packages/anndata/utils.py:434: FutureWarning: Importing read_umi_tools from `anndata` is deprecated. Import anndata.io.read_umi_tools instead.\n",
      "  warnings.warn(msg, FutureWarning)\n"
     ]
    }
   ],
   "source": [
    "import scanpy as sc\n",
    "import pandas as pd\n",
    "import matplotlib.pyplot as plt\n",
    "import seaborn as sns"
   ]
  },
  {
   "cell_type": "markdown",
   "metadata": {},
   "source": [
    "Let's start with what the data we receive from Lundennberg lab are."
   ]
  },
  {
   "cell_type": "markdown",
   "metadata": {},
   "source": [
    "#### 🗂 TO2 Folder Summary\n",
    "\n",
    "- **Contents**:\n",
    "  - `220221_MS__TO_mousebrain_Cy3_MV_gain5.jpg`: Fluorescent image of matrixed brain sections (Cy3 channel)\n",
    "  - `fluo.csv`: Matrix intensity metadata (Area, mean, max, integrated density) for different MALDI matrices\n",
    "\n",
    "- **Used in Analysis?**: ❌ No direct use\n",
    "- **Potential Info**:\n",
    "  - Matrix intensity profiles\n",
    "  - Sample quality indicators\n",
    "  - Layout & prep metadata for cross-reference\n"
   ]
  },
  {
   "cell_type": "markdown",
   "metadata": {},
   "source": [
    "### 🔸 Sample Block: V11L12-038_A1\n",
    "\n",
    "#### 🧬 RNA Modality\n",
    "**Path:** `/.../V11L12-038/V11L12-038_A1/output_data/V11L12-038_A1_RNA/outs`\n",
    "\n",
    "- **Data Type**: 10x Visium (Space Ranger output)\n",
    "- **Main Matrix**: `filtered_feature_bc_matrix.h5` → used to build `.X`\n",
    "- **Spatial Info**:\n",
    "  - `tissue_positions_list.csv`: barcode → (x, y) coordinates\n",
    "  - `scalefactors_json.json`: pixel → micron scaling\n",
    "  - `tissue_hires_image.png`: for visualization\n",
    "- **QC Metrics**:\n",
    "  - `metrics_summary.csv` and `web_summary.html`\n",
    "- **Tissue Annotation**:\n",
    "  - `region.csv`, `lesion.csv` → possibly used for defining ROI or labels\n",
    "\n",
    "#### ✅ Used in:\n",
    "- `lipids_plate1_only`\n",
    "- `lipids_concat` (combined with B1, C1, D1)\n",
    "\n",
    "#### 📎 Notes:\n",
    "- This RNA sample is fully spatial and has all required Visium metadata.\n",
    "- `.X` will represent gene expression (spots × genes), and `.obsm` may include embeddings like SVD or scVI later on.\n"
   ]
  },
  {
   "cell_type": "code",
   "execution_count": 2,
   "metadata": {},
   "outputs": [
    {
     "name": "stderr",
     "output_type": "stream",
     "text": [
      "/home/icb/yufan.xia/tools/apps/mamba/envs/pipeline/lib/python3.12/site-packages/anndata/_core/anndata.py:1758: UserWarning: Variable names are not unique. To make them unique, call `.var_names_make_unique`.\n",
      "  utils.warn_names_duplicates(\"var\")\n",
      "/home/icb/yufan.xia/tools/apps/mamba/envs/pipeline/lib/python3.12/site-packages/anndata/_core/anndata.py:1758: UserWarning: Variable names are not unique. To make them unique, call `.var_names_make_unique`.\n",
      "  utils.warn_names_duplicates(\"var\")\n"
     ]
    }
   ],
   "source": [
    "og_V11L12038 = sc.read_visium(\"/lustre/groups/ml01/workspace/eirini.giannakoulia/KTH/sma/sma/V11L12-038/V11L12-038_A1/output_data/V11L12-038_A1_RNA/outs\")"
   ]
  },
  {
   "cell_type": "code",
   "execution_count": 7,
   "metadata": {},
   "outputs": [
    {
     "data": {
      "text/plain": [
       "AnnData object with n_obs × n_vars = 2856 × 32285\n",
       "    obs: 'in_tissue', 'array_row', 'array_col'\n",
       "    var: 'gene_ids', 'feature_types', 'genome'\n",
       "    uns: 'spatial'\n",
       "    obsm: 'spatial'"
      ]
     },
     "execution_count": 7,
     "metadata": {},
     "output_type": "execute_result"
    }
   ],
   "source": [
    "og_V11L12038"
   ]
  },
  {
   "cell_type": "code",
   "execution_count": 8,
   "metadata": {},
   "outputs": [
    {
     "data": {
      "text/plain": [
       "<Compressed Sparse Row sparse matrix of dtype 'float32'\n",
       "\twith 5937614 stored elements and shape (2856, 32285)>"
      ]
     },
     "execution_count": 8,
     "metadata": {},
     "output_type": "execute_result"
    }
   ],
   "source": [
    "og_V11L12038.X"
   ]
  },
  {
   "cell_type": "code",
   "execution_count": 9,
   "metadata": {},
   "outputs": [
    {
     "name": "stdout",
     "output_type": "stream",
     "text": [
      "[[0. 0. 0. 0. 0.]\n",
      " [0. 0. 0. 0. 0.]\n",
      " [0. 0. 0. 0. 0.]\n",
      " [0. 0. 0. 0. 0.]\n",
      " [0. 0. 0. 0. 0.]]\n"
     ]
    }
   ],
   "source": [
    "import numpy as np\n",
    "\n",
    "# Convert a small slice to dense format to inspect values\n",
    "X_dense_preview = og_V11L12038.X[:5, :5].toarray() if hasattr(og_V11L12038.X, \"toarray\") else og_V11L12038.X[:5, :5]\n",
    "\n",
    "print(X_dense_preview)\n"
   ]
  },
  {
   "cell_type": "code",
   "execution_count": 5,
   "metadata": {},
   "outputs": [
    {
     "data": {
      "text/plain": [
       "array([[34368, 30106],\n",
       "       [ 7356, 26604],\n",
       "       [ 8520, 28623],\n",
       "       ...,\n",
       "       [27096, 20515],\n",
       "       [12584, 27608],\n",
       "       [19530,  8397]])"
      ]
     },
     "execution_count": 5,
     "metadata": {},
     "output_type": "execute_result"
    }
   ],
   "source": [
    "og_V11L12038.obsm['spatial']"
   ]
  },
  {
   "cell_type": "markdown",
   "metadata": {},
   "source": [
    "## 🧬 RNA Preprocessing Summary – V11L12-038_A1\n",
    "\n",
    "The RNA data for this sample was preprocessed using a custom function `rna_pp()` designed by Maiia (found in PP_MOSCOT_alignment). The goal of this pipeline is to ensure high-quality data by removing low-quality spots and genes, followed by normalization and dimensionality reduction. Below is a detailed breakdown of each preprocessing step:\n",
    "\n",
    "---\n",
    "\n",
    "### 🧹 1. **Filtering & Quality Control**\n",
    "\n",
    "**Spot filtering:**\n",
    "- Spots with fewer than **1,000 total counts** were removed (likely low coverage or empty regions).\n",
    "- Spots with more than **35,000 total counts** were removed (likely artifacts or doublets).\n",
    "- Spots with **>20% mitochondrial content** (`MT-` genes) were removed to reduce inclusion of stressed/damaged tissue.\n",
    "- Spots with **<1,000 detected genes** were also excluded.\n",
    "\n",
    "**Gene filtering:**\n",
    "- Genes were kept only if they were expressed in **≥10 spots**, to focus on biologically informative features.\n",
    "\n",
    "Resulting data shape after filtering:  \n",
    "➡️ `2815 spots × 14479 genes`\n",
    "\n",
    "---\n",
    "\n",
    "### 🧪 2. **Normalization & Transformation**\n",
    "\n",
    "After filtering, the following normalization steps were applied to prepare the data for dimensionality reduction:\n",
    "\n",
    "1. **Total count normalization:**  \n",
    "   - Each spot’s total count was scaled to **10,000** (CPM-like normalization).\n",
    "   - This removes library size effects between spots.\n",
    "\n",
    "2. **Log1p transformation:**  \n",
    "   - A natural log + 1 (`log(1 + x)`) was applied to normalized values.\n",
    "   - This reduces the effect of large outlier values and makes distributions more Gaussian-like, which is beneficial for PCA.\n",
    "\n",
    "Result:  \n",
    "- `.X` now contains **log-transformed, total-count-normalized expression values**.\n",
    "\n",
    "---\n",
    "\n",
    "### 📦 Additional Computed Features\n",
    "\n",
    "- **Highly variable genes:** Top 2,000 HVGs identified using the Seurat method.\n",
    "- **Dimensionality reduction:** 50-component PCA performed on HVGs.\n",
    "- **Graph and clustering:**\n",
    "  - 100-nearest-neighbor graph built in PCA space.\n",
    "  - UMAP embedding and Leiden clustering applied.\n",
    "- **Spatial graph:** Moran’s I autocorrelation was computed to assess spatial gene expression structure.\n",
    "- **Metadata annotations:**\n",
    "  - `.obsm['raw_counts']` stores raw counts before normalization.\n",
    "  - `.obs['technology']` and `.var['technology']` both set to `\"RNA\"`.\n",
    "\n",
    "---\n"
   ]
  },
  {
   "cell_type": "markdown",
   "metadata": {},
   "source": []
  },
  {
   "cell_type": "markdown",
   "metadata": {},
   "source": [
    "## 🧬 RNA Preprocessing Summary – V11L12-038_A1\n",
    "\n",
    "The RNA data for this sample was preprocessed using a custom function `rna_pp()` designed by the supervisor. The goal of this pipeline is to ensure high-quality data by removing low-quality spots and genes, followed by normalization and dimensionality reduction. Below is a detailed breakdown of each preprocessing step:\n",
    "\n",
    "---\n",
    "\n",
    "### 🧹 1. **Filtering & Quality Control**\n",
    "\n",
    "**Spot filtering:**\n",
    "- Spots with fewer than **1,000 total counts** were removed (likely low coverage or empty regions).\n",
    "- Spots with more than **35,000 total counts** were removed (likely artifacts or doublets).\n",
    "- Spots with **>20% mitochondrial content** (`MT-` genes) were removed to reduce inclusion of stressed/damaged tissue.\n",
    "- Spots with **<1,000 detected genes** were also excluded.\n",
    "\n",
    "**Gene filtering:**\n",
    "- Genes were kept only if they were expressed in **≥10 spots**, to focus on biologically informative features.\n",
    "\n",
    "Resulting data shape after filtering:  \n",
    "➡️ `2815 spots × 14479 genes`\n",
    "\n",
    "---\n",
    "\n",
    "### 🧪 2. **Normalization & Transformation**\n",
    "\n",
    "After filtering, the following normalization steps were applied to prepare the data for dimensionality reduction:\n",
    "\n",
    "1. **Total count normalization:**  \n",
    "   - Each spot’s total count was scaled to **10,000** (CPM-like normalization).\n",
    "   - This removes library size effects between spots.\n",
    "\n",
    "2. **Log1p transformation:**  \n",
    "   - A natural log + 1 (`log(1 + x)`) was applied to normalized values.\n",
    "   - This reduces the effect of large outlier values and makes distributions more Gaussian-like, which is beneficial for PCA.\n",
    "\n",
    "Result:  \n",
    "- `.X` now contains **log-transformed, total-count-normalized expression values**.\n",
    "\n",
    "---\n",
    "\n",
    "### 📦 Additional Computed Features\n",
    "\n",
    "- **Highly variable genes:** Top 2,000 HVGs identified using the Seurat method.\n",
    "- **Dimensionality reduction:** 50-component PCA performed on HVGs.\n",
    "- **Graph and clustering:**\n",
    "  - 100-nearest-neighbor graph built in PCA space.\n",
    "  - UMAP embedding and Leiden clustering applied.\n",
    "- **Spatial graph:** Moran’s I autocorrelation was computed to assess spatial gene expression structure.\n",
    "- **Metadata annotations:**\n",
    "  - `.obsm['raw_counts']` stores raw counts before normalization.\n",
    "  - `.obs['technology']` and `.var['technology']` both set to `\"RNA\"`.\n",
    "\n",
    "---\n",
    "So we arrive to our final adata_rna h5ad object, filtered and normalized"
   ]
  },
  {
   "cell_type": "markdown",
   "metadata": {},
   "source": [
    "### 🧩 Matching MSI and RNA Spots after MOSCOT Alignment\n",
    "\n",
    "Although MOSCOT aligns MSI and RNA datasets in a shared coordinate space (`obsm['spatial_warp']`), it does not enforce a strict 1-to-1 matching between observations.\n",
    "\n",
    "To enable downstream tasks like prediction or correlation between RNA and MSI, we use spatial nearest-neighbor matching:\n",
    "\n",
    "1. A spatial KD-tree is built on RNA's aligned coordinates.\n",
    "2. For each MSI spot, we find the closest RNA spot in space.\n",
    "3. The result is saved in `matching_df`, a DataFrame mapping MSI rows to RNA rows.\n",
    "\n",
    "This allows us to reorder and filter the original AnnData objects to produce matched datasets with the **same number and ordering of observations**.\n",
    "\n",
    "These matched datasets are later used for modeling tasks where each MSI row corresponds to a specific RNA observation.\n"
   ]
  },
  {
   "cell_type": "code",
   "execution_count": 11,
   "metadata": {},
   "outputs": [
    {
     "name": "stderr",
     "output_type": "stream",
     "text": [
      "/home/icb/yufan.xia/tools/apps/mamba/envs/pipeline/lib/python3.12/site-packages/dask/dataframe/__init__.py:31: FutureWarning: The legacy Dask DataFrame implementation is deprecated and will be removed in a future version. Set the configuration option `dataframe.query-planning` to `True` or None to enable the new Dask Dataframe implementation and silence this warning.\n",
      "  warnings.warn(\n",
      "/home/icb/yufan.xia/tools/apps/mamba/envs/pipeline/lib/python3.12/site-packages/anndata/utils.py:434: FutureWarning: Importing read_text from `anndata` is deprecated. Import anndata.io.read_text instead.\n",
      "  warnings.warn(msg, FutureWarning)\n"
     ]
    }
   ],
   "source": [
    "import numpy as np\n",
    "import scipy as sp\n",
    "import pandas as pd\n",
    "import matplotlib.pyplot as plt\n",
    "import matplotlib.image as mpimg\n",
    "from matplotlib import rcParams\n",
    "import seaborn as sb\n",
    "import anndata as ad\n",
    "import scanpy as sc\n",
    "# import moscot as mt\n",
    "# from moscot.problems.space import AlignmentProblem\n",
    "import squidpy as sq"
   ]
  },
  {
   "cell_type": "code",
   "execution_count": 13,
   "metadata": {},
   "outputs": [],
   "source": [
    "path_rna = '/lustre/groups/ml01/workspace/eirini.giannakoulia/KTH/sma/sma/V11L12-038/V11L12-038_A1/output_data/V11L12-038_A1_RNA/outs'"
   ]
  },
  {
   "cell_type": "code",
   "execution_count": 14,
   "metadata": {},
   "outputs": [
    {
     "name": "stderr",
     "output_type": "stream",
     "text": [
      "/home/icb/yufan.xia/tools/apps/mamba/envs/pipeline/lib/python3.12/site-packages/anndata/_core/anndata.py:1758: UserWarning: Variable names are not unique. To make them unique, call `.var_names_make_unique`.\n",
      "  utils.warn_names_duplicates(\"var\")\n",
      "/home/icb/yufan.xia/tools/apps/mamba/envs/pipeline/lib/python3.12/site-packages/anndata/_core/anndata.py:1758: UserWarning: Variable names are not unique. To make them unique, call `.var_names_make_unique`.\n",
      "  utils.warn_names_duplicates(\"var\")\n"
     ]
    }
   ],
   "source": [
    "adata_rna = sc.read_visium(path_rna)"
   ]
  },
  {
   "cell_type": "code",
   "execution_count": 15,
   "metadata": {},
   "outputs": [
    {
     "data": {
      "image/png": "[encoded data removed]",
      "text/plain": [
       "<Figure size 500x550 with 1 Axes>"
      ]
     },
     "metadata": {},
     "output_type": "display_data"
    },
    {
     "name": "stdout",
     "output_type": "stream",
     "text": [
      "Number of cells after min count filter: 2817\n",
      "Number of cells after max count filter: 2815\n",
      "Number of cells after MT filter: 2815\n",
      "Number of genes after cell filter: 14479\n"
     ]
    },
    {
     "name": "stderr",
     "output_type": "stream",
     "text": [
      "/home/icb/yufan.xia/tools/apps/mamba/envs/pipeline/lib/python3.12/site-packages/scanpy/preprocessing/_simple.py:167: ImplicitModificationWarning: Trying to modify attribute `.obs` of view, initializing view as actual.\n",
      "  adata.obs[\"n_genes\"] = number\n"
     ]
    }
   ],
   "source": [
    "adata_rna = rna_pp(adata_rna)"
   ]
  },
  {
   "cell_type": "code",
   "execution_count": 16,
   "metadata": {},
   "outputs": [
    {
     "name": "stderr",
     "output_type": "stream",
     "text": [
      "/home/icb/yufan.xia/tools/apps/mamba/envs/pipeline/lib/python3.12/site-packages/scanpy/preprocessing/_pca.py:377: FutureWarning: Argument `use_highly_variable` is deprecated, consider using the mask argument. Use_highly_variable=True can be called through mask_var=\"highly_variable\". Use_highly_variable=False can be called through mask_var=None\n",
      "  warn(msg, FutureWarning)\n",
      "/home/icb/yufan.xia/.local/lib/python3.12/site-packages/tqdm/auto.py:21: TqdmWarning: IProgress not found. Please update jupyter and ipywidgets. See https://ipywidgets.readthedocs.io/en/stable/user_install.html\n",
      "  from .autonotebook import tqdm as notebook_tqdm\n"
     ]
    },
    {
     "ename": "ImportError",
     "evalue": "Please install the igraph package: `conda install -c conda-forge python-igraph` or `pip3 install igraph`.",
     "output_type": "error",
     "traceback": [
      "\u001b[31m---------------------------------------------------------------------------\u001b[39m",
      "\u001b[31mImportError\u001b[39m                               Traceback (most recent call last)",
      "\u001b[36mCell\u001b[39m\u001b[36m \u001b[39m\u001b[32mIn[16]\u001b[39m\u001b[32m, line 14\u001b[39m\n\u001b[32m     12\u001b[39m sc.tl.umap(adata_rna)\n\u001b[32m     13\u001b[39m \u001b[38;5;66;03m# Leiden clustering\u001b[39;00m\n\u001b[32m---> \u001b[39m\u001b[32m14\u001b[39m \u001b[43msc\u001b[49m\u001b[43m.\u001b[49m\u001b[43mtl\u001b[49m\u001b[43m.\u001b[49m\u001b[43mleiden\u001b[49m\u001b[43m(\u001b[49m\u001b[43madata_rna\u001b[49m\u001b[43m,\u001b[49m\u001b[43m \u001b[49m\u001b[43mkey_added\u001b[49m\u001b[43m=\u001b[49m\u001b[33;43m'\u001b[39;49m\u001b[33;43mclusters\u001b[39;49m\u001b[33;43m'\u001b[39;49m\u001b[43m)\u001b[49m\n\u001b[32m     15\u001b[39m \u001b[38;5;66;03m# Add technology lable\u001b[39;00m\n\u001b[32m     16\u001b[39m adata_rna.obs[\u001b[33m'\u001b[39m\u001b[33mtechnology\u001b[39m\u001b[33m'\u001b[39m] = \u001b[33m'\u001b[39m\u001b[33mRNA\u001b[39m\u001b[33m'\u001b[39m\n",
      "\u001b[36mFile \u001b[39m\u001b[32m~/tools/apps/mamba/envs/pipeline/lib/python3.12/site-packages/scanpy/tools/_leiden.py:124\u001b[39m, in \u001b[36mleiden\u001b[39m\u001b[34m(adata, resolution, restrict_to, random_state, key_added, adjacency, directed, use_weights, n_iterations, partition_type, neighbors_key, obsp, copy, flavor, **clustering_args)\u001b[39m\n\u001b[32m    120\u001b[39m \u001b[38;5;28;01mif\u001b[39;00m flavor \u001b[38;5;129;01mnot\u001b[39;00m \u001b[38;5;129;01min\u001b[39;00m {\u001b[33m\"\u001b[39m\u001b[33migraph\u001b[39m\u001b[33m\"\u001b[39m, \u001b[33m\"\u001b[39m\u001b[33mleidenalg\u001b[39m\u001b[33m\"\u001b[39m}:\n\u001b[32m    121\u001b[39m     \u001b[38;5;28;01mraise\u001b[39;00m \u001b[38;5;167;01mValueError\u001b[39;00m(\n\u001b[32m    122\u001b[39m         \u001b[33mf\u001b[39m\u001b[33m\"\u001b[39m\u001b[33mflavor must be either \u001b[39m\u001b[33m'\u001b[39m\u001b[33migraph\u001b[39m\u001b[33m'\u001b[39m\u001b[33m or \u001b[39m\u001b[33m'\u001b[39m\u001b[33mleidenalg\u001b[39m\u001b[33m'\u001b[39m\u001b[33m, but \u001b[39m\u001b[33m'\u001b[39m\u001b[38;5;132;01m{\u001b[39;00mflavor\u001b[38;5;132;01m}\u001b[39;00m\u001b[33m'\u001b[39m\u001b[33m was passed\u001b[39m\u001b[33m\"\u001b[39m\n\u001b[32m    123\u001b[39m     )\n\u001b[32m--> \u001b[39m\u001b[32m124\u001b[39m \u001b[43m_utils\u001b[49m\u001b[43m.\u001b[49m\u001b[43mensure_igraph\u001b[49m\u001b[43m(\u001b[49m\u001b[43m)\u001b[49m\n\u001b[32m    125\u001b[39m \u001b[38;5;28;01mif\u001b[39;00m flavor == \u001b[33m\"\u001b[39m\u001b[33migraph\u001b[39m\u001b[33m\"\u001b[39m:\n\u001b[32m    126\u001b[39m     \u001b[38;5;28;01mif\u001b[39;00m directed:\n",
      "\u001b[36mFile \u001b[39m\u001b[32m~/tools/apps/mamba/envs/pipeline/lib/python3.12/site-packages/scanpy/_utils/__init__.py:86\u001b[39m, in \u001b[36mensure_igraph\u001b[39m\u001b[34m()\u001b[39m\n\u001b[32m     84\u001b[39m \u001b[38;5;28;01mif\u001b[39;00m importlib.util.find_spec(\u001b[33m\"\u001b[39m\u001b[33migraph\u001b[39m\u001b[33m\"\u001b[39m):\n\u001b[32m     85\u001b[39m     \u001b[38;5;28;01mreturn\u001b[39;00m\n\u001b[32m---> \u001b[39m\u001b[32m86\u001b[39m \u001b[38;5;28;01mraise\u001b[39;00m \u001b[38;5;167;01mImportError\u001b[39;00m(\n\u001b[32m     87\u001b[39m     \u001b[33m\"\u001b[39m\u001b[33mPlease install the igraph package: \u001b[39m\u001b[33m\"\u001b[39m\n\u001b[32m     88\u001b[39m     \u001b[33m\"\u001b[39m\u001b[33m`conda install -c conda-forge python-igraph` or \u001b[39m\u001b[33m\"\u001b[39m\n\u001b[32m     89\u001b[39m     \u001b[33m\"\u001b[39m\u001b[33m`pip3 install igraph`.\u001b[39m\u001b[33m\"\u001b[39m\n\u001b[32m     90\u001b[39m )\n",
      "\u001b[31mImportError\u001b[39m: Please install the igraph package: `conda install -c conda-forge python-igraph` or `pip3 install igraph`."
     ]
    }
   ],
   "source": [
    "adata_rna.obsm['raw_counts'] = adata_rna.X.copy()\n",
    "# Normalization and log-transformation\n",
    "sc.pp.normalize_total(adata_rna, inplace=True)\n",
    "sc.pp.log1p(adata_rna)\n",
    "# Identify highly variable genes\n",
    "sc.pp.highly_variable_genes(adata_rna, flavor='seurat', n_top_genes=2000, inplace=True)\n",
    "# Dimensionality reduction using PCA\n",
    "sc.pp.pca(adata_rna, n_comps=50, use_highly_variable=True, svd_solver='arpack')\n",
    "# Construct a neighborhood graph\n",
    "sc.pp.neighbors(adata_rna, n_neighbors=100)\n",
    "# Compute UMAP embedding\n",
    "sc.tl.umap(adata_rna)\n",
    "# Leiden clustering\n",
    "sc.tl.leiden(adata_rna, key_added='clusters')\n",
    "# Add technology lable\n",
    "adata_rna.obs['technology'] = 'RNA'\n",
    "adata_rna.var['technology'] = 'RNA'\n",
    "# Add spatially variable genes\n",
    "sq.gr.spatial_neighbors(adata_rna)\n",
    "sq.gr.spatial_autocorr(adata_rna, mode='moran')"
   ]
  },
  {
   "cell_type": "code",
   "execution_count": null,
   "metadata": {},
   "outputs": [],
   "source": [
    "adata_rna"
   ]
  },
  {
   "cell_type": "code",
   "execution_count": null,
   "metadata": {},
   "outputs": [],
   "source": [
    "#Ploting of the RNA data\n",
    "sc.pl.umap(adata_rna, color='clusters', palette=sc.pl.palettes.default_20)\n",
    "sc.pl.spatial(adata_rna, img_key = \"hires\", color=\"clusters\", size=1.5)"
   ]
  },
  {
   "cell_type": "code",
   "execution_count": null,
   "metadata": {},
   "outputs": [],
   "source": [
    "adata_rna"
   ]
  }
 ],
 "metadata": {
  "kernelspec": {
   "display_name": "Python (pipeline)",
   "language": "python",
   "name": "pipeline"
  },
  "language_info": {
   "codemirror_mode": {
    "name": "ipython",
    "version": 3
   },
   "file_extension": ".py",
   "mimetype": "text/x-python",
   "name": "python",
   "nbconvert_exporter": "python",
   "pygments_lexer": "ipython3",
   "version": "3.12.7"
  }
 },
 "nbformat": 4,
 "nbformat_minor": 2
}
