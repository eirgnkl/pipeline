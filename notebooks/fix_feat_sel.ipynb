{
 "cells": [
  {
   "cell_type": "code",
   "execution_count": 1,
   "metadata": {},
   "outputs": [],
   "source": [
    "import numpy as np\n",
    "import pandas as pd\n",
    "import cupy as cp  # For GPU array conversion\n",
    "from xgboost import XGBRegressor\n",
    "from scipy.stats import pearsonr, spearmanr\n",
    "from sklearn.metrics import mean_squared_error, r2_score  # Using MSE then taking sqrt\n",
    "import scanpy as sc\n",
    "import yaml # type: ignore\n",
    "import hashlib\n",
    "import os\n",
    "from sklearn.decomposition import TruncatedSVD\n",
    "from sklearn.preprocessing import StandardScaler\n",
    "import squidpy as sq\n",
    "from scipy.sparse import issparse\n",
    "\n"
   ]
  },
  {
   "cell_type": "code",
   "execution_count": 2,
   "metadata": {},
   "outputs": [],
   "source": [
    "input_rna = \"/lustre/groups/ml01/workspace/anastasia.litinetskaya/code/vitatrack/datasets/RNA_concat_lipids.h5ad\"\n",
    "input_metabolomics = \"/lustre/groups/ml01/workspace/anastasia.litinetskaya/code/vitatrack/datasets/MSI_concat_lipids.h5ad\"\n"
   ]
  },
  {
   "cell_type": "code",
   "execution_count": 3,
   "metadata": {},
   "outputs": [
    {
     "name": "stderr",
     "output_type": "stream",
     "text": [
      "/ictstr01/home/icb/eirini.giannakoulia/tools/apps/mamba/envs/scRNA-env/lib/python3.12/site-packages/anndata/_core/anndata.py:1828: UserWarning: Observation names are not unique. To make them unique, call `.obs_names_make_unique`.\n",
      "  utils.warn_names_duplicates(\"obs\")\n",
      "/ictstr01/home/icb/eirini.giannakoulia/tools/apps/mamba/envs/scRNA-env/lib/python3.12/site-packages/anndata/_core/anndata.py:1828: UserWarning: Observation names are not unique. To make them unique, call `.obs_names_make_unique`.\n",
      "  utils.warn_names_duplicates(\"obs\")\n"
     ]
    }
   ],
   "source": [
    "adata_rna = sc.read_h5ad(input_rna)\n",
    "adata_msi = sc.read_h5ad(input_metabolomics)\n",
    "adata_rna.obs_names_make_unique()\n",
    "adata_msi.obs_names_make_unique()"
   ]
  },
  {
   "cell_type": "code",
   "execution_count": 4,
   "metadata": {},
   "outputs": [],
   "source": [
    "top_genes = 200\n",
    "split_name = 'half_split'\n",
    "n_components = 20\n",
    "n_neighbors = 6\n",
    "featsel = 'svd_graph'\n"
   ]
  },
  {
   "cell_type": "code",
   "execution_count": 5,
   "metadata": {},
   "outputs": [],
   "source": [
    "#Split into train test\n",
    "rna_train = adata_rna[adata_rna.obs[split_name] == \"train\"]\n",
    "rna_test = adata_rna[adata_rna.obs[split_name] == \"test\"]\n",
    "\n",
    "#----------------------------------------------sc-seqRNA----------------------------------------------#\n",
    "#-----SVD-----#\n",
    "svd_reducer = TruncatedSVD(n_components=n_components)\n",
    "\n",
    "svd_features_train = svd_reducer.fit_transform(rna_train.X.toarray())\n",
    "rna_train.obsm[\"svd_features\"] = svd_features_train\n",
    "\n",
    "svd_features_test = svd_reducer.fit_transform(rna_test.X.toarray())\n",
    "rna_test.obsm[\"svd_features\"] = svd_features_test\n",
    "\n",
    "#-----GRAPH-----#\n",
    "# #Check if og data has spatial connectivities or else create the connectivity matrix \n",
    "if \"spatial_connectivities\" not in rna_train.var.columns:\n",
    "    rna_train.obs_names_make_unique()\n",
    "    rna_test.obs_names_make_unique()\n",
    "\n",
    "    rna_train.obs_names = rna_train.obs.og_index.tolist().copy()\n",
    "    rna_train.obs_names_make_unique()\n",
    "    rna_train.obs_names = rna_train.obs_names + \"_11\"\n",
    "\n",
    "    rna_test.obs_names = rna_test.obs.og_index.tolist().copy()\n",
    "    rna_test.obs_names_make_unique()\n",
    "    rna_test.obs_names = rna_test.obs_names + \"_22\"\n",
    "    adata_temp = sc.concat([rna_train, rna_test])\n",
    "    sq.gr.spatial_neighbors(adata_temp, coord_type=\"grid\", spatial_key=\"spatial\", n_neighs=n_neighbors)\n",
    "    svd_reducer = TruncatedSVD(n_components=n_components)\n",
    "\n",
    "    graph_feat_train = svd_reducer.fit_transform(adata_temp[rna_train.obs_names].obsp[\"spatial_connectivities\"])\n",
    "    graph_feat_test = svd_reducer.fit_transform(adata_temp[rna_test.obs_names].obsp[\"spatial_connectivities\"])\n",
    "else:\n",
    "        svd_reducer = TruncatedSVD(n_components=n_components)\n",
    "        graph_feat_train = svd_reducer.fit_transform(rna_train[rna_train.obs_names].obsp[\"spatial_connectivities\"])\n",
    "        graph_feat_test = svd_reducer.fit_transform(rna_test[rna_test.obs_names].obsp[\"spatial_connectivities\"])\n",
    "\n",
    "##Concatenate the standardized features as obtained by svd applied on adata.X and on the s\n",
    "sc_svd = StandardScaler()\n",
    "sc_gr = StandardScaler()\n",
    "\n",
    "rna_sg_train = np.concatenate([sc_svd.fit_transform(svd_features_train), \\\n",
    "                                        sc_gr.fit_transform(graph_feat_train)],\n",
    "                                        axis=1)\n",
    "rna_train.obsm[\"svd_graph\"] = rna_sg_train\n",
    "\n",
    "rna_sg_test = np.concatenate([sc_svd.fit_transform(svd_features_test), \\\n",
    "                                        sc_gr.fit_transform(graph_feat_test)],\n",
    "                                        axis=1)\n",
    "rna_test.obsm[\"svd_graph\"] = rna_sg_test\n",
    "\n",
    "\n",
    "\n",
    "\n",
    "msi_train = adata_msi[adata_msi.obs[split_name] == \"train\"]\n",
    "msi_test = adata_msi[adata_msi.obs[split_name] == \"test\"]\n",
    "\n"
   ]
  },
  {
   "cell_type": "code",
   "execution_count": 9,
   "metadata": {},
   "outputs": [],
   "source": [
    "adata_rna_train = rna_train\n",
    "adata_rna_test = rna_test\n",
    "adata_msi_train = msi_train\n",
    "adata_msi_test = msi_test"
   ]
  },
  {
   "cell_type": "code",
   "execution_count": 10,
   "metadata": {},
   "outputs": [],
   "source": [
    "def convert_to_dense(matrix):\n",
    "    \"\"\"Converts a sparse matrix to dense if necessary.\"\"\"\n",
    "    if issparse(matrix):\n",
    "        return matrix.toarray()\n",
    "    return matrix"
   ]
  },
  {
   "cell_type": "code",
   "execution_count": 11,
   "metadata": {},
   "outputs": [],
   "source": [
    "#adding feature selection as a param to select correct parts of the adata\n",
    "if featsel == \"hvg\":\n",
    "    X_train = adata_rna_train.X  \n",
    "    X_test = adata_rna_test.X  \n",
    "    Y_train, Y_test = adata_msi_train.X, adata_msi_test.X\n",
    "elif featsel == \"hvg_svd\":\n",
    "    X_train = adata_rna_train.obsm[\"svd_features\"]\n",
    "    X_test = adata_rna_test.obsm[\"svd_features\"]\n",
    "    Y_train, Y_test = adata_msi_train.X, adata_msi_test.X\n",
    "elif featsel == \"hvg_svd_graph\":\n",
    "    X_train = adata_rna_train.obsm[\"svd_graph\"]\n",
    "    X_test = adata_rna_test.obsm[\"svd_graph\"] \n",
    "    Y_train, Y_test = adata_msi_train.X, adata_msi_test.X\n",
    "elif featsel == \"svd\":\n",
    "    X_train = adata_rna_train.obsm[\"svd_features\"]\n",
    "    X_test = adata_rna_test.obsm[\"svd_features\"]\n",
    "    Y_train, Y_test = adata_msi_train.X, adata_msi_test.X\n",
    "elif featsel == \"svd_graph\":\n",
    "    X_train = adata_rna_train.obsm[\"svd_graph\"]\n",
    "    X_test = adata_rna_test.obsm[\"svd_graph\"]\n",
    "    Y_train, Y_test = adata_msi_train.X, adata_msi_test.X\n",
    "else:\n",
    "    raise ValueError(f\"Unsupported feature selection method: {featsel}\")"
   ]
  },
  {
   "cell_type": "code",
   "execution_count": null,
   "metadata": {},
   "outputs": [],
   "source": []
  },
  {
   "cell_type": "code",
   "execution_count": 12,
   "metadata": {},
   "outputs": [],
   "source": [
    "from sklearn.linear_model import LinearRegression"
   ]
  },
  {
   "cell_type": "code",
   "execution_count": 14,
   "metadata": {},
   "outputs": [],
   "source": [
    "from sklearn.metrics import r2_score, root_mean_squared_error\n",
    "from scipy.stats import spearmanr, pearsonr\n"
   ]
  },
  {
   "cell_type": "code",
   "execution_count": 15,
   "metadata": {},
   "outputs": [],
   "source": [
    "# Convert to dense if needed\n",
    "X_train = convert_to_dense(X_train)\n",
    "X_test = convert_to_dense(X_test)\n",
    "Y_train = convert_to_dense(Y_train)\n",
    "Y_test = convert_to_dense(Y_test)\n",
    "\n",
    "# Fit linear regression\n",
    "lin = LinearRegression()\n",
    "lin.fit(X_train, Y_train)\n",
    "\n",
    "# Predictions and evaluation\n",
    "Y_pred = lin.predict(X_test)\n",
    "\n",
    "#Pearson spearman\n",
    "pearson_corr = pearsonr(Y_pred.flatten(), Y_test.flatten())[0]\n",
    "spearman_corr = spearmanr(Y_pred.flatten(), Y_test.flatten())[0]\n",
    "\n",
    "#MSE and R2\n",
    "# mse_train = root_mean_squared_error(Y_train, Y_train_pred)\n",
    "mse_test = root_mean_squared_error(Y_test, Y_pred)\n",
    "# r2_train = r2_score(matching_msi_train, msi_train_pred)\n",
    "r2_test = r2_score(Y_test, Y_pred)\n",
    "\n",
    "# Save results to a DataFrame\n",
    "results = pd.DataFrame({\n",
    "'mse': [mse_test],\n",
    "'r2': [r2_test],\n",
    "'pearson': [pearson_corr],\n",
    "'spearman': [spearman_corr]})\n"
   ]
  },
  {
   "cell_type": "code",
   "execution_count": 16,
   "metadata": {},
   "outputs": [
    {
     "data": {
      "text/html": [
       "<div>\n",
       "<style scoped>\n",
       "    .dataframe tbody tr th:only-of-type {\n",
       "        vertical-align: middle;\n",
       "    }\n",
       "\n",
       "    .dataframe tbody tr th {\n",
       "        vertical-align: top;\n",
       "    }\n",
       "\n",
       "    .dataframe thead th {\n",
       "        text-align: right;\n",
       "    }\n",
       "</style>\n",
       "<table border=\"1\" class=\"dataframe\">\n",
       "  <thead>\n",
       "    <tr style=\"text-align: right;\">\n",
       "      <th></th>\n",
       "      <th>mse</th>\n",
       "      <th>r2</th>\n",
       "      <th>pearson</th>\n",
       "      <th>spearman</th>\n",
       "    </tr>\n",
       "  </thead>\n",
       "  <tbody>\n",
       "    <tr>\n",
       "      <th>0</th>\n",
       "      <td>0.232766</td>\n",
       "      <td>-0.048329</td>\n",
       "      <td>0.960787</td>\n",
       "      <td>0.893783</td>\n",
       "    </tr>\n",
       "  </tbody>\n",
       "</table>\n",
       "</div>"
      ],
      "text/plain": [
       "        mse        r2   pearson  spearman\n",
       "0  0.232766 -0.048329  0.960787  0.893783"
      ]
     },
     "execution_count": 16,
     "metadata": {},
     "output_type": "execute_result"
    }
   ],
   "source": [
    "results"
   ]
  },
  {
   "cell_type": "code",
   "execution_count": 17,
   "metadata": {},
   "outputs": [
    {
     "data": {
      "text/plain": [
       "AnnData object with n_obs × n_vars = 5618 × 14196\n",
       "    obs: 'in_tissue', 'array_row', 'array_col', 'mt_frac', 'total_counts', 'n_counts', 'clusters', 'technology', 'random_split', 'half_split', 'og_index', 'slide', 'gex_concat_clusters'\n",
       "    var: 'highly_variable', 'means', 'dispersions', 'dispersions_norm', 'highly_variable_nbatches', 'highly_variable_intersection', 'spatialy_highly_variable', 'gex_highly_variable'\n",
       "    uns: 'gex_concat_clusters', 'hvg', 'neighbors', 'pca', 'slide_colors', 'umap'\n",
       "    obsm: 'X_pca', 'X_umap', 'spatial', 'spatial_warp'\n",
       "    varm: 'PCs'\n",
       "    layers: 'counts'\n",
       "    obsp: 'connectivities', 'distances'"
      ]
     },
     "execution_count": 17,
     "metadata": {},
     "output_type": "execute_result"
    }
   ],
   "source": [
    "adata_rna"
   ]
  },
  {
   "cell_type": "code",
   "execution_count": 18,
   "metadata": {},
   "outputs": [
    {
     "data": {
      "text/plain": [
       "'/lustre/groups/ml01/workspace/anastasia.litinetskaya/code/vitatrack/datasets/RNA_concat_lipids.h5ad'"
      ]
     },
     "execution_count": 18,
     "metadata": {},
     "output_type": "execute_result"
    }
   ],
   "source": [
    "input_rna"
   ]
  },
  {
   "cell_type": "code",
   "execution_count": 7,
   "metadata": {},
   "outputs": [],
   "source": [
    "\n",
    "#----------------------------------------------MSI----------------------------------------------#\n",
    "#MSI processed only for highly variable metabolites, kept hvg_ for uniformality in vars\n",
    "if \"highly_variable\" not in adata_msi.var.columns:\n",
    "    sc.pp.highly_variable_genes(adata_msi, flavor='seurat', n_top_genes=top_genes)\n",
    "hvg_msi = adata_msi[:, adata_msi.var[\"highly_variable\"]]\n",
    "\n",
    "hvg_msi_train = hvg_msi[hvg_msi.obs[split_name] == \"train\"]\n",
    "hvg_msi_test = hvg_msi[hvg_msi.obs[split_name] == \"test\"]\n",
    "\n",
    "#----------------------------------------------SAVE----------------------------------------------#\n"
   ]
  },
  {
   "cell_type": "code",
   "execution_count": null,
   "metadata": {},
   "outputs": [
    {
     "data": {
      "text/plain": [
       "View of AnnData object with n_obs × n_vars = 2810 × 2000\n",
       "    obs: 'in_tissue', 'array_row', 'array_col', 'mt_frac', 'total_counts', 'n_counts', 'clusters', 'technology', 'random_split', 'half_split', 'og_index', 'slide', 'gex_concat_clusters'\n",
       "    var: 'highly_variable', 'means', 'dispersions', 'dispersions_norm', 'highly_variable_nbatches', 'highly_variable_intersection', 'spatialy_highly_variable', 'gex_highly_variable'\n",
       "    uns: 'gex_concat_clusters', 'hvg', 'neighbors', 'pca', 'slide_colors', 'umap'\n",
       "    obsm: 'X_pca', 'X_umap', 'spatial', 'spatial_warp'\n",
       "    varm: 'PCs'\n",
       "    layers: 'counts'\n",
       "    obsp: 'connectivities', 'distances'"
      ]
     },
     "execution_count": 8,
     "metadata": {},
     "output_type": "execute_result"
    }
   ],
   "source": []
  },
  {
   "cell_type": "code",
   "execution_count": null,
   "metadata": {},
   "outputs": [
    {
     "data": {
      "text/plain": [
       "View of AnnData object with n_obs × n_vars = 2808 × 2000\n",
       "    obs: 'in_tissue', 'array_row', 'array_col', 'mt_frac', 'total_counts', 'n_counts', 'clusters', 'technology', 'random_split', 'half_split', 'og_index', 'slide', 'gex_concat_clusters'\n",
       "    var: 'highly_variable', 'means', 'dispersions', 'dispersions_norm', 'highly_variable_nbatches', 'highly_variable_intersection', 'spatialy_highly_variable', 'gex_highly_variable'\n",
       "    uns: 'gex_concat_clusters', 'hvg', 'neighbors', 'pca', 'slide_colors', 'umap'\n",
       "    obsm: 'X_pca', 'X_umap', 'spatial', 'spatial_warp'\n",
       "    varm: 'PCs'\n",
       "    layers: 'counts'\n",
       "    obsp: 'connectivities', 'distances'"
      ]
     },
     "execution_count": 9,
     "metadata": {},
     "output_type": "execute_result"
    }
   ],
   "source": [
    "hvg_rna_train\n",
    "hvg_rna_test"
   ]
  },
  {
   "cell_type": "code",
   "execution_count": 10,
   "metadata": {},
   "outputs": [
    {
     "data": {
      "text/plain": [
       "View of AnnData object with n_obs × n_vars = 2810 × 500\n",
       "    obs: 'technology', 'clusters', 'random_split', 'half_split', 'slide', 'msi_concat_clusters'\n",
       "    var: 'highly_variable', 'means', 'dispersions', 'dispersions_norm', 'highly_variable_nbatches', 'highly_variable_intersection', 'spatialy_highly_variable', 'msi_highly_variable'\n",
       "    uns: 'hvg', 'msi_concat_clusters', 'neighbors', 'pca', 'slide_colors', 'umap'\n",
       "    obsm: 'X_pca', 'X_umap', 'spatial', 'spatial_warp'\n",
       "    varm: 'PCs'\n",
       "    layers: 'counts'\n",
       "    obsp: 'connectivities', 'distances'"
      ]
     },
     "execution_count": 10,
     "metadata": {},
     "output_type": "execute_result"
    }
   ],
   "source": [
    "hvg_msi_train\n"
   ]
  },
  {
   "cell_type": "code",
   "execution_count": 11,
   "metadata": {},
   "outputs": [
    {
     "data": {
      "text/plain": [
       "View of AnnData object with n_obs × n_vars = 2808 × 500\n",
       "    obs: 'technology', 'clusters', 'random_split', 'half_split', 'slide', 'msi_concat_clusters'\n",
       "    var: 'highly_variable', 'means', 'dispersions', 'dispersions_norm', 'highly_variable_nbatches', 'highly_variable_intersection', 'spatialy_highly_variable', 'msi_highly_variable'\n",
       "    uns: 'hvg', 'msi_concat_clusters', 'neighbors', 'pca', 'slide_colors', 'umap'\n",
       "    obsm: 'X_pca', 'X_umap', 'spatial', 'spatial_warp'\n",
       "    varm: 'PCs'\n",
       "    layers: 'counts'\n",
       "    obsp: 'connectivities', 'distances'"
      ]
     },
     "execution_count": 11,
     "metadata": {},
     "output_type": "execute_result"
    }
   ],
   "source": [
    "hvg_msi_test"
   ]
  },
  {
   "cell_type": "code",
   "execution_count": null,
   "metadata": {},
   "outputs": [],
   "source": []
  }
 ],
 "metadata": {
  "kernelspec": {
   "display_name": "Python (scRNA-env)",
   "language": "python",
   "name": "scrna-env"
  }
 },
 "nbformat": 4,
 "nbformat_minor": 2
}
