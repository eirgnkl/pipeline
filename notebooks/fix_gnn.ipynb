{
 "cells": [
  {
   "cell_type": "markdown",
   "metadata": {},
   "source": [
    "Try out the gnn model\n"
   ]
  },
  {
   "cell_type": "code",
   "execution_count": 1,
   "metadata": {},
   "outputs": [],
   "source": [
    "import numpy as np\n",
    "import pandas as pd\n",
    "import scanpy as sc\n",
    "import torch\n",
    "import torch.nn as nn\n",
    "import torch.optim as optim\n",
    "import torch.nn.functional as F\n",
    "from torch_geometric.data import Data\n",
    "from torch_geometric.nn import GCNConv\n",
    "from sklearn.neighbors import NearestNeighbors\n",
    "from sklearn.metrics import r2_score, mean_squared_error\n",
    "from scipy.stats import pearsonr, spearmanr\n",
    "from sklearn.metrics import mean_absolute_error\n",
    "from scipy.sparse import issparse"
   ]
  },
  {
   "cell_type": "code",
   "execution_count": null,
   "metadata": {},
   "outputs": [],
   "source": [
    "adata_rna = sc.read_h5ad(\"/lustre/groups/ml01/workspace/eirini.giannakoulia/datasets/V11L12-038/V11L12-038_A1/V11L12-038_A1.RNA_MOSCOT_paired_hvg.h5ad\")\n",
    "adata_msi = sc.read_h5ad(\"/lustre/groups/ml01/workspace/eirini.giannakoulia/datasets/V11L12-038/V11L12-038_A1/V11L12-038_A1.MSI_MOSCOT_paired_hvg.h5ad\")\n",
    "split = \"split\"\n",
    "adata_rna"
   ]
  },
  {
   "cell_type": "code",
   "execution_count": null,
   "metadata": {},
   "outputs": [],
   "source": [
    "adata_msi"
   ]
  },
  {
   "cell_type": "code",
   "execution_count": null,
   "metadata": {},
   "outputs": [],
   "source": [
    "adata_rna_train = adata_rna[adata_rna.obs[split] == \"train\"]\n",
    "adata_rna_test = adata_rna[adata_rna.obs[split] == \"test\"]\n",
    "adata_msi_train = adata_msi[adata_msi.obs[split] == \"train\"]\n",
    "adata_msi_test = adata_msi[adata_msi.obs[split] == \"test\"]"
   ]
  },
  {
   "cell_type": "code",
   "execution_count": null,
   "metadata": {},
   "outputs": [],
   "source": [
    "coords_rna_train = adata_rna_train.obsm[\"spatial_warp\"]\n",
    "coords_rna_test = adata_rna_test.obsm[\"spatial_warp\"]"
   ]
  },
  {
   "cell_type": "code",
   "execution_count": null,
   "metadata": {},
   "outputs": [],
   "source": [
    "class MultiLayerGCN(torch.nn.Module):\n",
    "    def __init__(self, input_dim, hidden_dim, output_dim, num_layers=3, dropout=0.5):\n",
    "        super(MultiLayerGCN, self).__init__()\n",
    "        \n",
    "        # Define GCN layers\n",
    "        self.layers = torch.nn.ModuleList()\n",
    "        self.layers.append(GCNConv(input_dim, hidden_dim))  # First layer\n",
    "        \n",
    "        # Add hidden layers\n",
    "        for _ in range(num_layers - 2):\n",
    "            self.layers.append(GCNConv(hidden_dim, hidden_dim))  # Middle layers\n",
    "        \n",
    "        self.output_layer = GCNConv(hidden_dim, output_dim)  # Output layer\n",
    "        \n",
    "        self.dropout = dropout\n",
    "\n",
    "    def forward(self, x, edge_index):\n",
    "        # Pass data through each GCN layer with ReLU activation\n",
    "        for layer in self.layers:\n",
    "            x = layer(x, edge_index)\n",
    "            x = F.relu(x)\n",
    "            x = F.dropout(x, p=self.dropout, training=self.training)\n",
    "        \n",
    "        # Final GCN layer (output layer)\n",
    "        x = self.output_layer(x, edge_index)\n",
    "        \n",
    "        return x  "
   ]
  },
  {
   "cell_type": "code",
   "execution_count": null,
   "metadata": {},
   "outputs": [],
   "source": [
    "params = params = {\n",
    "    \"hidden_dim\": 256,       # Hidden layer size for the GCN\n",
    "    \"lr\": 0.001,             # Learning rate for the optimizer\n",
    "    \"layers\": 3,             # Number of GCN layers\n",
    "    \"dropout\": 0.3,          # Dropout rate\n",
    "    \"epochs\": 2000,          # Number of training epochs\n",
    "    \"k_neighbors\": 15,       # Number of neighbors for the training kNN graph\n",
    "    \"k_test_neighbors\": 5    # Number of neighbors for the test kNN graph\n",
    "}\n",
    "# --- Convert Data to Tensors ---\n",
    "X_train_tensor = convert_to_tensor(X_train_np)\n",
    "Y_train_tensor = convert_to_tensor(Y_train_np)\n",
    "X_test_tensor  = convert_to_tensor(X_test_np)\n",
    "Y_test_tensor  = convert_to_tensor(Y_test_np)\n",
    "\n",
    "# --- Device Setup ---\n",
    "device = torch.device(\"cuda\" if torch.cuda.is_available() else \"cpu\")\n",
    "X_train_tensor = X_train_tensor.to(device)\n",
    "Y_train_tensor = Y_train_tensor.to(device)\n",
    "X_test_tensor  = X_test_tensor.to(device)\n",
    "Y_test_tensor  = Y_test_tensor.to(device)\n",
    "\n",
    "# --- Hyperparameters ---\n",
    "hidden_dim = int(params.get('hidden_dim', 256))\n",
    "lr = float(params.get('lr', 0.001))\n",
    "num_layers = int(params.get('layers', 3))\n",
    "dropout = float(params.get('dropout', 0.3))\n",
    "epochs = int(params.get('epochs', 2000))\n",
    "k_train = int(params.get('k_neighbors', 15))\n",
    "k_test = int(params.get('k_test_neighbors', 5))\n",
    "\n",
    "input_dim = X_train_tensor.shape[1]\n",
    "output_dim = Y_train_tensor.shape[1]"
   ]
  },
  {
   "cell_type": "code",
   "execution_count": null,
   "metadata": {},
   "outputs": [],
   "source": [
    "\n",
    "# --- Build Training Graph ---\n",
    "knn_train = NearestNeighbors(n_neighbors=k_train).fit(coords_rna_train)\n",
    "_, indices_train = knn_train.kneighbors(coords_rna_train)\n",
    "train_edges = []\n",
    "for i, neighbors in enumerate(indices_train):\n",
    "    for neighbor in neighbors:\n",
    "        if i != neighbor:  # Avoid self-loops\n",
    "            train_edges.append([i, neighbor])\n",
    "train_edge_index = torch.tensor(train_edges, dtype=torch.long).t().contiguous().to(device)\n",
    "train_data = Data(x=X_train_tensor, edge_index=train_edge_index)\n",
    "\n",
    "# --- Initialize GCN Model ---\n",
    "model = MultiLayerGCN(input_dim, hidden_dim, output_dim, num_layers=num_layers, dropout=dropout).to(device)\n",
    "optimizer = optim.Adam(model.parameters(), lr=lr)\n",
    "criterion = torch.nn.MSELoss()\n",
    "\n",
    "# --- Train GCN Model ---\n",
    "model.train()\n",
    "for epoch in range(epochs):\n",
    "    optimizer.zero_grad()\n",
    "    out = model(train_data.x, train_data.edge_index)\n",
    "    loss = criterion(out, Y_train_tensor)\n",
    "    loss.backward()\n",
    "    optimizer.step()\n",
    "    if epoch % 1000 == 0:\n",
    "        print(f\"Epoch {epoch}, Loss: {loss.item()}\")\n",
    "\n",
    "# --- Build Test Graph ---\n",
    "knn_test = NearestNeighbors(n_neighbors=k_test).fit(coords_rna_test)\n",
    "_, indices_test = knn_test.kneighbors(coords_rna_test)\n",
    "test_edges = []\n",
    "for i, neighbors in enumerate(indices_test):\n",
    "    for neighbor in neighbors:\n",
    "        if i != neighbor:\n",
    "            test_edges.append([i, neighbor])\n",
    "test_edge_index = torch.tensor(test_edges, dtype=torch.long).t().contiguous().to(device)\n",
    "test_data = Data(x=X_test_tensor, edge_index=test_edge_index)\n",
    "\n",
    "# --- Evaluate the Model ---\n",
    "model.eval()\n",
    "with torch.no_grad():\n",
    "    Y_pred_train = model(train_data.x, train_data.edge_index).detach().cpu().numpy()\n",
    "    Y_pred_test = model(test_data.x, test_data.edge_index).detach().cpu().numpy()\n",
    "\n",
    "# --- Compute Evaluation Metrics (Test Set) ---\n",
    "Y_test_np = Y_test_tensor.cpu().numpy()\n",
    "pearson_corr = pearsonr(Y_pred_test.flatten(), Y_test_np.flatten())[0]\n",
    "spearman_corr = spearmanr(Y_pred_test.flatten(), Y_test_np.flatten())[0]\n",
    "rmse_test = np.sqrt(mean_squared_error(Y_test_np, Y_pred_test))\n",
    "r2_test = r2_score(Y_test_np, Y_pred_test)\n",
    "mae_test = mean_absolute_error(Y_test_np, Y_pred_test)\n",
    "\n",
    "metrics = pd.DataFrame({\n",
    "    'rmse': [rmse_test],\n",
    "    'mae': [mae_test],\n",
    "    'r2': [r2_test],\n",
    "    'pearson': [pearson_corr],\n",
    "    'spearman': [spearman_corr]\n",
    "})\n",
    "\n",
    "predictions = pd.DataFrame({\n",
    "    'y_true': Y_test_np.flatten(),\n",
    "    'y_pred': Y_pred_test.flatten()\n",
    "})"
   ]
  },
  {
   "cell_type": "code",
   "execution_count": null,
   "metadata": {},
   "outputs": [],
   "source": [
    "metrics"
   ]
  }
 ],
 "metadata": {
  "kernelspec": {
   "display_name": "Python (minimal)",
   "language": "python",
   "name": "mini"
  }
 },
 "nbformat": 4,
 "nbformat_minor": 2
}
