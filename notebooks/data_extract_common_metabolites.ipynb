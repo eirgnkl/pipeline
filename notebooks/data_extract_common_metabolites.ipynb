{
 "cells": [
  {
   "cell_type": "markdown",
   "metadata": {},
   "source": [
    "## Extract common metabolites from datasets and store them"
   ]
  },
  {
   "cell_type": "code",
   "execution_count": null,
   "metadata": {},
   "outputs": [],
   "source": [
    "# import scanpy as sc\n",
    "# import numpy as np\n",
    "# import pandas as pd\n",
    "# from tqdm import tqdm\n",
    "# from scipy.spatial import cKDTree\n",
    "# from sklearn import model_selection\n",
    "# import seaborn as sns\n",
    "# import squidpy as sq\n",
    "# from sklearn.preprocessing import StandardScaler\n",
    "# from xgboost import XGBRegressor\n",
    "# from sklearn.metrics import r2_score\n",
    "# import matplotlib.pyplot as plt\n",
    "# from sklearn.linear_model import LinearRegression, Ridge\n",
    "# from sklearn.ensemble import RandomForestRegressor\n",
    "# from sklearn.decomposition import TruncatedSVD\n",
    "# from scipy.stats import spearmanr, pearsonr"
   ]
  },
  {
   "cell_type": "code",
   "execution_count": 1,
   "metadata": {},
   "outputs": [
    {
     "name": "stderr",
     "output_type": "stream",
     "text": [
      "/ictstr01/home/icb/eirini.giannakoulia/tools/apps/mamba/envs/scRNA-env/lib/python3.12/site-packages/anndata/utils.py:429: FutureWarning: Importing read_csv from `anndata` is deprecated. Import anndata.io.read_csv instead.\n",
      "  warnings.warn(msg, FutureWarning)\n",
      "/ictstr01/home/icb/eirini.giannakoulia/tools/apps/mamba/envs/scRNA-env/lib/python3.12/site-packages/anndata/utils.py:429: FutureWarning: Importing read_excel from `anndata` is deprecated. Import anndata.io.read_excel instead.\n",
      "  warnings.warn(msg, FutureWarning)\n",
      "/ictstr01/home/icb/eirini.giannakoulia/tools/apps/mamba/envs/scRNA-env/lib/python3.12/site-packages/anndata/utils.py:429: FutureWarning: Importing read_hdf from `anndata` is deprecated. Import anndata.io.read_hdf instead.\n",
      "  warnings.warn(msg, FutureWarning)\n",
      "/ictstr01/home/icb/eirini.giannakoulia/tools/apps/mamba/envs/scRNA-env/lib/python3.12/site-packages/anndata/utils.py:429: FutureWarning: Importing read_loom from `anndata` is deprecated. Import anndata.io.read_loom instead.\n",
      "  warnings.warn(msg, FutureWarning)\n",
      "/ictstr01/home/icb/eirini.giannakoulia/tools/apps/mamba/envs/scRNA-env/lib/python3.12/site-packages/anndata/utils.py:429: FutureWarning: Importing read_mtx from `anndata` is deprecated. Import anndata.io.read_mtx instead.\n",
      "  warnings.warn(msg, FutureWarning)\n",
      "/ictstr01/home/icb/eirini.giannakoulia/tools/apps/mamba/envs/scRNA-env/lib/python3.12/site-packages/anndata/utils.py:429: FutureWarning: Importing read_text from `anndata` is deprecated. Import anndata.io.read_text instead.\n",
      "  warnings.warn(msg, FutureWarning)\n",
      "/ictstr01/home/icb/eirini.giannakoulia/tools/apps/mamba/envs/scRNA-env/lib/python3.12/site-packages/anndata/utils.py:429: FutureWarning: Importing read_umi_tools from `anndata` is deprecated. Import anndata.io.read_umi_tools instead.\n",
      "  warnings.warn(msg, FutureWarning)\n"
     ]
    }
   ],
   "source": [
    "import numpy as np\n",
    "import scipy as sp\n",
    "import pandas as pd\n",
    "import matplotlib.pyplot as plt\n",
    "import matplotlib.image as mpimg\n",
    "from matplotlib import rcParams\n",
    "import seaborn as sb\n",
    "import anndata as ad\n",
    "import scanpy as sc\n"
   ]
  },
  {
   "cell_type": "code",
   "execution_count": 2,
   "metadata": {},
   "outputs": [],
   "source": [
    "import os"
   ]
  },
  {
   "cell_type": "markdown",
   "metadata": {},
   "source": [
    "### V11L12-109_A1 slide"
   ]
  },
  {
   "cell_type": "code",
   "execution_count": 42,
   "metadata": {},
   "outputs": [],
   "source": [
    "# def get_common_metabolites(matrix_type):\n",
    "#     \"\"\"Returns common metabolite m/z values for a given matrix type.\"\"\"\n",
    "#     common_metabolites = {\n",
    "#         \"FMP\": {\n",
    "#             \"Glucose\": 203.0532,\n",
    "#             \"Acetylcholine\": 184.0734,\n",
    "#             \"Lactate\": 113.0223,\n",
    "#             \"Glutamate\": 170.0429,\n",
    "#             \"GABA\": 126.0532,\n",
    "#             \"Choline\": 126.0894,\n",
    "#             \"ATP\": 530.1759,\n",
    "#             \"Serotonin\": 199.0847,\n",
    "#             \"Dopamine\": 176.0688,\n",
    "#             \"Histamine\": 134.0688\n",
    "#         },\n",
    "#         \"DHB\": {\n",
    "#             \"Glucose\": 181.0707,\n",
    "#             \"Acetylcholine\": 146.1170,\n",
    "#             \"Lactate\": 91.0399,\n",
    "#             \"Glutamate\": 148.0604,\n",
    "#             \"GABA\": 104.0708,\n",
    "#             \"Choline\": 104.1070,\n",
    "#             \"ATP\": 508.1934,\n",
    "#             \"Serotonin\": 177.1023,\n",
    "#             \"Dopamine\": 154.0863,\n",
    "#             \"Histamine\": 112.0863\n",
    "#         }\n",
    "#     }\n",
    "#     return common_metabolites.get(matrix_type, {})\n",
    "\n",
    "# def filter_metabolites(adata_msi, matrix_type):\n",
    "#     tolerance = 0.05\n",
    "#     matched_metabolites = {}\n",
    "    \n",
    "#     for metabolite, target_mz in metabolite_mz.items():\n",
    "#         matched_mz = [mz for mz in available_mz_values if abs(mz - target_mz) < tolerance]\n",
    "#         if matched_mz:\n",
    "#             matched_metabolites[metabolite] = matched_mz[0]\n",
    "\n",
    "#     if not matched_metabolites:\n",
    "#         raise ValueError(\"No common metabolites found in the MSI data.\")\n",
    "\n",
    "#     filtered_indices = [str(mz) in map(str, matched_metabolites.values()) for mz in adata_msi.var_names]\n",
    "#     adata_filtered = adata_msi[:, filtered_indices].copy()\n",
    "#     adata_filtered.var_names = [metabolite for metabolite, mz in matched_metabolites.items() if str(mz) in adata_filtered.var_names]\n",
    "    \n",
    "#     return adata_filtered, matched_metabolites\n",
    "\n",
    "def filter_msi_by_fmp10_metabolites(adata_msi, metabolites_file, tolerance=0.01):\n",
    "    \n",
    "    # Load the FMP10 metabolite list\n",
    "    metabolites_df = pd.read_csv(metabolites_file)\n",
    "    \n",
    "    # Extract the observed m/z values from the file\n",
    "    target_mz_values = metabolites_df[\"Observed Mass (m/z)\"].dropna().values\n",
    "\n",
    "    # Convert AnnData var_names to floats\n",
    "    available_mz_values = np.array([float(mz) for mz in adata_msi.var_names])\n",
    "\n",
    "    # Find matching m/z values and keep track of names\n",
    "    matched_metabolites = {}\n",
    "    for mz in available_mz_values:\n",
    "        for target in target_mz_values:\n",
    "            if abs(mz - target) < tolerance:\n",
    "                compound_name = metabolites_df.loc[metabolites_df[\"Observed Mass (m/z)\"] == target, \"Compound\"].values[0]\n",
    "                matched_metabolites[compound_name] = mz\n",
    "                break\n",
    "    # matched_metabolites = {}\n",
    "    # for mz in available_mz_values:\n",
    "    #     close_match = [target for target in target_mz_values if abs(mz - target) < tolerance]\n",
    "    #     if close_match:\n",
    "    #         compound_name = metabolites_df.loc[metabolites_df[\"Observed Mass (m/z)\"] == close_match[0], \"Compound\"].values[0]\n",
    "    #         matched_metabolites[compound_name] = close_match[0]\n",
    "    \n",
    "    if not matched_metabolites:\n",
    "        print(\"No matching metabolites found.\")\n",
    "        return None, {}\n",
    "\n",
    "    # # Find exact matches between MSI data and metabolite list\n",
    "    # matched_metabolites = {\n",
    "    #     metabolites_df.loc[metabolites_df[\"Observed Mass (m/z)\"] == mz, \"Compound\"].values[0]: mz\n",
    "    #     for mz in available_mz_values if mz in target_mz_values\n",
    "    # }\n",
    "    \n",
    "    # if not matched_metabolites:\n",
    "    #     print(\"No matching metabolites found.\")\n",
    "    #     return None, {}\n",
    "    \n",
    "    # Filter AnnData object based on matched m/z values\n",
    "    filtered_indices = [str(mz) in map(str, matched_metabolites.values()) for mz in adata_msi.var_names]\n",
    "    adata_filtered = adata_msi[:, filtered_indices].copy()\n",
    "\n",
    "    # Rename var_names to metabolite names\n",
    "    new_var_names = [name for name in matched_metabolites.keys() if str(matched_metabolites[name]) in adata_filtered.var_names]\n",
    "    adata_filtered.var_names = new_var_names\n",
    "\n",
    "    print(f\"Filtered MSI data to {len(matched_metabolites)} matched metabolites.\")\n",
    "\n",
    "    return adata_filtered, matched_metabolites\n",
    "\n",
    "\n",
    "def save_filtered_data(adata_filtered, slide, plate, matched_metabolites):\n",
    "    output_dir = f\"/lustre/groups/ml01/workspace/eirini.giannakoulia/common_metabolites/{slide}_{plate}/\"\n",
    "    os.makedirs(output_dir, exist_ok=True)\n",
    "\n",
    "    # Save the full filtered AnnData object\n",
    "    all_metabolites_path = f\"{output_dir}/{slide}_{plate}_common_metabolites.h5ad\"\n",
    "    adata_filtered.write(all_metabolites_path)\n",
    "    print(f\"Saved all metabolites to: {all_metabolites_path}\")\n",
    "\n",
    "    # Save each metabolite separately with its name\n",
    "    for metabolite, mz in matched_metabolites.items():\n",
    "        metabolite_adata = adata_filtered[:, [str(mz) in adata_filtered.var_names]]\n",
    "        metabolite_path = f\"{output_dir}/{slide}_{plate}_{metabolite}.h5ad\"\n",
    "        metabolite_adata.write(metabolite_path)\n",
    "        print(f\"Saved {metabolite} to: {metabolite_path}\")\n"
   ]
  },
  {
   "cell_type": "code",
   "execution_count": 43,
   "metadata": {},
   "outputs": [
    {
     "name": "stdout",
     "output_type": "stream",
     "text": [
      "Filtering MSI data for common metabolites in FMP matrix...\n",
      "Filtered MSI data to 28 matched metabolites.\n"
     ]
    },
    {
     "name": "stderr",
     "output_type": "stream",
     "text": [
      "/ictstr01/home/icb/eirini.giannakoulia/tools/apps/mamba/envs/scRNA-env/lib/python3.12/site-packages/anndata/_core/anndata.py:1756: UserWarning: Observation names are not unique. To make them unique, call `.obs_names_make_unique`.\n",
      "  utils.warn_names_duplicates(\"obs\")\n",
      "/ictstr01/home/icb/eirini.giannakoulia/tools/apps/mamba/envs/scRNA-env/lib/python3.12/site-packages/anndata/_core/anndata.py:1756: UserWarning: Observation names are not unique. To make them unique, call `.obs_names_make_unique`.\n",
      "  utils.warn_names_duplicates(\"obs\")\n"
     ]
    }
   ],
   "source": [
    "# slide = \"V11L12-109\"  \n",
    "# plate = \"A1\"  \n",
    "# matrix = \"FMP\"  \n",
    "\n",
    "# base_path = \"/lustre/groups/ml01/workspace/eirini.giannakoulia/datasets\"\n",
    "# path_msi = f\"{base_path}/{slide}/{slide}_{plate}/{slide}_{plate}.MSI_MOSCOT_paired.h5ad\"\n",
    "path_msi = \"/lustre/groups/ml01/workspace/eirini.giannakoulia/datasets/MSI_concat_neurotransmitters.h5ad\"\n",
    "# path_msi = \"/lustre/groups/ml01/workspace/anastasia.litinetskaya/code/vitatrack/datasets/V11L12-038_A1.MSI_MOSCOT_paired_hvg.h5ad\"\n",
    "adata_msi = sc.read_h5ad(path_msi)\n",
    "\n",
    "print(f\"Filtering MSI data for common metabolites in {matrix} matrix...\")\n",
    "adata_filtered, matched_metabolites = filter_msi_by_fmp10_metabolites(adata_msi, \"/lustre/groups/ml01/workspace/eirini.giannakoulia/vitatrack/datasets/FMP10_metabolite_weights.csv\")\n",
    "\n",
    "# save_filtered_data(adata_filtered, slide, plate, matched_metabolites)\n"
   ]
  },
  {
   "cell_type": "code",
   "execution_count": 44,
   "metadata": {},
   "outputs": [
    {
     "data": {
      "text/plain": [
       "{'GABA': np.float64(371.17565),\n",
       " 'Creatinine': np.float64(381.17134),\n",
       " '4-hydroxy benzaldehyde single': np.float64(390.14928),\n",
       " 'Taurine': np.float64(393.12703),\n",
       " 'Creatine': np.float64(399.18195),\n",
       " 'Spermidine': np.float64(413.27046),\n",
       " 'DA': np.float64(421.19136),\n",
       " 'DOPAL-d3': np.float64(423.18201),\n",
       " 'Hordenine single': np.float64(433.23603),\n",
       " '3-MT': np.float64(435.20692),\n",
       " '5-HT': np.float64(444.20715),\n",
       " 'L-Tyrosine single': np.float64(449.19753),\n",
       " 'HVA/MOPEGAL': np.float64(450.17016),\n",
       " '5-HIAA': np.float64(459.16353),\n",
       " '3-OMD': np.float64(479.20822),\n",
       " 'Vanillactic acid': np.float64(480.17509),\n",
       " 'Histamine double': np.float64(646.29606),\n",
       " 'DOPAC/DOPEGAL (*)': np.float64(673.24799),\n",
       " 'Tryptamine double': np.float64(681.30491),\n",
       " '3-MT double (*)': np.float64(688.29517),\n",
       " '6-OHDA double (*)': np.float64(690.27454),\n",
       " '5-HT double (*)': np.float64(697.30673),\n",
       " '3-MT double': np.float64(702.3195),\n",
       " '5-HT double': np.float64(711.31089),\n",
       " '5-HIAA double (*)': np.float64(712.25852),\n",
       " 'L-Tyrosine double': np.float64(716.28983),\n",
       " '3,4 dihydroxy Phenylalanine methyl ester double': np.float64(746.30025),\n",
       " '6-OHDA triple (*)': np.float64(957.37883)}"
      ]
     },
     "execution_count": 44,
     "metadata": {},
     "output_type": "execute_result"
    }
   ],
   "source": [
    "adata_filtered\n",
    "matched_metabolites"
   ]
  },
  {
   "cell_type": "code",
   "execution_count": null,
   "metadata": {},
   "outputs": [
    {
     "data": {
      "text/plain": [
       "AnnData object with n_obs × n_vars = 5443 × 3\n",
       "    obs: 'technology', 'clusters', 'random_split', 'half_split', 'slide', 'msi_concat_clusters'\n",
       "    var: 'highly_variable', 'means', 'dispersions', 'dispersions_norm', 'highly_variable_nbatches', 'highly_variable_intersection', 'spatialy_highly_variable', 'msi_highly_variable'\n",
       "    uns: 'hvg', 'msi_concat_clusters', 'neighbors', 'pca', 'slide_colors', 'umap'\n",
       "    obsm: 'X_pca', 'X_umap', 'spatial', 'spatial_warp'\n",
       "    varm: 'PCs'\n",
       "    layers: 'counts'\n",
       "    obsp: 'connectivities', 'distances'"
      ]
     },
     "execution_count": 17,
     "metadata": {},
     "output_type": "execute_result"
    }
   ],
   "source": [
    "# adata_filtered"
   ]
  },
  {
   "cell_type": "code",
   "execution_count": null,
   "metadata": {},
   "outputs": [
    {
     "data": {
      "text/plain": [
       "{'Serotonin': np.float64(177.01202), 'Dopamine': np.float64(154.026815)}"
      ]
     },
     "execution_count": 63,
     "metadata": {},
     "output_type": "execute_result"
    }
   ],
   "source": [
    "matched_metabolites"
   ]
  },
  {
   "cell_type": "code",
   "execution_count": 71,
   "metadata": {},
   "outputs": [],
   "source": [
    "test_msi = sc.read_h5ad(\"/lustre/groups/ml01/workspace/eirini.giannakoulia/datasets/V11L12-038_A1/V11L12-038_A1_common_metabolites.h5ad\")"
   ]
  },
  {
   "cell_type": "code",
   "execution_count": 73,
   "metadata": {},
   "outputs": [
    {
     "data": {
      "text/plain": [
       "array([[13.4366044 , 11.10103741],\n",
       "       [12.91320665, 12.19834288],\n",
       "       [12.9797991 , 11.21413827],\n",
       "       ...,\n",
       "       [12.89470855, 11.76717277],\n",
       "       [12.42302945, 10.86158308],\n",
       "       [12.81337379, 11.18244822]])"
      ]
     },
     "execution_count": 73,
     "metadata": {},
     "output_type": "execute_result"
    }
   ],
   "source": [
    "test_msi.X"
   ]
  },
  {
   "cell_type": "code",
   "execution_count": 65,
   "metadata": {},
   "outputs": [
    {
     "data": {
      "text/plain": [
       "0.6071572871572871"
      ]
     },
     "execution_count": 65,
     "metadata": {},
     "output_type": "execute_result"
    }
   ],
   "source": [
    "non_zero_count/(5775*3)"
   ]
  },
  {
   "cell_type": "code",
   "execution_count": 66,
   "metadata": {},
   "outputs": [
    {
     "data": {
      "text/plain": [
       "AnnData object with n_obs × n_vars = 5775 × 3\n",
       "    obs: 'technology'\n",
       "    var: 'technology'\n",
       "    obsm: 'spatial'"
      ]
     },
     "execution_count": 66,
     "metadata": {},
     "output_type": "execute_result"
    }
   ],
   "source": [
    "sc.read_h5ad(\"/lustre/groups/ml01/workspace/eirini.giannakoulia/datasets/V11L12-038_B1/V11L12-038_B1_common_metabolites.h5ad\")"
   ]
  },
  {
   "cell_type": "code",
   "execution_count": 5,
   "metadata": {},
   "outputs": [
    {
     "data": {
      "text/plain": [
       "Index(['146.1181', '147.076965', '148.0607', '175.11939999999998',\n",
       "       '205.09774'],\n",
       "      dtype='object')"
      ]
     },
     "execution_count": 5,
     "metadata": {},
     "output_type": "execute_result"
    }
   ],
   "source": [
    "adata_filtered.var_names"
   ]
  },
  {
   "cell_type": "code",
   "execution_count": 6,
   "metadata": {},
   "outputs": [],
   "source": [
    "adata_rna = sc.read('/lustre/groups/ml01/workspace/anastasia.litinetskaya/code/vitatrack/datasets/V11L12-038_A1.RNA_MOSCOT_paired_hvg.h5ad')\n",
    "adata_msi = sc.read('/lustre/groups/ml01/workspace/anastasia.litinetskaya/code/vitatrack/datasets/V11L12-038_A1.MSI_MOSCOT_paired_hvg.h5ad')"
   ]
  },
  {
   "cell_type": "markdown",
   "metadata": {},
   "source": [
    "Glucose"
   ]
  },
  {
   "cell_type": "code",
   "execution_count": null,
   "metadata": {},
   "outputs": [
    {
     "name": "stdout",
     "output_type": "stream",
     "text": [
      "Matching m/z values found: [203.0532]\n"
     ]
    }
   ],
   "source": [
    "# Define the expected m/z values based on ionization mode\n",
    "glucose_mz_values = [180.0634, 181.0707, 179.0561, 203.0532]  # Adjust for ionization modes\n",
    "\n",
    "# Convert var_names (m/z values) to floats\n",
    "mz_values = np.array([float(mz) for mz in adata_msi.var_names])\n",
    "\n",
    "# Find the closest match in the dataset (since experimental m/z values may have slight shifts)\n",
    "tolerance = 0.01  # Adjust if needed\n",
    "matching_mz = [mz for mz in glucose_mz_values if np.any(np.abs(mz_values - mz) < tolerance)]\n",
    "\n",
    "if matching_mz:\n",
    "    print(f\"Matching m/z values found: {matching_mz}\")\n",
    "    # Subset AnnData to keep only the matched variable(s)\n",
    "    adata_glucose = adata_msi[:, [str(mz) in map(str, matching_mz) for mz in adata_msi.var_names]]\n",
    "else:\n",
    "    print(\"No matching m/z found in the dataset.\")\n"
   ]
  },
  {
   "cell_type": "code",
   "execution_count": null,
   "metadata": {},
   "outputs": [
    {
     "data": {
      "text/plain": [
       "[203.0532]"
      ]
     },
     "execution_count": 39,
     "metadata": {},
     "output_type": "execute_result"
    }
   ],
   "source": [
    "glucos  "
   ]
  },
  {
   "cell_type": "markdown",
   "metadata": {},
   "source": [
    "Dopamine"
   ]
  },
  {
   "cell_type": "code",
   "execution_count": 9,
   "metadata": {},
   "outputs": [
    {
     "name": "stdout",
     "output_type": "stream",
     "text": [
      "No matching m/z found in the dataset.\n"
     ]
    }
   ],
   "source": [
    "# Define expected dopamine m/z values for MALDI-FMP10\n",
    "dopamine_mz_values = [154.0863, 176.0688, 192.0428]  # Protonated, Na+, K+ adducts\n",
    "\n",
    "# Convert var_names (m/z values) from strings to floats\n",
    "mz_values = np.array([float(mz) for mz in adata_msi.var_names])\n",
    "\n",
    "# Set a small tolerance for m/z matching (adjust if needed)\n",
    "tolerance = 0.01  \n",
    "\n",
    "# Find matching m/z values in the dataset\n",
    "matching_mz = [mz for mz in dopamine_mz_values if np.any(np.abs(mz_values - mz) < tolerance)]\n",
    "\n",
    "if matching_mz:\n",
    "    print(f\"Matching m/z values found: {matching_mz}\")\n",
    "    # Subset the AnnData object to keep only the matching m/z values\n",
    "    adata_dopamine = adata_msi[:, [str(mz) in map(str, matching_mz) for mz in adata_msi.var_names]]\n",
    "else:\n",
    "    print(\"No matching m/z found in the dataset.\")"
   ]
  },
  {
   "cell_type": "markdown",
   "metadata": {},
   "source": [
    "GABA"
   ]
  },
  {
   "cell_type": "code",
   "execution_count": 17,
   "metadata": {},
   "outputs": [
    {
     "name": "stdout",
     "output_type": "stream",
     "text": [
      "No matching m/z found in the dataset.\n"
     ]
    }
   ],
   "source": [
    "# Define expected GABA m/z values for MALDI-FMP10\n",
    "gaba_mz_values = [104.0708, 126.0532, 142.0272]  # Protonated, Na+, K+ adducts\n",
    "\n",
    "# Convert var_names (m/z values) from strings to floats\n",
    "mz_values = np.array([float(mz) for mz in adata_msi.var_names])\n",
    "\n",
    "# Set a small tolerance for m/z matching (adjust if needed)\n",
    "tolerance = 0.8\n",
    "\n",
    "# Find matching m/z values in the dataset\n",
    "matching_mz = [mz for mz in gaba_mz_values if np.any(np.abs(mz_values - mz) < tolerance)]\n",
    "\n",
    "if matching_mz:\n",
    "    print(f\"Matching m/z values found: {matching_mz}\")\n",
    "    # Subset the AnnData object to keep only the matching m/z values\n",
    "    adata_gaba = adata_msi[:, [str(mz) in map(str, matching_mz) for mz in adata_msi.var_names]]\n",
    "else:\n",
    "    print(\"No matching m/z found in the dataset.\")\n"
   ]
  },
  {
   "cell_type": "markdown",
   "metadata": {},
   "source": [
    "Acetylocholine"
   ]
  },
  {
   "cell_type": "code",
   "execution_count": 18,
   "metadata": {},
   "outputs": [
    {
     "name": "stdout",
     "output_type": "stream",
     "text": [
      "Matching m/z values found: [184.0734]\n"
     ]
    }
   ],
   "source": [
    "# Define expected acetylcholine m/z values for MALDI-FMP10\n",
    "ach_mz_values = [146.1170, 168.0994, 184.0734]  # Protonated, Na+, K+ adducts\n",
    "\n",
    "# Convert var_names (m/z values) from strings to floats\n",
    "mz_values = np.array([float(mz) for mz in adata_msi.var_names])\n",
    "\n",
    "# Set a small tolerance for m/z matching (adjust if needed)\n",
    "tolerance = 0.01  \n",
    "\n",
    "# Find matching m/z values in the dataset\n",
    "matching_mz = [mz for mz in ach_mz_values if np.any(np.abs(mz_values - mz) < tolerance)]\n",
    "\n",
    "if matching_mz:\n",
    "    print(f\"Matching m/z values found: {matching_mz}\")\n",
    "    # Subset the AnnData object to keep only the matching m/z values\n",
    "    adata_ach = adata_msi[:, [str(mz) in map(str, matching_mz) for mz in adata_msi.var_names]]\n",
    "else:\n",
    "    print(\"No matching m/z found in the dataset.\")"
   ]
  },
  {
   "cell_type": "code",
   "execution_count": 23,
   "metadata": {},
   "outputs": [
    {
     "name": "stdout",
     "output_type": "stream",
     "text": [
      "Matching m/z values found: [170.0429]\n"
     ]
    }
   ],
   "source": [
    "# Sodium adduct m/z values for 5 highly probable metabolites\n",
    "probable_na_mz_values = [\n",
    "    113.0223,  # Lactate [M+Na]+\n",
    "    170.0429,  # Glutamate [M+Na]+\n",
    "    126.0532,  # GABA [M+Na]+\n",
    "    126.0894,  # Choline [M+Na]+\n",
    "    530.1759   # ATP [M+Na]+\n",
    "]\n",
    "# Convert var_names (m/z values) from strings to floats\n",
    "mz_values = np.array([float(mz) for mz in adata_msi.var_names])\n",
    "\n",
    "# Set a small tolerance for m/z matching\n",
    "tolerance = 0.05\n",
    "\n",
    "# Find matching m/z values in the dataset\n",
    "matching_mz = [mz for mz in probable_mz_values if np.any(np.abs(mz_values - mz) < tolerance)]\n",
    "\n",
    "if matching_mz:\n",
    "    print(f\"Matching m/z values found: {matching_mz}\")\n",
    "    # Subset the AnnData object to keep only the matching m/z values\n",
    "    adata_probable = adata_msi[:, [str(mz) in map(str, matching_mz) for mz in adata_msi.var_names]]\n",
    "else:\n",
    "    print(\"No matching probable metabolites found.\")"
   ]
  },
  {
   "cell_type": "code",
   "execution_count": 25,
   "metadata": {},
   "outputs": [
    {
     "data": {
      "text/plain": [
       "[170.0429]"
      ]
     },
     "execution_count": 25,
     "metadata": {},
     "output_type": "execute_result"
    }
   ],
   "source": [
    "matching_mz"
   ]
  },
  {
   "cell_type": "code",
   "execution_count": 24,
   "metadata": {},
   "outputs": [
    {
     "data": {
      "text/plain": [
       "View of AnnData object with n_obs × n_vars = 2681 × 0\n",
       "    obs: 'technology', 'clusters', 'split', 'og_index'\n",
       "    var: 'highly_variable', 'means', 'dispersions', 'dispersions_norm'\n",
       "    uns: 'clusters', 'clusters_colors', 'hvg', 'log1p', 'moranI', 'neighbors', 'pca', 'spatial_neighbors', 'umap'\n",
       "    obsm: 'X_pca', 'X_umap', 'raw_counts', 'spatial', 'spatial_warp'\n",
       "    varm: 'PCs'\n",
       "    obsp: 'connectivities', 'distances', 'spatial_connectivities', 'spatial_distances'"
      ]
     },
     "execution_count": 24,
     "metadata": {},
     "output_type": "execute_result"
    }
   ],
   "source": [
    "adata_probable"
   ]
  },
  {
   "cell_type": "code",
   "execution_count": null,
   "metadata": {},
   "outputs": [],
   "source": []
  }
 ],
 "metadata": {
  "kernelspec": {
   "display_name": "Python (scRNA-env)",
   "language": "python",
   "name": "scrna-env"
  },
  "language_info": {
   "codemirror_mode": {
    "name": "ipython",
    "version": 3
   },
   "file_extension": ".py",
   "mimetype": "text/x-python",
   "name": "python",
   "nbconvert_exporter": "python",
   "pygments_lexer": "ipython3",
   "version": "3.12.7"
  }
 },
 "nbformat": 4,
 "nbformat_minor": 2
}
