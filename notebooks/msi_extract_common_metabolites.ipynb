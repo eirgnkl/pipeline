{
 "cells": [
  {
   "cell_type": "markdown",
   "metadata": {},
   "source": [
    "## Extract common metabolites from datasets and store them"
   ]
  },
  {
   "cell_type": "code",
   "execution_count": 1,
   "metadata": {},
   "outputs": [
    {
     "name": "stderr",
     "output_type": "stream",
     "text": [
      "/ictstr01/home/icb/eirini.giannakoulia/tools/apps/mamba/envs/scRNA-env/lib/python3.12/site-packages/anndata/utils.py:429: FutureWarning: Importing read_csv from `anndata` is deprecated. Import anndata.io.read_csv instead.\n",
      "  warnings.warn(msg, FutureWarning)\n",
      "/ictstr01/home/icb/eirini.giannakoulia/tools/apps/mamba/envs/scRNA-env/lib/python3.12/site-packages/anndata/utils.py:429: FutureWarning: Importing read_excel from `anndata` is deprecated. Import anndata.io.read_excel instead.\n",
      "  warnings.warn(msg, FutureWarning)\n",
      "/ictstr01/home/icb/eirini.giannakoulia/tools/apps/mamba/envs/scRNA-env/lib/python3.12/site-packages/anndata/utils.py:429: FutureWarning: Importing read_hdf from `anndata` is deprecated. Import anndata.io.read_hdf instead.\n",
      "  warnings.warn(msg, FutureWarning)\n",
      "/ictstr01/home/icb/eirini.giannakoulia/tools/apps/mamba/envs/scRNA-env/lib/python3.12/site-packages/anndata/utils.py:429: FutureWarning: Importing read_loom from `anndata` is deprecated. Import anndata.io.read_loom instead.\n",
      "  warnings.warn(msg, FutureWarning)\n",
      "/ictstr01/home/icb/eirini.giannakoulia/tools/apps/mamba/envs/scRNA-env/lib/python3.12/site-packages/anndata/utils.py:429: FutureWarning: Importing read_mtx from `anndata` is deprecated. Import anndata.io.read_mtx instead.\n",
      "  warnings.warn(msg, FutureWarning)\n",
      "/ictstr01/home/icb/eirini.giannakoulia/tools/apps/mamba/envs/scRNA-env/lib/python3.12/site-packages/anndata/utils.py:429: FutureWarning: Importing read_text from `anndata` is deprecated. Import anndata.io.read_text instead.\n",
      "  warnings.warn(msg, FutureWarning)\n",
      "/ictstr01/home/icb/eirini.giannakoulia/tools/apps/mamba/envs/scRNA-env/lib/python3.12/site-packages/anndata/utils.py:429: FutureWarning: Importing read_umi_tools from `anndata` is deprecated. Import anndata.io.read_umi_tools instead.\n",
      "  warnings.warn(msg, FutureWarning)\n"
     ]
    }
   ],
   "source": [
    "import numpy as np\n",
    "import scipy as sp\n",
    "import pandas as pd\n",
    "import matplotlib.pyplot as plt\n",
    "import matplotlib.image as mpimg\n",
    "from matplotlib import rcParams\n",
    "import seaborn as sb\n",
    "import anndata as ad\n",
    "import scanpy as sc\n",
    "import os"
   ]
  },
  {
   "cell_type": "markdown",
   "metadata": {},
   "source": [
    "### V11L12-109 neuroconcat\n"
   ]
  },
  {
   "cell_type": "code",
   "execution_count": null,
   "metadata": {},
   "outputs": [],
   "source": [
    "metabolites_df = pd.read_csv(metabolites_file)\n",
    "metabolites_df[\"Compound\"] = metabolites_df[\"Compound\"].str.replace(\" \", \"_\")\n"
   ]
  },
  {
   "cell_type": "code",
   "execution_count": null,
   "metadata": {},
   "outputs": [],
   "source": [
    "path_msi = \"/lustre/groups/ml01/workspace/eirini.giannakoulia/datasets/MSI_concat_neurotransmitters.h5ad\"\n",
    "adata_msi = sc.read_h5ad(path_msi)\n",
    "dataset_name = \"neuro\"\n",
    "output_dir = \"/lustre/groups/ml01/workspace/eirini.giannakoulia/common_metabolites/neuro\"\n",
    "metabolites_file = \"/lustre/groups/ml01/workspace/eirini.giannakoulia/vitatrack/datasets/FMP10_metabolite_weights.csv\"\n",
    "# adata_filtered, matched_metabolites = filter_msi_by_fmp10_metabolites(adata_msi, \"/lustre/groups/ml01/workspace/eirini.giannakoulia/vitatrack/datasets/FMP10_metabolite_weights.csv\")"
   ]
  },
  {
   "cell_type": "code",
   "execution_count": null,
   "metadata": {},
   "outputs": [],
   "source": [
    "# def filter_msi_by_fmp10_metabolites(adata_msi, metabolites_file, tolerance=0.01):\n",
    "\n",
    "# Load the FMP10 metabolite list\n",
    "metabolites_df = pd.read_csv(metabolites_file)\n",
    "metabolites_df[\"Compound\"] = metabolites_df[\"Compound\"].str.replace(\" \", \"_\")\n",
    "\n",
    "# Extract the observed m/z values from the file\n",
    "target_mz_values = metabolites_df[\"Observed Mass (m/z)\"].dropna().values\n",
    "\n",
    "# Convert AnnData var_names to floats\n",
    "available_mz_values = np.array([float(mz) for mz in adata_msi.var_names])\n",
    "\n",
    "# Find matching m/z values and keep track of names\n",
    "matched_metabolites = {}\n",
    "for mz in available_mz_values:\n",
    "    for target in target_mz_values:\n",
    "        if abs(mz - target) < tolerance:\n",
    "            compound_name = metabolites_df.loc[metabolites_df[\"Observed Mass (m/z)\"] == target, \"Compound\"].values[0]\n",
    "            matched_metabolites[compound_name] = mz\n",
    "            break\n",
    "# if not matched_metabolites:\n",
    "#     print(\"No matching metabolites found.\")\n",
    "#     return None, {}\n",
    "\n",
    "# Filter AnnData object based on matched m/z values\n",
    "filtered_indices = [str(mz) in map(str, matched_metabolites.values()) for mz in adata_msi.var_names]\n",
    "adata_filtered = adata_msi[:, filtered_indices].copy()\n",
    "\n",
    "# Rename var_names to metabolite names\n",
    "new_var_names = [name for name in matched_metabolites.keys() if str(matched_metabolites[name]) in adata_filtered.var_names]\n",
    "adata_filtered.var_names = new_var_names\n",
    "\n",
    "print(f\"Filtered MSI data to {len(matched_metabolites)} matched metabolites.\")\n",
    "\n",
    "# return adata_filtered, matched_metabolites\n",
    "\n",
    "\n",
    "# def save_filtered_data(adata_filtered, matched_metabolites, dataset_name, output_path):\n",
    "output_dir = f\"{output_path}/{dataset_name}\"\n",
    "os.makedirs(output_dir, exist_ok=True)\n",
    "\n",
    "# Save the full filtered AnnData object\n",
    "all_metabolites_path = f\"{output_dir}/{dataset_name}_common_metabolites.h5ad\"\n",
    "adata_filtered.write(all_metabolites_path)\n",
    "print(f\"Saved all metabolites to: {all_metabolites_path}\")\n",
    "\n",
    "for metabolite, mz in matched_metabolites.items():\n",
    "    if str(mz) in adata_filtered.var_names:\n",
    "        metabolite_adata = adata_filtered[:, adata_filtered.var_names == str(mz)].copy()\n",
    "        metabolite_path = f\"{output_dir}/{dataset_name}_{metabolite}.h5ad\"\n",
    "        # metabolite_adata.write(metabolite_path)\n",
    "        print(f\"Saved {metabolite} to: {metabolite_path}\")"
   ]
  },
  {
   "cell_type": "code",
   "execution_count": null,
   "metadata": {},
   "outputs": [],
   "source": [
    "def filter_msi_by_fmp10_metabolites(adata_msi, metabolites_file, tolerance=0.01):\n",
    "    \n",
    "    # Load the FMP10 metabolite list\n",
    "    metabolites_df = pd.read_csv(metabolites_file)\n",
    "    metabolites_df[\"Compound\"] = metabolites_df[\"Compound\"].str.replace(\" \", \"_\")\n",
    "    \n",
    "    # Extract the observed m/z values from the file\n",
    "    target_mz_values = metabolites_df[\"Observed Mass (m/z)\"].dropna().values\n",
    "\n",
    "    # Convert AnnData var_names to floats\n",
    "    available_mz_values = np.array([float(mz) for mz in adata_msi.var_names])\n",
    "\n",
    "    # Find matching m/z values and keep track of names\n",
    "    matched_metabolites = {}\n",
    "    for mz in available_mz_values:\n",
    "        for target in target_mz_values:\n",
    "            if abs(mz - target) < tolerance:\n",
    "                compound_name = metabolites_df.loc[metabolites_df[\"Observed Mass (m/z)\"] == target, \"Compound\"].values[0]\n",
    "                matched_metabolites[compound_name] = mz\n",
    "                break\n",
    "    if not matched_metabolites:\n",
    "        print(\"No matching metabolites found.\")\n",
    "        return None, {}\n",
    "    \n",
    "    # Filter AnnData object based on matched m/z values\n",
    "    filtered_indices = [str(mz) in map(str, matched_metabolites.values()) for mz in adata_msi.var_names]\n",
    "    adata_filtered = adata_msi[:, filtered_indices].copy()\n",
    "\n",
    "    # Rename var_names to metabolite names\n",
    "    new_var_names = [name for name in matched_metabolites.keys() if str(matched_metabolites[name]) in adata_filtered.var_names]\n",
    "    adata_filtered.var_names = new_var_names\n",
    "\n",
    "    print(f\"Filtered MSI data to {len(matched_metabolites)} matched metabolites.\")\n",
    "\n",
    "    return adata_filtered, matched_metabolites\n",
    "\n",
    "\n",
    "def save_filtered_data(adata_filtered, matched_metabolites, dataset_name, output_path):\n",
    "    output_dir = f\"{output_path}/{dataset_name}\"\n",
    "    os.makedirs(output_dir, exist_ok=True)\n",
    "\n",
    "    # Save the full filtered AnnData object\n",
    "    all_metabolites_path = f\"{output_dir}/{dataset_name}_common_metabolites.h5ad\"\n",
    "    adata_filtered.write(all_metabolites_path)\n",
    "    print(f\"Saved all metabolites to: {all_metabolites_path}\")\n",
    "\n",
    "    for metabolite, mz in matched_metabolites.items():\n",
    "        if str(mz) in adata_filtered.var_names:\n",
    "            metabolite_adata = adata_filtered[:, adata_filtered.var_names == str(mz)].copy()\n",
    "            metabolite_path = f\"{output_dir}/{dataset_name}_{metabolite}.h5ad\"\n",
    "            # metabolite_adata.write(metabolite_path)\n",
    "            print(f\"Saved {metabolite} to: {metabolite_path}\")"
   ]
  },
  {
   "cell_type": "code",
   "execution_count": 3,
   "metadata": {},
   "outputs": [
    {
     "name": "stderr",
     "output_type": "stream",
     "text": [
      "/ictstr01/home/icb/eirini.giannakoulia/tools/apps/mamba/envs/scRNA-env/lib/python3.12/site-packages/anndata/_core/anndata.py:1756: UserWarning: Observation names are not unique. To make them unique, call `.obs_names_make_unique`.\n",
      "  utils.warn_names_duplicates(\"obs\")\n"
     ]
    },
    {
     "name": "stdout",
     "output_type": "stream",
     "text": [
      "Filtered MSI data to 28 matched metabolites.\n"
     ]
    },
    {
     "name": "stderr",
     "output_type": "stream",
     "text": [
      "/ictstr01/home/icb/eirini.giannakoulia/tools/apps/mamba/envs/scRNA-env/lib/python3.12/site-packages/anndata/_core/anndata.py:1756: UserWarning: Observation names are not unique. To make them unique, call `.obs_names_make_unique`.\n",
      "  utils.warn_names_duplicates(\"obs\")\n"
     ]
    }
   ],
   "source": [
    "path_msi = \"/lustre/groups/ml01/workspace/eirini.giannakoulia/datasets/MSI_concat_neurotransmitters.h5ad\"\n",
    "adata_msi = sc.read_h5ad(path_msi)\n",
    "dataset_name = \"neuro\"\n",
    "output_dir = \"/lustre/groups/ml01/workspace/eirini.giannakoulia/common_metabolites/neuro\"\n",
    "\n",
    "adata_filtered, matched_metabolites = filter_msi_by_fmp10_metabolites(adata_msi, \"/lustre/groups/ml01/workspace/eirini.giannakoulia/vitatrack/datasets/FMP10_metabolite_weights.csv\")"
   ]
  },
  {
   "cell_type": "code",
   "execution_count": 9,
   "metadata": {},
   "outputs": [
    {
     "data": {
      "text/plain": [
       "dict_items([('GABA', np.float64(371.17565)), ('Creatinine', np.float64(381.17134)), ('4-hydroxy benzaldehyde single', np.float64(390.14928)), ('Taurine', np.float64(393.12703)), ('Creatine', np.float64(399.18195)), ('Spermidine', np.float64(413.27046)), ('DA', np.float64(421.19136)), ('DOPAL-d3', np.float64(423.18201)), ('Hordenine single', np.float64(433.23603)), ('3-MT', np.float64(435.20692)), ('5-HT', np.float64(444.20715)), ('L-Tyrosine single', np.float64(449.19753)), ('HVA/MOPEGAL', np.float64(450.17016)), ('5-HIAA', np.float64(459.16353)), ('3-OMD', np.float64(479.20822)), ('Vanillactic acid', np.float64(480.17509)), ('Histamine double', np.float64(646.29606)), ('DOPAC/DOPEGAL (*)', np.float64(673.24799)), ('Tryptamine double', np.float64(681.30491)), ('3-MT double (*)', np.float64(688.29517)), ('6-OHDA double (*)', np.float64(690.27454)), ('5-HT double (*)', np.float64(697.30673)), ('3-MT double', np.float64(702.3195)), ('5-HT double', np.float64(711.31089)), ('5-HIAA double (*)', np.float64(712.25852)), ('L-Tyrosine double', np.float64(716.28983)), ('3,4 dihydroxy Phenylalanine methyl ester double', np.float64(746.30025)), ('6-OHDA triple (*)', np.float64(957.37883))])"
      ]
     },
     "execution_count": 9,
     "metadata": {},
     "output_type": "execute_result"
    }
   ],
   "source": [
    "matched_metabolites.items()"
   ]
  },
  {
   "cell_type": "code",
   "execution_count": null,
   "metadata": {},
   "outputs": [
    {
     "name": "stdout",
     "output_type": "stream",
     "text": [
      "GABA,371.17565\n",
      "Creatinine,381.17134\n",
      "4-hydroxy benzaldehyde single,390.14928\n",
      "Taurine,393.12703\n",
      "Creatine,399.18195\n",
      "Spermidine,413.27046\n",
      "DA,421.19136\n",
      "DOPAL-d3,423.18201\n",
      "Hordenine single,433.23603\n",
      "3-MT,435.20692\n",
      "5-HT,444.20715\n",
      "L-Tyrosine single,449.19753\n",
      "HVA/MOPEGAL,450.17016\n",
      "5-HIAA,459.16353\n",
      "3-OMD,479.20822\n",
      "Vanillactic acid,480.17509\n",
      "Histamine double,646.29606\n",
      "DOPAC/DOPEGAL (*),673.24799\n",
      "Tryptamine double,681.30491\n",
      "3-MT double (*),688.29517\n",
      "6-OHDA double (*),690.27454\n",
      "5-HT double (*),697.30673\n",
      "3-MT double,702.3195\n",
      "5-HT double,711.31089\n",
      "5-HIAA double (*),712.25852\n",
      "L-Tyrosine double,716.28983\n",
      "3,4 dihydroxy Phenylalanine methyl ester double,746.30025\n",
      "6-OHDA triple (*),957.37883\n"
     ]
    }
   ],
   "source": [
    "for metabolite, mz in matched_metabolites.items():\n",
    "    print (f\"{metabolite}, {mz}\")"
   ]
  },
  {
   "cell_type": "code",
   "execution_count": 14,
   "metadata": {},
   "outputs": [
    {
     "data": {
      "text/plain": [
       "View of AnnData object with n_obs × n_vars = 5443 × 0\n",
       "    obs: 'technology', 'clusters', 'random_split', 'half_split', 'slide', 'msi_concat_clusters'\n",
       "    var: 'highly_variable', 'means', 'dispersions', 'dispersions_norm', 'highly_variable_nbatches', 'highly_variable_intersection', 'spatialy_highly_variable', 'msi_highly_variable'\n",
       "    uns: 'hvg', 'msi_concat_clusters', 'neighbors', 'pca', 'slide_colors', 'umap'\n",
       "    obsm: 'X_pca', 'X_umap', 'spatial', 'spatial_warp'\n",
       "    varm: 'PCs'\n",
       "    layers: 'counts'\n",
       "    obsp: 'connectivities', 'distances'"
      ]
     },
     "execution_count": 14,
     "metadata": {},
     "output_type": "execute_result"
    }
   ],
   "source": [
    "adata_filtered[:, adata_filtered.var_names == \"371.17565\"]"
   ]
  },
  {
   "cell_type": "code",
   "execution_count": null,
   "metadata": {},
   "outputs": [
    {
     "name": "stdout",
     "output_type": "stream",
     "text": [
      "Saved all metabolites to: /lustre/groups/ml01/workspace/eirini.giannakoulia/common_metabolites/neuro/neuro/neuro_common_metabolites.h5ad\n",
      "Saved GABA to: /lustre/groups/ml01/workspace/eirini.giannakoulia/common_metabolites/neuro/neuro_GABA.h5ad\n",
      "Saved Creatinine to: /lustre/groups/ml01/workspace/eirini.giannakoulia/common_metabolites/neuro/neuro_Creatinine.h5ad\n",
      "Saved 4-hydroxy benzaldehyde single to: /lustre/groups/ml01/workspace/eirini.giannakoulia/common_metabolites/neuro/neuro_4-hydroxy benzaldehyde single.h5ad\n",
      "Saved Taurine to: /lustre/groups/ml01/workspace/eirini.giannakoulia/common_metabolites/neuro/neuro_Taurine.h5ad\n",
      "Saved Creatine to: /lustre/groups/ml01/workspace/eirini.giannakoulia/common_metabolites/neuro/neuro_Creatine.h5ad\n",
      "Saved Spermidine to: /lustre/groups/ml01/workspace/eirini.giannakoulia/common_metabolites/neuro/neuro_Spermidine.h5ad\n",
      "Saved DA to: /lustre/groups/ml01/workspace/eirini.giannakoulia/common_metabolites/neuro/neuro_DA.h5ad\n",
      "Saved DOPAL-d3 to: /lustre/groups/ml01/workspace/eirini.giannakoulia/common_metabolites/neuro/neuro_DOPAL-d3.h5ad\n",
      "Saved Hordenine single to: /lustre/groups/ml01/workspace/eirini.giannakoulia/common_metabolites/neuro/neuro_Hordenine single.h5ad\n",
      "Saved 3-MT to: /lustre/groups/ml01/workspace/eirini.giannakoulia/common_metabolites/neuro/neuro_3-MT.h5ad\n",
      "Saved 5-HT to: /lustre/groups/ml01/workspace/eirini.giannakoulia/common_metabolites/neuro/neuro_5-HT.h5ad\n",
      "Saved L-Tyrosine single to: /lustre/groups/ml01/workspace/eirini.giannakoulia/common_metabolites/neuro/neuro_L-Tyrosine single.h5ad\n",
      "Saved HVA/MOPEGAL to: /lustre/groups/ml01/workspace/eirini.giannakoulia/common_metabolites/neuro/neuro_HVA/MOPEGAL.h5ad\n",
      "Saved 5-HIAA to: /lustre/groups/ml01/workspace/eirini.giannakoulia/common_metabolites/neuro/neuro_5-HIAA.h5ad\n",
      "Saved 3-OMD to: /lustre/groups/ml01/workspace/eirini.giannakoulia/common_metabolites/neuro/neuro_3-OMD.h5ad\n",
      "Saved Vanillactic acid to: /lustre/groups/ml01/workspace/eirini.giannakoulia/common_metabolites/neuro/neuro_Vanillactic acid.h5ad\n",
      "Saved Histamine double to: /lustre/groups/ml01/workspace/eirini.giannakoulia/common_metabolites/neuro/neuro_Histamine double.h5ad\n",
      "Saved DOPAC/DOPEGAL (*) to: /lustre/groups/ml01/workspace/eirini.giannakoulia/common_metabolites/neuro/neuro_DOPAC/DOPEGAL (*).h5ad\n",
      "Saved Tryptamine double to: /lustre/groups/ml01/workspace/eirini.giannakoulia/common_metabolites/neuro/neuro_Tryptamine double.h5ad\n",
      "Saved 3-MT double (*) to: /lustre/groups/ml01/workspace/eirini.giannakoulia/common_metabolites/neuro/neuro_3-MT double (*).h5ad\n",
      "Saved 6-OHDA double (*) to: /lustre/groups/ml01/workspace/eirini.giannakoulia/common_metabolites/neuro/neuro_6-OHDA double (*).h5ad\n",
      "Saved 5-HT double (*) to: /lustre/groups/ml01/workspace/eirini.giannakoulia/common_metabolites/neuro/neuro_5-HT double (*).h5ad\n",
      "Saved 3-MT double to: /lustre/groups/ml01/workspace/eirini.giannakoulia/common_metabolites/neuro/neuro_3-MT double.h5ad\n",
      "Saved 5-HT double to: /lustre/groups/ml01/workspace/eirini.giannakoulia/common_metabolites/neuro/neuro_5-HT double.h5ad\n",
      "Saved 5-HIAA double (*) to: /lustre/groups/ml01/workspace/eirini.giannakoulia/common_metabolites/neuro/neuro_5-HIAA double (*).h5ad\n",
      "Saved L-Tyrosine double to: /lustre/groups/ml01/workspace/eirini.giannakoulia/common_metabolites/neuro/neuro_L-Tyrosine double.h5ad\n",
      "Saved 3,4 dihydroxy Phenylalanine methyl ester double to: /lustre/groups/ml01/workspace/eirini.giannakoulia/common_metabolites/neuro/neuro_3,4 dihydroxy Phenylalanine methyl ester double.h5ad\n",
      "Saved 6-OHDA triple (*) to: /lustre/groups/ml01/workspace/eirini.giannakoulia/common_metabolites/neuro/neuro_6-OHDA triple (*).h5ad\n"
     ]
    }
   ],
   "source": [
    "# save_filtered_data(adata_filtered, matched_metabolites, dataset_name, output_dir)\n",
    "\n",
    "for metabolite, mz in matched_metabolites.items():\n",
    "        metabolite_adata = adata_filtered[:, adata_filtered.var_names == str(mz)].copy()\n",
    "        metabolite_path = f\"{output_dir}/{dataset_name}_{metabolite}.h5ad\"\n",
    "        # metabolite_adata.write(metabolite_path)\n",
    "        print(f\"Saved {metabolite} to: {metabolite_path}\")\n",
    "        \n",
    "    # if str(mz) in adata_filtered.var_names:\n",
    "    #     metabolite_adata = adata_filtered[:, adata_filtered.var_names == str(mz)].copy()\n",
    "    #     metabolite_path = f\"{output_dir}/{dataset_name}_{metabolite}.h5ad\"\n",
    "    #     # metabolite_adata.write(metabolite_path)\n",
    "    #     print(f\"Saved {metabolite} to: {metabolite_path}\")"
   ]
  },
  {
   "cell_type": "markdown",
   "metadata": {},
   "source": []
  },
  {
   "cell_type": "code",
   "execution_count": 44,
   "metadata": {},
   "outputs": [
    {
     "data": {
      "text/plain": [
       "{'GABA': np.float64(371.17565),\n",
       " 'Creatinine': np.float64(381.17134),\n",
       " '4-hydroxy benzaldehyde single': np.float64(390.14928),\n",
       " 'Taurine': np.float64(393.12703),\n",
       " 'Creatine': np.float64(399.18195),\n",
       " 'Spermidine': np.float64(413.27046),\n",
       " 'DA': np.float64(421.19136),\n",
       " 'DOPAL-d3': np.float64(423.18201),\n",
       " 'Hordenine single': np.float64(433.23603),\n",
       " '3-MT': np.float64(435.20692),\n",
       " '5-HT': np.float64(444.20715),\n",
       " 'L-Tyrosine single': np.float64(449.19753),\n",
       " 'HVA/MOPEGAL': np.float64(450.17016),\n",
       " '5-HIAA': np.float64(459.16353),\n",
       " '3-OMD': np.float64(479.20822),\n",
       " 'Vanillactic acid': np.float64(480.17509),\n",
       " 'Histamine double': np.float64(646.29606),\n",
       " 'DOPAC/DOPEGAL (*)': np.float64(673.24799),\n",
       " 'Tryptamine double': np.float64(681.30491),\n",
       " '3-MT double (*)': np.float64(688.29517),\n",
       " '6-OHDA double (*)': np.float64(690.27454),\n",
       " '5-HT double (*)': np.float64(697.30673),\n",
       " '3-MT double': np.float64(702.3195),\n",
       " '5-HT double': np.float64(711.31089),\n",
       " '5-HIAA double (*)': np.float64(712.25852),\n",
       " 'L-Tyrosine double': np.float64(716.28983),\n",
       " '3,4 dihydroxy Phenylalanine methyl ester double': np.float64(746.30025),\n",
       " '6-OHDA triple (*)': np.float64(957.37883)}"
      ]
     },
     "execution_count": 44,
     "metadata": {},
     "output_type": "execute_result"
    }
   ],
   "source": [
    "adata_filtered\n",
    "matched_metabolites"
   ]
  },
  {
   "cell_type": "code",
   "execution_count": null,
   "metadata": {},
   "outputs": [],
   "source": []
  }
 ],
 "metadata": {
  "kernelspec": {
   "display_name": "Python (scRNA-env)",
   "language": "python",
   "name": "scrna-env"
  },
  "language_info": {
   "codemirror_mode": {
    "name": "ipython",
    "version": 3
   },
   "file_extension": ".py",
   "mimetype": "text/x-python",
   "name": "python",
   "nbconvert_exporter": "python",
   "pygments_lexer": "ipython3",
   "version": "3.12.7"
  }
 },
 "nbformat": 4,
 "nbformat_minor": 2
}
