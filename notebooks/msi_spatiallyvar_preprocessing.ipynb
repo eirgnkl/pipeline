{
 "cells": [
  {
   "cell_type": "code",
   "execution_count": 10,
   "metadata": {},
   "outputs": [],
   "source": [
    "import scanpy as sc\n",
    "import numpy as np\n",
    "import pandas as pd\n",
    "from tqdm import tqdm\n",
    "import seaborn as sns\n",
    "import squidpy as sq\n",
    "from sklearn.preprocessing import StandardScaler\n",
    "# from sklearn import model_selection\n",
    "from sklearn.metrics import r2_score\n",
    "import matplotlib.pyplot as plt\n",
    "import os\n"
   ]
  },
  {
   "cell_type": "code",
   "execution_count": 11,
   "metadata": {},
   "outputs": [],
   "source": [
    "#Set path to data\n",
    "path_msi = \"/lustre/groups/ml01/workspace/anastasia.litinetskaya/code/vitatrack/datasets/V11L12-038_A1.MSI_MOSCOT_paired_hvg.h5ad\"\n",
    "# path_rna = \"/lustre/groups/ml01/workspace/anastasia.litinetskaya/code/vitatrack/datasets/RNA_concat_lipids.h5ad\"\n"
   ]
  },
  {
   "cell_type": "code",
   "execution_count": 12,
   "metadata": {},
   "outputs": [],
   "source": [
    "# Set task/dataset name and path to store (keep MSI since it will be used for storing)\n",
    "dataset_name  = \"V11L12-038_A1.MSI_MOSCOT_paired_hvg\"\n",
    "store_dir = \"/lustre/groups/ml01/workspace/eirini.giannakoulia/hand_prep/\"\n",
    "# name of final data will be a combination of task_name and topN abundant metabs"
   ]
  },
  {
   "cell_type": "code",
   "execution_count": 13,
   "metadata": {},
   "outputs": [],
   "source": [
    "adata_msi_full = sc.read_h5ad(path_msi)\n",
    "# adata_rna_full = sc.read_h5ad(path_rna)"
   ]
  },
  {
   "cell_type": "markdown",
   "metadata": {},
   "source": [
    "### Prepare MSI data"
   ]
  },
  {
   "cell_type": "code",
   "execution_count": 14,
   "metadata": {},
   "outputs": [
    {
     "data": {
      "text/plain": [
       "AnnData object with n_obs × n_vars = 2681 × 500\n",
       "    obs: 'technology', 'clusters', 'split', 'og_index'\n",
       "    var: 'highly_variable', 'means', 'dispersions', 'dispersions_norm'\n",
       "    uns: 'clusters', 'clusters_colors', 'hvg', 'log1p', 'moranI', 'neighbors', 'pca', 'spatial_neighbors', 'umap'\n",
       "    obsm: 'X_pca', 'X_umap', 'raw_counts', 'spatial', 'spatial_warp'\n",
       "    varm: 'PCs'\n",
       "    obsp: 'connectivities', 'distances', 'spatial_connectivities', 'spatial_distances'"
      ]
     },
     "execution_count": 14,
     "metadata": {},
     "output_type": "execute_result"
    }
   ],
   "source": [
    "adata_msi_full"
   ]
  },
  {
   "cell_type": "code",
   "execution_count": 15,
   "metadata": {},
   "outputs": [],
   "source": [
    "adata_msi_full.var_names_make_unique()"
   ]
  },
  {
   "cell_type": "code",
   "execution_count": 16,
   "metadata": {},
   "outputs": [
    {
     "data": {
      "text/plain": [
       "AnnData object with n_obs × n_vars = 2681 × 500\n",
       "    obs: 'technology', 'clusters', 'split', 'og_index'\n",
       "    var: 'highly_variable', 'means', 'dispersions', 'dispersions_norm'\n",
       "    uns: 'clusters', 'clusters_colors', 'hvg', 'log1p', 'moranI', 'neighbors', 'pca', 'spatial_neighbors', 'umap'\n",
       "    obsm: 'X_pca', 'X_umap', 'raw_counts', 'spatial', 'spatial_warp'\n",
       "    varm: 'PCs'\n",
       "    obsp: 'connectivities', 'distances', 'spatial_connectivities', 'spatial_distances'"
      ]
     },
     "execution_count": 16,
     "metadata": {},
     "output_type": "execute_result"
    }
   ],
   "source": [
    "adata_msi_full"
   ]
  },
  {
   "cell_type": "markdown",
   "metadata": {},
   "source": [
    "Here you can subset metabolites for noise  \n",
    "e.g.:  \n",
    "Remove m/z below FMP10, because most likely this is noise:  \n",
    "```python\n",
    "adata_msi_full.var_names  \n",
    "adata_msi = adata_msi_full[:, adata_msi_full.var_names.astype(float) > 288.15].copy()"
   ]
  },
  {
   "cell_type": "code",
   "execution_count": 17,
   "metadata": {},
   "outputs": [
    {
     "data": {
      "text/plain": [
       "Index(['137.023795', '154.026815', '162.11293999999998', '169.07619',\n",
       "       '169.076575', '170.07992000000002', '170.08429999999998', '171.09223',\n",
       "       '176.00807', '176.00849',\n",
       "       ...\n",
       "       '968.5382649999999', '968.564535', '969.56285', '973.551305',\n",
       "       '980.533075', '981.582135', '982.519885', '983.879985', '985.53971',\n",
       "       '989.5183649999999'],\n",
       "      dtype='object', length=500)"
      ]
     },
     "execution_count": 17,
     "metadata": {},
     "output_type": "execute_result"
    }
   ],
   "source": [
    "adata_msi_full.var_names"
   ]
  },
  {
   "cell_type": "code",
   "execution_count": null,
   "metadata": {},
   "outputs": [],
   "source": [
    "# adata_msi = adata_msi_full[:, adata_msi_full.var_names.astype(float) > 288.15].copy()\n"
   ]
  },
  {
   "cell_type": "code",
   "execution_count": 19,
   "metadata": {},
   "outputs": [],
   "source": [
    "adata_msi = adata_msi_full.copy()"
   ]
  },
  {
   "cell_type": "code",
   "execution_count": 20,
   "metadata": {},
   "outputs": [
    {
     "data": {
      "text/plain": [
       "AnnData object with n_obs × n_vars = 2681 × 500\n",
       "    obs: 'technology', 'clusters', 'split', 'og_index'\n",
       "    var: 'highly_variable', 'means', 'dispersions', 'dispersions_norm'\n",
       "    uns: 'clusters', 'clusters_colors', 'hvg', 'log1p', 'moranI', 'neighbors', 'pca', 'spatial_neighbors', 'umap'\n",
       "    obsm: 'X_pca', 'X_umap', 'raw_counts', 'spatial', 'spatial_warp'\n",
       "    varm: 'PCs'\n",
       "    obsp: 'connectivities', 'distances', 'spatial_connectivities', 'spatial_distances'"
      ]
     },
     "execution_count": 20,
     "metadata": {},
     "output_type": "execute_result"
    }
   ],
   "source": [
    "adata_msi"
   ]
  },
  {
   "cell_type": "markdown",
   "metadata": {},
   "source": [
    "Quality control"
   ]
  },
  {
   "cell_type": "code",
   "execution_count": 1,
   "metadata": {},
   "outputs": [],
   "source": [
    "# sc.pp.calculate_qc_metrics(adata_msi, inplace=True)"
   ]
  },
  {
   "cell_type": "code",
   "execution_count": null,
   "metadata": {},
   "outputs": [],
   "source": []
  },
  {
   "cell_type": "code",
   "execution_count": null,
   "metadata": {},
   "outputs": [
    {
     "data": {
      "text/plain": [
       "<Axes: xlabel='n_cells_by_counts', ylabel='Count'>"
      ]
     },
     "execution_count": 13,
     "metadata": {},
     "output_type": "execute_result"
    },
    {
     "data": {
      "image/png": "[encoded data removed]",
      "text/plain": [
       "<Figure size 640x480 with 1 Axes>"
      ]
     },
     "metadata": {},
     "output_type": "display_data"
    }
   ],
   "source": [
    "sns.histplot(adata_msi.obs.total_counts) #This sums all the metabolites m/z ratios for each cell\n",
    "sns.histplot(adata_msi.var.n_cells_by_counts) #This sums all the cells for each metabolite m/z ratio\n",
    "adata_msi.var.n_cells_by_counts.describe()\n",
    "\n",
    "# we notice that o"
   ]
  },
  {
   "cell_type": "markdown",
   "metadata": {},
   "source": [
    "### Let's identify most spatialy variable metabolites"
   ]
  },
  {
   "cell_type": "code",
   "execution_count": 21,
   "metadata": {},
   "outputs": [
    {
     "data": {
      "text/plain": [
       "AnnData object with n_obs × n_vars = 2681 × 500\n",
       "    obs: 'technology', 'clusters', 'split', 'og_index'\n",
       "    var: 'highly_variable', 'means', 'dispersions', 'dispersions_norm'\n",
       "    uns: 'clusters', 'clusters_colors', 'hvg', 'log1p', 'moranI', 'neighbors', 'pca', 'spatial_neighbors', 'umap'\n",
       "    obsm: 'X_pca', 'X_umap', 'raw_counts', 'spatial', 'spatial_warp'\n",
       "    varm: 'PCs'\n",
       "    obsp: 'connectivities', 'distances', 'spatial_connectivities', 'spatial_distances'"
      ]
     },
     "execution_count": 21,
     "metadata": {},
     "output_type": "execute_result"
    }
   ],
   "source": [
    "adata_msi"
   ]
  },
  {
   "cell_type": "markdown",
   "metadata": {},
   "source": [
    "MoranI already present, but just for completeness let's go for the procedure from beginning\n",
    "\n"
   ]
  },
  {
   "cell_type": "code",
   "execution_count": 22,
   "metadata": {},
   "outputs": [],
   "source": [
    "# Identify top 5 most spatially variable metabolomes using Moran's I\n",
    "sq.gr.spatial_neighbors(adata_msi, spatial_key='spatial_warp')\n",
    "sq.gr.spatial_autocorr(adata_msi)\n"
   ]
  },
  {
   "cell_type": "markdown",
   "metadata": {},
   "source": [
    "Do a sorting based first on index, then on Benjamini Hochberg FDR correction pvalue and select the top 30"
   ]
  },
  {
   "cell_type": "code",
   "execution_count": 23,
   "metadata": {},
   "outputs": [
    {
     "data": {
      "text/html": [
       "<div>\n",
       "<style scoped>\n",
       "    .dataframe tbody tr th:only-of-type {\n",
       "        vertical-align: middle;\n",
       "    }\n",
       "\n",
       "    .dataframe tbody tr th {\n",
       "        vertical-align: top;\n",
       "    }\n",
       "\n",
       "    .dataframe thead th {\n",
       "        text-align: right;\n",
       "    }\n",
       "</style>\n",
       "<table border=\"1\" class=\"dataframe\">\n",
       "  <thead>\n",
       "    <tr style=\"text-align: right;\">\n",
       "      <th></th>\n",
       "      <th>I</th>\n",
       "      <th>pval_norm</th>\n",
       "      <th>var_norm</th>\n",
       "      <th>pval_norm_fdr_bh</th>\n",
       "    </tr>\n",
       "  </thead>\n",
       "  <tbody>\n",
       "    <tr>\n",
       "      <th>203.05299000000002</th>\n",
       "      <td>0.728759</td>\n",
       "      <td>0.000000</td>\n",
       "      <td>0.000113</td>\n",
       "      <td>0.000000</td>\n",
       "    </tr>\n",
       "    <tr>\n",
       "      <th>162.11293999999998</th>\n",
       "      <td>0.720096</td>\n",
       "      <td>0.000000</td>\n",
       "      <td>0.000113</td>\n",
       "      <td>0.000000</td>\n",
       "    </tr>\n",
       "    <tr>\n",
       "      <th>214.01164</th>\n",
       "      <td>0.692849</td>\n",
       "      <td>0.000000</td>\n",
       "      <td>0.000113</td>\n",
       "      <td>0.000000</td>\n",
       "    </tr>\n",
       "    <tr>\n",
       "      <th>280.092375</th>\n",
       "      <td>0.690487</td>\n",
       "      <td>0.000000</td>\n",
       "      <td>0.000113</td>\n",
       "      <td>0.000000</td>\n",
       "    </tr>\n",
       "    <tr>\n",
       "      <th>845.51016</th>\n",
       "      <td>0.678208</td>\n",
       "      <td>0.000000</td>\n",
       "      <td>0.000113</td>\n",
       "      <td>0.000000</td>\n",
       "    </tr>\n",
       "    <tr>\n",
       "      <th>...</th>\n",
       "      <td>...</td>\n",
       "      <td>...</td>\n",
       "      <td>...</td>\n",
       "      <td>...</td>\n",
       "    </tr>\n",
       "    <tr>\n",
       "      <th>757.524185</th>\n",
       "      <td>-0.012857</td>\n",
       "      <td>0.120397</td>\n",
       "      <td>0.000113</td>\n",
       "      <td>0.131438</td>\n",
       "    </tr>\n",
       "    <tr>\n",
       "      <th>955.885645</th>\n",
       "      <td>-0.013307</td>\n",
       "      <td>0.112128</td>\n",
       "      <td>0.000113</td>\n",
       "      <td>0.122678</td>\n",
       "    </tr>\n",
       "    <tr>\n",
       "      <th>985.53971</th>\n",
       "      <td>-0.015396</td>\n",
       "      <td>0.079038</td>\n",
       "      <td>0.000113</td>\n",
       "      <td>0.087626</td>\n",
       "    </tr>\n",
       "    <tr>\n",
       "      <th>889.700055</th>\n",
       "      <td>-0.016634</td>\n",
       "      <td>0.063264</td>\n",
       "      <td>0.000113</td>\n",
       "      <td>0.070924</td>\n",
       "    </tr>\n",
       "    <tr>\n",
       "      <th>808.216595</th>\n",
       "      <td>-0.019860</td>\n",
       "      <td>0.033545</td>\n",
       "      <td>0.000113</td>\n",
       "      <td>0.038033</td>\n",
       "    </tr>\n",
       "  </tbody>\n",
       "</table>\n",
       "<p>500 rows × 4 columns</p>\n",
       "</div>"
      ],
      "text/plain": [
       "                           I  pval_norm  var_norm  pval_norm_fdr_bh\n",
       "203.05299000000002  0.728759   0.000000  0.000113          0.000000\n",
       "162.11293999999998  0.720096   0.000000  0.000113          0.000000\n",
       "214.01164           0.692849   0.000000  0.000113          0.000000\n",
       "280.092375          0.690487   0.000000  0.000113          0.000000\n",
       "845.51016           0.678208   0.000000  0.000113          0.000000\n",
       "...                      ...        ...       ...               ...\n",
       "757.524185         -0.012857   0.120397  0.000113          0.131438\n",
       "955.885645         -0.013307   0.112128  0.000113          0.122678\n",
       "985.53971          -0.015396   0.079038  0.000113          0.087626\n",
       "889.700055         -0.016634   0.063264  0.000113          0.070924\n",
       "808.216595         -0.019860   0.033545  0.000113          0.038033\n",
       "\n",
       "[500 rows x 4 columns]"
      ]
     },
     "execution_count": 23,
     "metadata": {},
     "output_type": "execute_result"
    }
   ],
   "source": [
    "adata_msi.uns[\"moranI\"]"
   ]
  },
  {
   "cell_type": "code",
   "execution_count": 24,
   "metadata": {},
   "outputs": [],
   "source": [
    "top_30_spat = adata_msi.uns[\"moranI\"].loc[adata_msi.uns[\"moranI\"].pval_norm_fdr_bh < 0.05].sort_values(by=[\"I\", \"pval_norm_fdr_bh\"], ascending=[False, True]).index[:30]\n"
   ]
  },
  {
   "cell_type": "markdown",
   "metadata": {},
   "source": [
    "Mini correction for known matrix peaks, select matrix and mode\n"
   ]
  },
  {
   "cell_type": "code",
   "execution_count": 25,
   "metadata": {},
   "outputs": [
    {
     "data": {
      "text/plain": [
       "array([137.023795, 154.026815, 162.11294 , 169.07619 , 169.076575,\n",
       "       170.07992 , 170.0843  , 171.09223 , 176.00807 , 176.00849 ,\n",
       "       177.01202 , 184.073665, 192.910475, 195.09167 , 195.09231 ,\n",
       "       196.09551 , 196.099945, 197.990325, 198.089485, 198.997635,\n",
       "       198.99817 , 198.99861 , 203.05299 , 206.055125, 209.956945,\n",
       "       213.964855, 214.01164 , 223.03314 , 225.970665, 236.99253 ,\n",
       "       240.122615, 245.044795, 250.092675, 250.09344 , 251.96655 ,\n",
       "       251.9674  , 268.104005, 269.107645, 273.03447 , 273.03932 ,\n",
       "       274.036065, 274.036655, 274.04128 , 274.041785, 274.042885,\n",
       "       274.04389 , 274.04675 , 275.04461 , 275.045965, 275.054015,\n",
       "       275.05495 , 275.055885, 275.066305, 280.092375, 282.27948 ,\n",
       "       287.054975, 289.03455 , 290.04088 , 290.041915, 290.04295 ,\n",
       "       291.04627 , 291.048925, 291.04997 , 291.975255, 292.053015,\n",
       "       292.05779 , 293.065595, 295.02107 , 295.022045, 296.065955,\n",
       "       297.048175, 297.06824 , 297.070615, 298.065095, 299.305405,\n",
       "       304.299925, 305.092295, 305.302855, 307.043815, 310.310125,\n",
       "       312.02406 , 313.022105, 313.03045 , 313.031765, 313.033195,\n",
       "       320.090845, 321.08627 , 322.09011 , 327.10018 , 329.026035,\n",
       "       331.04036 , 331.043305, 331.10728 , 332.331045, 333.05838 ,\n",
       "       335.013615, 337.08141 , 337.949665, 338.139635, 343.05333 ,\n",
       "       343.068625, 343.073765, 343.294755, 353.023935, 353.88166 ,\n",
       "       354.022145, 359.042615, 360.045865, 361.971505, 364.066415,\n",
       "       364.902325, 364.90382 , 364.90546 , 367.319855, 368.136475,\n",
       "       368.42439 , 370.98145 , 371.104515, 375.00595 , 375.00721 ,\n",
       "       375.037455, 381.009   , 381.2508  , 382.10608 , 382.89424 ,\n",
       "       384.8918  , 386.02341 , 387.02942 , 390.16662 , 390.97712 ,\n",
       "       390.980885, 395.913475, 399.14145 , 399.14538 , 400.14659 ,\n",
       "       402.019995, 402.35666 , 406.95064 , 409.052015, 409.053895,\n",
       "       409.05614 , 410.05802 , 423.9825  , 424.984455, 427.06353 ,\n",
       "       428.03476 , 438.057375, 439.06247 , 439.064625, 439.067435,\n",
       "       440.06893 , 449.04573 , 460.09934 , 464.079215, 465.987905,\n",
       "       465.990335, 480.307365, 496.33378 , 498.148755, 503.947455,\n",
       "       508.33751 , 518.26212 , 519.26509 , 520.337765, 524.051875,\n",
       "       524.056185, 525.92935 , 527.06928 , 542.06125 , 542.06487 ,\n",
       "       546.017335, 546.02602 , 546.03804 , 546.05508 , 546.294005,\n",
       "       548.051095, 551.00868 , 556.216515, 557.16147 , 563.26266 ,\n",
       "       566.98614 , 567.987945, 575.079865, 580.021065, 580.044055,\n",
       "       582.060265, 584.210185, 584.246505, 592.09793 , 598.032325,\n",
       "       614.17845 , 616.174745, 617.17627 , 617.979935, 618.18449 ,\n",
       "       619.1595  , 620.1643  , 620.595435, 622.02894 , 626.01808 ,\n",
       "       630.61329 , 648.624175, 650.429025, 650.43708 , 651.438595,\n",
       "       655.133685, 655.931325, 656.140085, 667.128275, 667.428545,\n",
       "       682.454145, 694.510325, 695.510285, 697.47363 , 703.56658 ,\n",
       "       710.484335, 711.486055, 723.48623 , 725.551375, 726.55112 ,\n",
       "       734.04588 , 734.556275, 735.560395, 735.566455, 740.0251  ,\n",
       "       740.46767 , 740.494695, 741.52314 , 742.03535 , 742.5248  ,\n",
       "       745.473855, 745.61769 , 746.477485, 751.568705, 752.524745,\n",
       "       752.572325, 753.587535, 754.579975, 757.524185, 757.55761 ,\n",
       "       758.55539 , 758.566345, 759.544805, 759.56678 , 761.441775,\n",
       "       761.567145, 761.57689 , 762.473255, 762.587895, 763.32278 ,\n",
       "       763.48142 , 763.6055  , 765.52283 , 766.4805  , 766.508145,\n",
       "       766.55224 , 768.51948 , 768.91798 , 769.46941 , 770.19769 ,\n",
       "       770.504815, 771.493005, 771.557015, 772.00474 , 772.45231 ,\n",
       "       773.951785, 777.876155, 778.45138 , 779.43625 , 780.43794 ,\n",
       "       780.547125, 780.944535, 780.997145, 781.54757 , 781.61121 ,\n",
       "       783.5603  , 785.445185, 786.501885, 787.46626 , 787.505855,\n",
       "       787.54198 , 787.66567 , 788.60155 , 788.610605, 788.81966 ,\n",
       "       788.82454 , 789.081135, 789.47542 , 790.4394  , 790.5038  ,\n",
       "       792.17475 , 793.181985, 794.50562 , 794.5431  , 794.587655,\n",
       "       795.547865, 796.55944 , 797.52513 , 798.53103 , 798.606755,\n",
       "       799.53159 , 799.584585, 799.868295, 800.47436 , 801.412885,\n",
       "       802.46901 , 802.54909 , 802.6263  , 802.92662 , 803.47875 ,\n",
       "       804.470005, 804.551205, 805.473155, 805.55238 , 806.15982 ,\n",
       "       806.48391 , 806.564065, 806.88703 , 807.483335, 807.513275,\n",
       "       807.571725, 807.88745 , 808.14855 , 808.216595, 808.22172 ,\n",
       "       808.565785, 809.1499  , 809.55789 , 809.63719 , 810.596595,\n",
       "       810.668   , 812.599915, 813.4811  , 813.558205, 813.682785,\n",
       "       814.53585 , 814.63174 , 814.687495, 815.517345, 815.60154 ,\n",
       "       815.634325, 815.697675, 816.431005, 816.64312 , 817.431295,\n",
       "       818.029795, 818.06728 , 818.534595, 819.64389 , 820.51177 ,\n",
       "       820.573615, 820.59247 , 822.47351 , 822.524285, 822.614485,\n",
       "       822.63419 , 823.48031 , 823.60491 , 823.62087 , 823.64139 ,\n",
       "       824.459125, 824.595445, 824.599255, 824.609155, 824.614485,\n",
       "       825.12745 , 825.442555, 825.462395, 825.62425 , 826.47424 ,\n",
       "       826.62424 , 827.45482 , 827.65658 , 828.46617 , 828.509995,\n",
       "       828.54537 , 829.463815, 829.507745, 829.55554 , 832.649025,\n",
       "       833.654435, 834.581125, 834.59283 , 834.69896 , 835.6006  ,\n",
       "       835.663175, 836.60845 , 836.637465, 836.657065, 836.668825,\n",
       "       837.499295, 837.519725, 837.604595, 837.66747 , 838.6165  ,\n",
       "       838.67165 , 839.61822 , 840.401545, 840.6073  , 840.6168  ,\n",
       "       840.628675, 843.62045 , 844.62458 , 845.51016 , 845.65754 ,\n",
       "       846.10238 , 846.455385, 847.88081 , 848.52959 , 848.54007 ,\n",
       "       848.55056 , 848.632035, 848.65059 , 848.65543 , 849.62145 ,\n",
       "       849.639235, 850.47541 , 850.4981  , 850.617225, 850.643975,\n",
       "       850.653705, 850.673965, 851.63078 , 851.64053 , 851.655155,\n",
       "       851.67709 , 852.492045, 852.63209 , 852.64349 , 853.59005 ,\n",
       "       853.634125, 853.653715, 854.56325 , 854.59925 , 854.63443 ,\n",
       "       854.65325 , 855.56245 , 855.59689 , 856.568925, 863.68026 ,\n",
       "       864.63056 , 864.685835, 865.457915, 865.63583 , 866.470995,\n",
       "       866.63671 , 866.648485, 866.70318 , 867.47465 , 867.6534  ,\n",
       "       868.64458 , 868.654725, 870.581965, 871.53816 , 871.660705,\n",
       "       872.54763 , 873.544905, 875.485345, 878.041135, 878.083455,\n",
       "       886.6725  , 889.700055, 896.58148 , 897.58394 , 909.66925 ,\n",
       "       911.670335, 912.45682 , 916.55741 , 917.52773 , 924.6096  ,\n",
       "       931.929085, 939.61058 , 940.531245, 950.575445, 950.95315 ,\n",
       "       951.413275, 954.54973 , 954.89179 , 955.885645, 956.007465,\n",
       "       956.956455, 957.5323  , 961.460505, 961.511245, 961.54439 ,\n",
       "       965.63306 , 966.549985, 966.63581 , 967.552545, 967.92917 ,\n",
       "       968.538265, 968.564535, 969.56285 , 973.551305, 980.533075,\n",
       "       981.582135, 982.519885, 983.879985, 985.53971 , 989.518365])"
      ]
     },
     "execution_count": 25,
     "metadata": {},
     "output_type": "execute_result"
    }
   ],
   "source": [
    "mz_values = adata_msi.var_names.astype(float).to_numpy()\n",
    "mz_values"
   ]
  },
  {
   "cell_type": "code",
   "execution_count": 26,
   "metadata": {},
   "outputs": [],
   "source": [
    "dhb_peaks_positive = np.array([137.0238, 155.0341, 177.0173, 193.0351, 273.0454])\n",
    "found_peaks = set(mz_values[np.abs(mz_values[:, None] - dhb_peaks_positive[None, :]).min(axis=1) <= 0.1])\n",
    "found_peaks_str = set(map(str, found_peaks))\n",
    "\n",
    "# dhb_peaks_negative = np.array([137.0238, 155.0341, 177.0173, 193.0351, 273.0454])\n",
    "# found_peaks = set(mz_values[np.abs(mz_values[:, None] - dhb_peaks_negative[None, :]).min(axis=1) <= 0.1])\n",
    "# found_peaks_str = set(map(str, found_peaks))\n",
    "\n",
    "\n",
    "# fmp10_peaks_positive = np.array([137.0238, 155.0341, 177.0173, 193.0351, 273.0454])\n",
    "# found_peaks = set(mz_values[np.abs(mz_values[:, None] - fmp10_peaks_positive[None, :]).min(axis=1) <= 0.1])\n",
    "# found_peaks_str = set(map(str, found_peaks))\n",
    "\n",
    "\n",
    "# fmp10_peaks_negative = np.array([137.0238, 155.0341, 177.0173, 193.0351, 273.0454])\n",
    "# found_peaks = set(mz_values[np.abs(mz_values[:, None] - fmp10_peaks_negative[None, :]).min(axis=1) <= 0.1])\n",
    "# found_peaks_str = set(map(str, found_peaks))\n"
   ]
  },
  {
   "cell_type": "code",
   "execution_count": 27,
   "metadata": {},
   "outputs": [
    {
     "data": {
      "text/plain": [
       "{np.float64(137.023795),\n",
       " np.float64(177.01202),\n",
       " np.float64(273.03447),\n",
       " np.float64(273.03932)}"
      ]
     },
     "execution_count": 27,
     "metadata": {},
     "output_type": "execute_result"
    }
   ],
   "source": [
    "found_peaks"
   ]
  },
  {
   "cell_type": "code",
   "execution_count": 28,
   "metadata": {},
   "outputs": [
    {
     "name": "stdout",
     "output_type": "stream",
     "text": [
      "['203.05299000000002', '162.11293999999998', '214.01164', '280.092375', '845.51016', '251.9674', '353.023935', '251.96654999999998', '617.9799350000001', '297.070615', '176.00849', '296.06595500000003', '806.564065', '313.031765', '820.5117700000001', '754.579975', '198.99817000000002', '872.54763', '240.122615', '198.997635', '312.02405999999996', '848.55056', '313.03045', '206.055125', '873.544905', '735.566455', '313.033195', '804.551205', '297.06824', '753.587535'] 30\n"
     ]
    }
   ],
   "source": [
    "top_30_spat_filtered = [mz for mz in top_30_spat if mz not in found_peaks_str]\n",
    "print(top_30_spat_filtered, len(top_30_spat_filtered))"
   ]
  },
  {
   "cell_type": "code",
   "execution_count": 29,
   "metadata": {},
   "outputs": [],
   "source": [
    "# ['203.05299000000002',\n",
    "#  '162.11293999999998',\n",
    "#  '214.01164',\n",
    "#  '280.092375',\n",
    "#  '845.51016',\n",
    "#  '251.9674',\n",
    "#  '353.023935',\n",
    "#  '251.96654999999998',\n",
    "#  '617.9799350000001',\n",
    "#  '297.070615']"
   ]
  },
  {
   "cell_type": "code",
   "execution_count": null,
   "metadata": {},
   "outputs": [],
   "source": [
    "top_5_spat_metabolites = top_30_spat_filtered[:5]\n",
    "top_10_spat_metabolites = top_30_spat_filtered[:10]\n",
    "top_20_spat_metabolites = top_30_spat_filtered[:20]\n",
    "# adata_msi_top5_spat = adata_msi[:, adata_msi.var_names.isin(top_5_spat_metabolites)].copy()\n",
    "adata_msi_top10_spat = adata_msi[:, adata_msi.var_names.isin(top_10_spat_metabolites)].copy()\n",
    "adata_msi_top20_spat = adata_msi[:, adata_msi.var_names.isin(top_20_spat_metabolites)].copy()\n",
    "\n"
   ]
  },
  {
   "cell_type": "code",
   "execution_count": 31,
   "metadata": {},
   "outputs": [
    {
     "data": {
      "text/plain": [
       "'/lustre/groups/ml01/workspace/eirini.giannakoulia/hand_prep/V11L12-038_A1.MSI_MOSCOT_paired_hvg_top20spatvar.h5ad'"
      ]
     },
     "execution_count": 31,
     "metadata": {},
     "output_type": "execute_result"
    }
   ],
   "source": [
    "os.path.join(store_dir, f\"{dataset_name}_top20spatvar.h5ad\")"
   ]
  },
  {
   "cell_type": "code",
   "execution_count": 32,
   "metadata": {},
   "outputs": [],
   "source": [
    "# adata_msi_top5_spat.write(os.path.join(store_dir, f\"{dataset_name}_top5spatvar.h5ad\"))\n",
    "adata_msi_top10_spat.write(os.path.join(store_dir, f\"{dataset_name}_top10spatvar.h5ad\"))\n",
    "adata_msi_top20_spat.write(os.path.join(store_dir, f\"{dataset_name}_top20spatvar.h5ad\"))"
   ]
  },
  {
   "cell_type": "code",
   "execution_count": 33,
   "metadata": {},
   "outputs": [],
   "source": [
    "# adata_msi_top5_spat"
   ]
  },
  {
   "cell_type": "markdown",
   "metadata": {},
   "source": [
    "To use in big pipeline split in train and test"
   ]
  },
  {
   "cell_type": "code",
   "execution_count": 46,
   "metadata": {},
   "outputs": [],
   "source": [
    "task_name = \"V11L12-038_A1_MOSCOT_paired_hvg\"\n",
    "split = \"split\""
   ]
  },
  {
   "cell_type": "code",
   "execution_count": 47,
   "metadata": {},
   "outputs": [],
   "source": [
    "# base_dir = f\"/lustre/groups/ml01/workspace/eirini.giannakoulia/{task_name}_top5_spatvar\"\n",
    "# adata_msi_top5_spat_train = adata_msi_top5_spat[adata_msi_top5_spat.obs[\"half_split\" ]== \"train\"].copy()\n",
    "# adata_msi_top5_spat_test = adata_msi_top5_spat[adata_msi_top5_spat.obs[\"half_split\" ]== \"test\"].copy()\n",
    "\n",
    "# for feat_sel in [\"hvg\", \"hvg_svd\", \"hvg_svd_graph\", \"svd\", \"svd_graph\"]:\n",
    "#     adata_msi_top5_spat_train.write(os.path.join(\"/lustre/groups/ml01/workspace/eirini.giannakoulia/lipids_top5_spatvar\",feat_sel,\"msi_dataset_train.h5ad\"))\n",
    "#     adata_msi_top5_spat_test.write(os.path.join(\"/lustre/groups/ml01/workspace/eirini.giannakoulia/lipids_top5_spatvar\",feat_sel,\"msi_dataset_test.h5ad\"))\n"
   ]
  },
  {
   "cell_type": "code",
   "execution_count": 48,
   "metadata": {},
   "outputs": [],
   "source": [
    "base_dir = f\"/lustre/groups/ml01/workspace/eirini.giannakoulia/{task_name}_top10_spatvar\"\n",
    "adata_msi_top10_spat_train = adata_msi_top10_spat[adata_msi_top10_spat.obs[split]==\"train\"].copy()\n",
    "adata_msi_top10_spat_test = adata_msi_top10_spat[adata_msi_top10_spat.obs[split]==\"test\"].copy()\n",
    "\n",
    "for feat_sel in [\"hvg\", \"hvg_svd\", \"hvg_svd_graph\", \"svd\", \"svd_graph\"]:\n",
    "    # Create the directory if it doesn't exist\n",
    "    out_dir = os.path.join(base_dir, feat_sel)\n",
    "    os.makedirs(out_dir, exist_ok=True)\n",
    "\n",
    "    # Write the files\n",
    "    adata_msi_top10_spat_train.write(os.path.join(out_dir, \"msi_dataset_train.h5ad\"))\n",
    "    adata_msi_top10_spat_test.write(os.path.join(out_dir, \"msi_dataset_test.h5ad\"))\n"
   ]
  },
  {
   "cell_type": "code",
   "execution_count": 50,
   "metadata": {},
   "outputs": [
    {
     "data": {
      "text/plain": [
       "AnnData object with n_obs × n_vars = 2681 × 10\n",
       "    obs: 'technology', 'clusters', 'split', 'og_index'\n",
       "    var: 'highly_variable', 'means', 'dispersions', 'dispersions_norm'\n",
       "    uns: 'clusters', 'clusters_colors', 'hvg', 'log1p', 'moranI', 'neighbors', 'pca', 'spatial_neighbors', 'umap'\n",
       "    obsm: 'X_pca', 'X_umap', 'raw_counts', 'spatial', 'spatial_warp'\n",
       "    varm: 'PCs'\n",
       "    obsp: 'connectivities', 'distances', 'spatial_connectivities', 'spatial_distances'"
      ]
     },
     "execution_count": 50,
     "metadata": {},
     "output_type": "execute_result"
    }
   ],
   "source": [
    "adata_msi_top10_spat"
   ]
  },
  {
   "cell_type": "code",
   "execution_count": 53,
   "metadata": {},
   "outputs": [
    {
     "data": {
      "text/plain": [
       "AnnData object with n_obs × n_vars = 2144 × 20\n",
       "    obs: 'technology', 'clusters', 'split', 'og_index'\n",
       "    var: 'highly_variable', 'means', 'dispersions', 'dispersions_norm'\n",
       "    uns: 'clusters', 'clusters_colors', 'hvg', 'log1p', 'moranI', 'neighbors', 'pca', 'spatial_neighbors', 'umap'\n",
       "    obsm: 'X_pca', 'X_umap', 'raw_counts', 'spatial', 'spatial_warp'\n",
       "    varm: 'PCs'\n",
       "    obsp: 'connectivities', 'distances', 'spatial_connectivities', 'spatial_distances'"
      ]
     },
     "execution_count": 53,
     "metadata": {},
     "output_type": "execute_result"
    }
   ],
   "source": [
    "adata_msi_top20_spat_train"
   ]
  },
  {
   "cell_type": "code",
   "execution_count": 51,
   "metadata": {},
   "outputs": [],
   "source": [
    "base_dir = f\"/lustre/groups/ml01/workspace/eirini.giannakoulia/{task_name}_top20_spatvar\"\n",
    "\n",
    "adata_msi_top20_spat_train = adata_msi_top20_spat[adata_msi_top20_spat.obs[split]==\"train\"].copy()\n",
    "adata_msi_top20_spat_test = adata_msi_top20_spat[adata_msi_top20_spat.obs[split]==\"test\"].copy()\n",
    "\n",
    "for feat_sel in [\"hvg\", \"hvg_svd\", \"hvg_svd_graph\", \"svd\", \"svd_graph\"]:\n",
    "    out_dir = os.path.join(base_dir, feat_sel)\n",
    "    os.makedirs(out_dir, exist_ok=True)\n",
    "    \n",
    "    adata_msi_top20_spat_train.write(os.path.join(out_dir, \"msi_dataset_train.h5ad\"))\n",
    "    adata_msi_top20_spat_test.write(os.path.join(out_dir, \"msi_dataset_test.h5ad\"))\n"
   ]
  },
  {
   "cell_type": "code",
   "execution_count": 62,
   "metadata": {},
   "outputs": [],
   "source": [
    "out_dir = \"V11L12-038_A1_MOSCOT_paired_hvg_top10_spatvar\""
   ]
  },
  {
   "cell_type": "code",
   "execution_count": 63,
   "metadata": {},
   "outputs": [
    {
     "data": {
      "text/plain": [
       "AnnData object with n_obs × n_vars = 2144 × 10\n",
       "    obs: 'technology', 'clusters', 'split', 'og_index'\n",
       "    var: 'highly_variable', 'means', 'dispersions', 'dispersions_norm'\n",
       "    uns: 'clusters', 'clusters_colors', 'hvg', 'log1p', 'moranI', 'neighbors', 'pca', 'spatial_neighbors', 'umap'\n",
       "    obsm: 'X_pca', 'X_umap', 'raw_counts', 'spatial', 'spatial_warp'\n",
       "    varm: 'PCs'\n",
       "    obsp: 'connectivities', 'distances', 'spatial_connectivities', 'spatial_distances'"
      ]
     },
     "execution_count": 63,
     "metadata": {},
     "output_type": "execute_result"
    }
   ],
   "source": [
    "sc.read_h5ad(f\"/lustre/groups/ml01/workspace/eirini.giannakoulia/pipeline/dataset/processed/{out_dir}/hvg/msi_dataset_train.h5ad\")"
   ]
  },
  {
   "cell_type": "code",
   "execution_count": null,
   "metadata": {},
   "outputs": [],
   "source": []
  }
 ],
 "metadata": {
  "kernelspec": {
   "display_name": "Python (minimal)",
   "language": "python",
   "name": "mini"
  },
  "language_info": {
   "codemirror_mode": {
    "name": "ipython",
    "version": 3
   },
   "file_extension": ".py",
   "mimetype": "text/x-python",
   "name": "python",
   "nbconvert_exporter": "python",
   "pygments_lexer": "ipython3",
   "version": "3.12.7"
  }
 },
 "nbformat": 4,
 "nbformat_minor": 2
}
