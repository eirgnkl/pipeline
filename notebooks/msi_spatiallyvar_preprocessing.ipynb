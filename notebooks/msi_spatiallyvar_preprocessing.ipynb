{
 "cells": [
  {
   "cell_type": "code",
   "execution_count": 10,
   "metadata": {},
   "outputs": [],
   "source": [
    "import scanpy as sc\n",
    "import numpy as np\n",
    "import pandas as pd\n",
    "from tqdm import tqdm\n",
    "import seaborn as sns\n",
    "import squidpy as sq\n",
    "from sklearn.preprocessing import StandardScaler\n",
    "# from sklearn import model_selection\n",
    "from sklearn.metrics import r2_score\n",
    "import matplotlib.pyplot as plt\n",
    "import os\n"
   ]
  },
  {
   "cell_type": "code",
   "execution_count": 11,
   "metadata": {},
   "outputs": [],
   "source": [
    "#Set path to data\n",
    "path_msi = \"/lustre/groups/ml01/workspace/anastasia.litinetskaya/code/vitatrack/datasets/V11L12-038_A1.MSI_MOSCOT_paired_hvg.h5ad\"\n",
    "# path_rna = \"/lustre/groups/ml01/workspace/anastasia.litinetskaya/code/vitatrack/datasets/RNA_concat_lipids.h5ad\"\n"
   ]
  },
  {
   "cell_type": "code",
   "execution_count": 12,
   "metadata": {},
   "outputs": [],
   "source": [
    "# Set task/dataset name and path to store (keep MSI since it will be used for storing)\n",
    "dataset_name  = \"V11L12-038_A1.MSI_MOSCOT_paired_hvg\"\n",
    "store_dir = \"/lustre/groups/ml01/workspace/eirini.giannakoulia/hand_prep/\"\n",
    "# name of final data will be a combination of task_name and topN abundant metabs"
   ]
  },
  {
   "cell_type": "code",
   "execution_count": 13,
   "metadata": {},
   "outputs": [],
   "source": [
    "adata_msi_full = sc.read_h5ad(path_msi)\n",
    "# adata_rna_full = sc.read_h5ad(path_rna)"
   ]
  },
  {
   "cell_type": "markdown",
   "metadata": {},
   "source": [
    "### Prepare MSI data"
   ]
  },
  {
   "cell_type": "code",
   "execution_count": 14,
   "metadata": {},
   "outputs": [
    {
     "data": {
      "text/plain": [
       "AnnData object with n_obs × n_vars = 2681 × 500\n",
       "    obs: 'technology', 'clusters', 'split', 'og_index'\n",
       "    var: 'highly_variable', 'means', 'dispersions', 'dispersions_norm'\n",
       "    uns: 'clusters', 'clusters_colors', 'hvg', 'log1p', 'moranI', 'neighbors', 'pca', 'spatial_neighbors', 'umap'\n",
       "    obsm: 'X_pca', 'X_umap', 'raw_counts', 'spatial', 'spatial_warp'\n",
       "    varm: 'PCs'\n",
       "    obsp: 'connectivities', 'distances', 'spatial_connectivities', 'spatial_distances'"
      ]
     },
     "execution_count": 14,
     "metadata": {},
     "output_type": "execute_result"
    }
   ],
   "source": [
    "adata_msi_full"
   ]
  },
  {
   "cell_type": "code",
   "execution_count": 15,
   "metadata": {},
   "outputs": [],
   "source": [
    "adata_msi_full.var_names_make_unique()"
   ]
  },
  {
   "cell_type": "code",
   "execution_count": 16,
   "metadata": {},
   "outputs": [
    {
     "data": {
      "text/plain": [
       "AnnData object with n_obs × n_vars = 2681 × 500\n",
       "    obs: 'technology', 'clusters', 'split', 'og_index'\n",
       "    var: 'highly_variable', 'means', 'dispersions', 'dispersions_norm'\n",
       "    uns: 'clusters', 'clusters_colors', 'hvg', 'log1p', 'moranI', 'neighbors', 'pca', 'spatial_neighbors', 'umap'\n",
       "    obsm: 'X_pca', 'X_umap', 'raw_counts', 'spatial', 'spatial_warp'\n",
       "    varm: 'PCs'\n",
       "    obsp: 'connectivities', 'distances', 'spatial_connectivities', 'spatial_distances'"
      ]
     },
     "execution_count": 16,
     "metadata": {},
     "output_type": "execute_result"
    }
   ],
   "source": [
    "adata_msi_full"
   ]
  },
  {
   "cell_type": "markdown",
   "metadata": {},
   "source": [
    "Here you can subset metabolites for noise  \n",
    "e.g.:  \n",
    "Remove m/z below FMP10, because most likely this is noise:  \n",
    "```python\n",
    "adata_msi_full.var_names  \n",
    "adata_msi = adata_msi_full[:, adata_msi_full.var_names.astype(float) > 288.15].copy()"
   ]
  },
  {
   "cell_type": "code",
   "execution_count": 17,
   "metadata": {},
   "outputs": [
    {
     "data": {
      "text/plain": [
       "Index(['137.023795', '154.026815', '162.11293999999998', '169.07619',\n",
       "       '169.076575', '170.07992000000002', '170.08429999999998', '171.09223',\n",
       "       '176.00807', '176.00849',\n",
       "       ...\n",
       "       '968.5382649999999', '968.564535', '969.56285', '973.551305',\n",
       "       '980.533075', '981.582135', '982.519885', '983.879985', '985.53971',\n",
       "       '989.5183649999999'],\n",
       "      dtype='object', length=500)"
      ]
     },
     "execution_count": 17,
     "metadata": {},
     "output_type": "execute_result"
    }
   ],
   "source": [
    "adata_msi_full.var_names"
   ]
  },
  {
   "cell_type": "code",
   "execution_count": 18,
   "metadata": {},
   "outputs": [
    {
     "ename": "NameError",
     "evalue": "name 'adata_msi' is not defined",
     "output_type": "error",
     "traceback": [
      "\u001b[31m---------------------------------------------------------------------------\u001b[39m",
      "\u001b[31mNameError\u001b[39m                                 Traceback (most recent call last)",
      "\u001b[36mCell\u001b[39m\u001b[36m \u001b[39m\u001b[32mIn[18]\u001b[39m\u001b[32m, line 1\u001b[39m\n\u001b[32m----> \u001b[39m\u001b[32m1\u001b[39m \u001b[43madata_msi\u001b[49m\n",
      "\u001b[31mNameError\u001b[39m: name 'adata_msi' is not defined"
     ]
    }
   ],
   "source": [
    "adata_msi"
   ]
  },
  {
   "cell_type": "code",
   "execution_count": null,
   "metadata": {},
   "outputs": [],
   "source": [
    "# adata_msi = adata_msi_full[:, adata_msi_full.var_names.astype(float) > 288.15].copy()\n",
    "# a"
   ]
  },
  {
   "cell_type": "code",
   "execution_count": null,
   "metadata": {},
   "outputs": [
    {
     "data": {
      "text/plain": [
       "AnnData object with n_obs × n_vars = 2681 × 444\n",
       "    obs: 'technology', 'clusters', 'split', 'og_index'\n",
       "    var: 'highly_variable', 'means', 'dispersions', 'dispersions_norm'\n",
       "    uns: 'clusters', 'clusters_colors', 'hvg', 'log1p', 'moranI', 'neighbors', 'pca', 'spatial_neighbors', 'umap'\n",
       "    obsm: 'X_pca', 'X_umap', 'raw_counts', 'spatial', 'spatial_warp'\n",
       "    varm: 'PCs'\n",
       "    obsp: 'connectivities', 'distances', 'spatial_connectivities', 'spatial_distances'"
      ]
     },
     "execution_count": 19,
     "metadata": {},
     "output_type": "execute_result"
    }
   ],
   "source": [
    "adata_msi = adata_msi_full.copy()"
   ]
  },
  {
   "cell_type": "code",
   "execution_count": 9,
   "metadata": {},
   "outputs": [
    {
     "ename": "NameError",
     "evalue": "name 'adata_msi' is not defined",
     "output_type": "error",
     "traceback": [
      "\u001b[31m---------------------------------------------------------------------------\u001b[39m",
      "\u001b[31mNameError\u001b[39m                                 Traceback (most recent call last)",
      "\u001b[36mCell\u001b[39m\u001b[36m \u001b[39m\u001b[32mIn[9]\u001b[39m\u001b[32m, line 1\u001b[39m\n\u001b[32m----> \u001b[39m\u001b[32m1\u001b[39m \u001b[43madata_msi\u001b[49m\n",
      "\u001b[31mNameError\u001b[39m: name 'adata_msi' is not defined"
     ]
    }
   ],
   "source": [
    "adata_msi"
   ]
  },
  {
   "cell_type": "markdown",
   "metadata": {},
   "source": [
    "Quality control"
   ]
  },
  {
   "cell_type": "code",
   "execution_count": null,
   "metadata": {},
   "outputs": [
    {
     "ename": "IndexError",
     "evalue": "Positions outside range of features.",
     "output_type": "error",
     "traceback": [
      "\u001b[31m---------------------------------------------------------------------------\u001b[39m",
      "\u001b[31mIndexError\u001b[39m                                Traceback (most recent call last)",
      "\u001b[36mCell\u001b[39m\u001b[36m \u001b[39m\u001b[32mIn[11]\u001b[39m\u001b[32m, line 1\u001b[39m\n\u001b[32m----> \u001b[39m\u001b[32m1\u001b[39m \u001b[43msc\u001b[49m\u001b[43m.\u001b[49m\u001b[43mpp\u001b[49m\u001b[43m.\u001b[49m\u001b[43mcalculate_qc_metrics\u001b[49m\u001b[43m(\u001b[49m\u001b[43madata_msi\u001b[49m\u001b[43m,\u001b[49m\u001b[43m \u001b[49m\u001b[43minplace\u001b[49m\u001b[43m=\u001b[49m\u001b[38;5;28;43;01mTrue\u001b[39;49;00m\u001b[43m)\u001b[49m\n",
      "\u001b[36mFile \u001b[39m\u001b[32m/ictstr01/home/icb/eirini.giannakoulia/tools/apps/mamba/envs/mini/lib/python3.12/site-packages/scanpy/preprocessing/_qc.py:316\u001b[39m, in \u001b[36mcalculate_qc_metrics\u001b[39m\u001b[34m(adata, expr_type, var_type, qc_vars, percent_top, layer, use_raw, inplace, log1p, parallel)\u001b[39m\n\u001b[32m    313\u001b[39m \u001b[38;5;28;01mif\u001b[39;00m \u001b[38;5;28misinstance\u001b[39m(qc_vars, \u001b[38;5;28mstr\u001b[39m):\n\u001b[32m    314\u001b[39m     qc_vars = [qc_vars]\n\u001b[32m--> \u001b[39m\u001b[32m316\u001b[39m obs_metrics = \u001b[43mdescribe_obs\u001b[49m\u001b[43m(\u001b[49m\n\u001b[32m    317\u001b[39m \u001b[43m    \u001b[49m\u001b[43madata\u001b[49m\u001b[43m,\u001b[49m\n\u001b[32m    318\u001b[39m \u001b[43m    \u001b[49m\u001b[43mexpr_type\u001b[49m\u001b[43m=\u001b[49m\u001b[43mexpr_type\u001b[49m\u001b[43m,\u001b[49m\n\u001b[32m    319\u001b[39m \u001b[43m    \u001b[49m\u001b[43mvar_type\u001b[49m\u001b[43m=\u001b[49m\u001b[43mvar_type\u001b[49m\u001b[43m,\u001b[49m\n\u001b[32m    320\u001b[39m \u001b[43m    \u001b[49m\u001b[43mqc_vars\u001b[49m\u001b[43m=\u001b[49m\u001b[43mqc_vars\u001b[49m\u001b[43m,\u001b[49m\n\u001b[32m    321\u001b[39m \u001b[43m    \u001b[49m\u001b[43mpercent_top\u001b[49m\u001b[43m=\u001b[49m\u001b[43mpercent_top\u001b[49m\u001b[43m,\u001b[49m\n\u001b[32m    322\u001b[39m \u001b[43m    \u001b[49m\u001b[43minplace\u001b[49m\u001b[43m=\u001b[49m\u001b[43minplace\u001b[49m\u001b[43m,\u001b[49m\n\u001b[32m    323\u001b[39m \u001b[43m    \u001b[49m\u001b[43mX\u001b[49m\u001b[43m=\u001b[49m\u001b[43mX\u001b[49m\u001b[43m,\u001b[49m\n\u001b[32m    324\u001b[39m \u001b[43m    \u001b[49m\u001b[43mlog1p\u001b[49m\u001b[43m=\u001b[49m\u001b[43mlog1p\u001b[49m\u001b[43m,\u001b[49m\n\u001b[32m    325\u001b[39m \u001b[43m\u001b[49m\u001b[43m)\u001b[49m\n\u001b[32m    326\u001b[39m var_metrics = describe_var(\n\u001b[32m    327\u001b[39m     adata,\n\u001b[32m    328\u001b[39m     expr_type=expr_type,\n\u001b[32m   (...)\u001b[39m\u001b[32m    332\u001b[39m     log1p=log1p,\n\u001b[32m    333\u001b[39m )\n\u001b[32m    335\u001b[39m \u001b[38;5;28;01mif\u001b[39;00m \u001b[38;5;129;01mnot\u001b[39;00m inplace:\n",
      "\u001b[36mFile \u001b[39m\u001b[32m/ictstr01/home/icb/eirini.giannakoulia/tools/apps/mamba/envs/mini/lib/python3.12/site-packages/scanpy/preprocessing/_qc.py:122\u001b[39m, in \u001b[36mdescribe_obs\u001b[39m\u001b[34m(adata, expr_type, var_type, qc_vars, percent_top, layer, use_raw, log1p, inplace, X, parallel)\u001b[39m\n\u001b[32m    120\u001b[39m \u001b[38;5;28;01mif\u001b[39;00m percent_top:\n\u001b[32m    121\u001b[39m     percent_top = \u001b[38;5;28msorted\u001b[39m(percent_top)\n\u001b[32m--> \u001b[39m\u001b[32m122\u001b[39m     proportions = \u001b[43mtop_segment_proportions\u001b[49m\u001b[43m(\u001b[49m\u001b[43mX\u001b[49m\u001b[43m,\u001b[49m\u001b[43m \u001b[49m\u001b[43mpercent_top\u001b[49m\u001b[43m)\u001b[49m\n\u001b[32m    123\u001b[39m     \u001b[38;5;28;01mfor\u001b[39;00m i, n \u001b[38;5;129;01min\u001b[39;00m \u001b[38;5;28menumerate\u001b[39m(percent_top):\n\u001b[32m    124\u001b[39m         obs_metrics[\u001b[33mf\u001b[39m\u001b[33m\"\u001b[39m\u001b[33mpct_\u001b[39m\u001b[38;5;132;01m{\u001b[39;00mexpr_type\u001b[38;5;132;01m}\u001b[39;00m\u001b[33m_in_top_\u001b[39m\u001b[38;5;132;01m{\u001b[39;00mn\u001b[38;5;132;01m}\u001b[39;00m\u001b[33m_\u001b[39m\u001b[38;5;132;01m{\u001b[39;00mvar_type\u001b[38;5;132;01m}\u001b[39;00m\u001b[33m\"\u001b[39m] = (\n\u001b[32m    125\u001b[39m             proportions[:, i] * \u001b[32m100\u001b[39m\n\u001b[32m    126\u001b[39m         )\n",
      "\u001b[36mFile \u001b[39m\u001b[32m/ictstr01/home/icb/eirini.giannakoulia/tools/apps/mamba/envs/mini/lib/python3.12/site-packages/scanpy/preprocessing/_qc.py:407\u001b[39m, in \u001b[36mtop_segment_proportions\u001b[39m\u001b[34m(mtx, ns)\u001b[39m\n\u001b[32m    405\u001b[39m \u001b[38;5;66;03m# Pretty much just does dispatch\u001b[39;00m\n\u001b[32m    406\u001b[39m \u001b[38;5;28;01mif\u001b[39;00m \u001b[38;5;129;01mnot\u001b[39;00m (\u001b[38;5;28mmax\u001b[39m(ns) <= mtx.shape[\u001b[32m1\u001b[39m] \u001b[38;5;129;01mand\u001b[39;00m \u001b[38;5;28mmin\u001b[39m(ns) > \u001b[32m0\u001b[39m):\n\u001b[32m--> \u001b[39m\u001b[32m407\u001b[39m     \u001b[38;5;28;01mraise\u001b[39;00m \u001b[38;5;167;01mIndexError\u001b[39;00m(\u001b[33m\"\u001b[39m\u001b[33mPositions outside range of features.\u001b[39m\u001b[33m\"\u001b[39m)\n\u001b[32m    408\u001b[39m \u001b[38;5;28;01mif\u001b[39;00m issparse(mtx):\n\u001b[32m    409\u001b[39m     \u001b[38;5;28;01mif\u001b[39;00m \u001b[38;5;129;01mnot\u001b[39;00m isspmatrix_csr(mtx):\n",
      "\u001b[31mIndexError\u001b[39m: Positions outside range of features."
     ]
    }
   ],
   "source": [
    "# sc.pp.calculate_qc_metrics(adata_msi, inplace=True)"
   ]
  },
  {
   "cell_type": "code",
   "execution_count": null,
   "metadata": {},
   "outputs": [
    {
     "data": {
      "text/plain": [
       "<Axes: xlabel='total_counts', ylabel='Count'>"
      ]
     },
     "execution_count": 12,
     "metadata": {},
     "output_type": "execute_result"
    },
    {
     "data": {
      "image/png": "[encoded data removed]",
      "text/plain": [
       "<Figure size 640x480 with 1 Axes>"
      ]
     },
     "metadata": {},
     "output_type": "display_data"
    }
   ],
   "source": [
    "sns.histplot(adata_msi.obs.total_counts) #This sums all the metabolites m/z ratios for each cell"
   ]
  },
  {
   "cell_type": "code",
   "execution_count": null,
   "metadata": {},
   "outputs": [
    {
     "data": {
      "text/plain": [
       "<Axes: xlabel='n_cells_by_counts', ylabel='Count'>"
      ]
     },
     "execution_count": 13,
     "metadata": {},
     "output_type": "execute_result"
    },
    {
     "data": {
      "image/png": "[encoded data removed]",
      "text/plain": [
       "<Figure size 640x480 with 1 Axes>"
      ]
     },
     "metadata": {},
     "output_type": "display_data"
    }
   ],
   "source": [
    "sns.histplot(adata_msi.var.n_cells_by_counts) #This sums all the cells for each metabolite m/z ratio\n",
    "# we notice that o"
   ]
  },
  {
   "cell_type": "code",
   "execution_count": null,
   "metadata": {},
   "outputs": [
    {
     "data": {
      "text/plain": [
       "count    2304.000000\n",
       "mean     3681.755208\n",
       "std      1938.285878\n",
       "min        71.000000\n",
       "25%      1858.750000\n",
       "50%      4350.500000\n",
       "75%      5581.250000\n",
       "max      5618.000000\n",
       "Name: n_cells_by_counts, dtype: float64"
      ]
     },
     "execution_count": 14,
     "metadata": {},
     "output_type": "execute_result"
    }
   ],
   "source": [
    "adata_msi.var.n_cells_by_counts.describe()"
   ]
  },
  {
   "cell_type": "markdown",
   "metadata": {},
   "source": [
    "### Let's identify most spatialy variable metabolites"
   ]
  },
  {
   "cell_type": "code",
   "execution_count": null,
   "metadata": {},
   "outputs": [
    {
     "data": {
      "text/plain": [
       "AnnData object with n_obs × n_vars = 5618 × 2304\n",
       "    obs: 'technology', 'clusters', 'random_split', 'half_split', 'slide', 'msi_concat_clusters', 'n_genes_by_counts', 'log1p_n_genes_by_counts', 'total_counts', 'log1p_total_counts', 'pct_counts_in_top_50_genes', 'pct_counts_in_top_100_genes', 'pct_counts_in_top_200_genes', 'pct_counts_in_top_500_genes'\n",
       "    var: 'highly_variable', 'means', 'dispersions', 'dispersions_norm', 'highly_variable_nbatches', 'highly_variable_intersection', 'spatialy_highly_variable', 'msi_highly_variable', 'n_cells_by_counts', 'mean_counts', 'log1p_mean_counts', 'pct_dropout_by_counts', 'total_counts', 'log1p_total_counts'\n",
       "    uns: 'hvg', 'msi_concat_clusters', 'neighbors', 'pca', 'slide_colors', 'umap'\n",
       "    obsm: 'X_pca', 'X_umap', 'spatial', 'spatial_warp'\n",
       "    varm: 'PCs'\n",
       "    layers: 'counts'\n",
       "    obsp: 'connectivities', 'distances'"
      ]
     },
     "execution_count": 15,
     "metadata": {},
     "output_type": "execute_result"
    }
   ],
   "source": [
    "adata_msi"
   ]
  },
  {
   "cell_type": "markdown",
   "metadata": {},
   "source": [
    "MoranI already present, but just for completeness let's go for the procedure from beginning\n",
    "\n"
   ]
  },
  {
   "cell_type": "code",
   "execution_count": null,
   "metadata": {},
   "outputs": [],
   "source": [
    "# Identify top 5 most spatially variable metabolomes using Moran's I\n",
    "sq.gr.spatial_neighbors(adata_msi, spatial_key='spatial_warp')\n",
    "sq.gr.spatial_autocorr(adata_msi)\n"
   ]
  },
  {
   "cell_type": "markdown",
   "metadata": {},
   "source": [
    "Do a sorting based first on index, then on Benjamini Hochberg FDR correction pvalue and select the top 30"
   ]
  },
  {
   "cell_type": "code",
   "execution_count": null,
   "metadata": {},
   "outputs": [
    {
     "data": {
      "text/html": [
       "<div>\n",
       "<style scoped>\n",
       "    .dataframe tbody tr th:only-of-type {\n",
       "        vertical-align: middle;\n",
       "    }\n",
       "\n",
       "    .dataframe tbody tr th {\n",
       "        vertical-align: top;\n",
       "    }\n",
       "\n",
       "    .dataframe thead th {\n",
       "        text-align: right;\n",
       "    }\n",
       "</style>\n",
       "<table border=\"1\" class=\"dataframe\">\n",
       "  <thead>\n",
       "    <tr style=\"text-align: right;\">\n",
       "      <th></th>\n",
       "      <th>I</th>\n",
       "      <th>pval_norm</th>\n",
       "      <th>var_norm</th>\n",
       "      <th>pval_norm_fdr_bh</th>\n",
       "    </tr>\n",
       "  </thead>\n",
       "  <tbody>\n",
       "    <tr>\n",
       "      <th>353.023935</th>\n",
       "      <td>0.498208</td>\n",
       "      <td>0.000000</td>\n",
       "      <td>0.000051</td>\n",
       "      <td>0.000000</td>\n",
       "    </tr>\n",
       "    <tr>\n",
       "      <th>335.013615</th>\n",
       "      <td>0.475016</td>\n",
       "      <td>0.000000</td>\n",
       "      <td>0.000051</td>\n",
       "      <td>0.000000</td>\n",
       "    </tr>\n",
       "    <tr>\n",
       "      <th>364.90382</th>\n",
       "      <td>0.459445</td>\n",
       "      <td>0.000000</td>\n",
       "      <td>0.000051</td>\n",
       "      <td>0.000000</td>\n",
       "    </tr>\n",
       "    <tr>\n",
       "      <th>364.90545999999995</th>\n",
       "      <td>0.438676</td>\n",
       "      <td>0.000000</td>\n",
       "      <td>0.000051</td>\n",
       "      <td>0.000000</td>\n",
       "    </tr>\n",
       "    <tr>\n",
       "      <th>364.902325</th>\n",
       "      <td>0.419868</td>\n",
       "      <td>0.000000</td>\n",
       "      <td>0.000051</td>\n",
       "      <td>0.000000</td>\n",
       "    </tr>\n",
       "    <tr>\n",
       "      <th>...</th>\n",
       "      <td>...</td>\n",
       "      <td>...</td>\n",
       "      <td>...</td>\n",
       "      <td>...</td>\n",
       "    </tr>\n",
       "    <tr>\n",
       "      <th>802.92662</th>\n",
       "      <td>-0.005061</td>\n",
       "      <td>0.246608</td>\n",
       "      <td>0.000051</td>\n",
       "      <td>0.256008</td>\n",
       "    </tr>\n",
       "    <tr>\n",
       "      <th>871.660705</th>\n",
       "      <td>-0.005620</td>\n",
       "      <td>0.222557</td>\n",
       "      <td>0.000051</td>\n",
       "      <td>0.232605</td>\n",
       "    </tr>\n",
       "    <tr>\n",
       "      <th>985.53971</th>\n",
       "      <td>-0.005772</td>\n",
       "      <td>0.216260</td>\n",
       "      <td>0.000051</td>\n",
       "      <td>0.226535</td>\n",
       "    </tr>\n",
       "    <tr>\n",
       "      <th>866.70318</th>\n",
       "      <td>-0.008023</td>\n",
       "      <td>0.135509</td>\n",
       "      <td>0.000051</td>\n",
       "      <td>0.144897</td>\n",
       "    </tr>\n",
       "    <tr>\n",
       "      <th>994.56201</th>\n",
       "      <td>-0.012266</td>\n",
       "      <td>0.044937</td>\n",
       "      <td>0.000051</td>\n",
       "      <td>0.048840</td>\n",
       "    </tr>\n",
       "  </tbody>\n",
       "</table>\n",
       "<p>463 rows × 4 columns</p>\n",
       "</div>"
      ],
      "text/plain": [
       "                           I  pval_norm  var_norm  pval_norm_fdr_bh\n",
       "353.023935          0.498208   0.000000  0.000051          0.000000\n",
       "335.013615          0.475016   0.000000  0.000051          0.000000\n",
       "364.90382           0.459445   0.000000  0.000051          0.000000\n",
       "364.90545999999995  0.438676   0.000000  0.000051          0.000000\n",
       "364.902325          0.419868   0.000000  0.000051          0.000000\n",
       "...                      ...        ...       ...               ...\n",
       "802.92662          -0.005061   0.246608  0.000051          0.256008\n",
       "871.660705         -0.005620   0.222557  0.000051          0.232605\n",
       "985.53971          -0.005772   0.216260  0.000051          0.226535\n",
       "866.70318          -0.008023   0.135509  0.000051          0.144897\n",
       "994.56201          -0.012266   0.044937  0.000051          0.048840\n",
       "\n",
       "[463 rows x 4 columns]"
      ]
     },
     "execution_count": 17,
     "metadata": {},
     "output_type": "execute_result"
    }
   ],
   "source": [
    "adata_msi.uns[\"moranI\"]"
   ]
  },
  {
   "cell_type": "code",
   "execution_count": null,
   "metadata": {},
   "outputs": [],
   "source": [
    "top_30_spat = adata_msi.uns[\"moranI\"].loc[adata_msi.uns[\"moranI\"].pval_norm_fdr_bh < 0.05].sort_values(by=[\"I\", \"pval_norm_fdr_bh\"], ascending=[False, True]).index[:30]\n"
   ]
  },
  {
   "cell_type": "markdown",
   "metadata": {},
   "source": [
    "Mini correction for known matrix peaks, select matrix and mode\n"
   ]
  },
  {
   "cell_type": "code",
   "execution_count": null,
   "metadata": {},
   "outputs": [
    {
     "data": {
      "text/plain": [
       "array([288.927535, 289.03455 , 289.922755, ..., 992.614545, 994.56201 ,\n",
       "       996.51046 ])"
      ]
     },
     "execution_count": 19,
     "metadata": {},
     "output_type": "execute_result"
    }
   ],
   "source": [
    "mz_values = adata_msi.var_names.astype(float).to_numpy()\n",
    "mz_values"
   ]
  },
  {
   "cell_type": "code",
   "execution_count": null,
   "metadata": {},
   "outputs": [],
   "source": [
    "dhb_peaks_positive = np.array([137.0238, 155.0341, 177.0173, 193.0351, 273.0454])\n",
    "found_peaks = set(mz_values[np.abs(mz_values[:, None] - dhb_peaks_positive[None, :]).min(axis=1) <= 0.1])\n",
    "found_peaks_str = set(map(str, found_peaks))\n",
    "\n",
    "# dhb_peaks_negative = np.array([137.0238, 155.0341, 177.0173, 193.0351, 273.0454])\n",
    "# found_peaks = set(mz_values[np.abs(mz_values[:, None] - dhb_peaks_negative[None, :]).min(axis=1) <= 0.1])\n",
    "# found_peaks_str = set(map(str, found_peaks))\n",
    "\n",
    "\n",
    "# fmp10_peaks_positive = np.array([137.0238, 155.0341, 177.0173, 193.0351, 273.0454])\n",
    "# found_peaks = set(mz_values[np.abs(mz_values[:, None] - fmp10_peaks_positive[None, :]).min(axis=1) <= 0.1])\n",
    "# found_peaks_str = set(map(str, found_peaks))\n",
    "\n",
    "\n",
    "# fmp10_peaks_negative = np.array([137.0238, 155.0341, 177.0173, 193.0351, 273.0454])\n",
    "# found_peaks = set(mz_values[np.abs(mz_values[:, None] - fmp10_peaks_negative[None, :]).min(axis=1) <= 0.1])\n",
    "# found_peaks_str = set(map(str, found_peaks))\n"
   ]
  },
  {
   "cell_type": "code",
   "execution_count": 21,
   "metadata": {},
   "outputs": [
    {
     "data": {
      "text/plain": [
       "set()"
      ]
     },
     "execution_count": 21,
     "metadata": {},
     "output_type": "execute_result"
    }
   ],
   "source": [
    "found_peaks"
   ]
  },
  {
   "cell_type": "code",
   "execution_count": 22,
   "metadata": {},
   "outputs": [
    {
     "name": "stdout",
     "output_type": "stream",
     "text": [
      "['353.023935', '335.013615', '364.90382', '364.90545999999995', '364.902325', '566.98614', '845.51016', '844.505525', '655.931325', '838.6165', '848.6320350000001', '307.043815', '830.500175', '296.06595500000003', '343.05333', '866.6484849999999', '840.4292350000001', '839.6182200000001', '872.54763', '348.92984', '375.00721', '864.6305600000001', '375.00595', '849.639235', '802.46901', '822.63419', '703.56658', '867.6533999999999', '852.6320900000001', '400.342015'] 30\n"
     ]
    }
   ],
   "source": [
    "top_30_spat_filtered = [mz for mz in top_30_spat if mz not in found_peaks_str]\n",
    "print(top_30_spat_filtered, len(top_30_spat_filtered))"
   ]
  },
  {
   "cell_type": "code",
   "execution_count": 23,
   "metadata": {},
   "outputs": [],
   "source": [
    "# ['203.05299000000002',\n",
    "#  '162.11293999999998',\n",
    "#  '214.01164',\n",
    "#  '280.092375',\n",
    "#  '845.51016',\n",
    "#  '251.9674',\n",
    "#  '353.023935',\n",
    "#  '251.96654999999998',\n",
    "#  '617.9799350000001',\n",
    "#  '297.070615']"
   ]
  },
  {
   "cell_type": "code",
   "execution_count": 24,
   "metadata": {},
   "outputs": [
    {
     "name": "stderr",
     "output_type": "stream",
     "text": [
      "/ictstr01/home/icb/eirini.giannakoulia/tools/apps/mamba/envs/mini/lib/python3.12/site-packages/anndata/_core/anndata.py:1756: UserWarning: Observation names are not unique. To make them unique, call `.obs_names_make_unique`.\n",
      "  utils.warn_names_duplicates(\"obs\")\n"
     ]
    }
   ],
   "source": [
    "top_5_spat_metabolites = top_30_spat_filtered[:5]\n",
    "top_10_spat_metabolites = top_30_spat_filtered[:10]\n",
    "top_20_spat_metabolites = top_30_spat_filtered[:20]\n",
    "adata_msi_top5_spat = adata_msi[:, adata_msi.var_names.isin(top_5_spat_metabolites)].copy()\n",
    "adata_msi_top10_spat = adata_msi[:, adata_msi.var_names.isin(top_10_spat_metabolites)].copy()\n",
    "adata_msi_top20_spat = adata_msi[:, adata_msi.var_names.isin(top_20_spat_metabolites)].copy()\n",
    "\n"
   ]
  },
  {
   "cell_type": "code",
   "execution_count": null,
   "metadata": {},
   "outputs": [],
   "source": [
    "adata_msi_top5_spat.write(os.path.join(store_dir, f\"{dataset_name}_top5spatvar.h5ad\"))\n",
    "adata_msi_top10_spat.write(os.path.join(store_dir, f\"{dataset_name}_top10spatvar.h5ad\"))\n",
    "adata_msi_top20_spat.write(os.path.join(store_dir, f\"{dataset_name}_top20spatvar.h5ad\"))"
   ]
  },
  {
   "cell_type": "code",
   "execution_count": 29,
   "metadata": {},
   "outputs": [
    {
     "data": {
      "text/plain": [
       "AnnData object with n_obs × n_vars = 5618 × 5\n",
       "    obs: 'technology', 'clusters', 'random_split', 'half_split', 'slide', 'msi_concat_clusters', 'n_genes_by_counts', 'log1p_n_genes_by_counts', 'total_counts', 'log1p_total_counts', 'pct_counts_in_top_50_genes', 'pct_counts_in_top_100_genes', 'pct_counts_in_top_200_genes', 'pct_counts_in_top_500_genes'\n",
       "    var: 'highly_variable', 'means', 'dispersions', 'dispersions_norm', 'highly_variable_nbatches', 'highly_variable_intersection', 'spatialy_highly_variable', 'msi_highly_variable', 'n_cells_by_counts', 'mean_counts', 'log1p_mean_counts', 'pct_dropout_by_counts', 'total_counts', 'log1p_total_counts'\n",
       "    uns: 'hvg', 'msi_concat_clusters', 'neighbors', 'pca', 'slide_colors', 'umap', 'spatial_neighbors', 'moranI'\n",
       "    obsm: 'X_pca', 'X_umap', 'spatial', 'spatial_warp'\n",
       "    varm: 'PCs'\n",
       "    layers: 'counts'\n",
       "    obsp: 'connectivities', 'distances', 'spatial_connectivities', 'spatial_distances'"
      ]
     },
     "execution_count": 29,
     "metadata": {},
     "output_type": "execute_result"
    }
   ],
   "source": [
    "adata_msi_top5_spat"
   ]
  },
  {
   "cell_type": "markdown",
   "metadata": {},
   "source": [
    "To use in big pipeline split in train and test"
   ]
  },
  {
   "cell_type": "code",
   "execution_count": null,
   "metadata": {},
   "outputs": [],
   "source": [
    "task_name = \"V11L12-038_A1_MOSCOT_paired_hvg\"\n",
    "base_dir = f\"/lustre/groups/ml01/workspace/eirini.giannakoulia/{task_name}_top10_spatvar\""
   ]
  },
  {
   "cell_type": "code",
   "execution_count": 31,
   "metadata": {},
   "outputs": [],
   "source": [
    "# adata_msi_top5_spat_train = adata_msi_top5_spat[adata_msi_top5_spat.obs[\"half_split\" ]== \"train\"].copy()\n",
    "# adata_msi_top5_spat_test = adata_msi_top5_spat[adata_msi_top5_spat.obs[\"half_split\" ]== \"test\"].copy()\n",
    "\n",
    "# for feat_sel in [\"hvg\", \"hvg_svd\", \"hvg_svd_graph\", \"svd\", \"svd_graph\"]:\n",
    "#     adata_msi_top5_spat_train.write(os.path.join(\"/lustre/groups/ml01/workspace/eirini.giannakoulia/lipids_top5_spatvar\",feat_sel,\"msi_dataset_train.h5ad\"))\n",
    "#     adata_msi_top5_spat_test.write(os.path.join(\"/lustre/groups/ml01/workspace/eirini.giannakoulia/lipids_top5_spatvar\",feat_sel,\"msi_dataset_test.h5ad\"))\n"
   ]
  },
  {
   "cell_type": "code",
   "execution_count": null,
   "metadata": {},
   "outputs": [
    {
     "name": "stderr",
     "output_type": "stream",
     "text": [
      "/ictstr01/home/icb/eirini.giannakoulia/tools/apps/mamba/envs/mini/lib/python3.12/site-packages/anndata/_core/anndata.py:1756: UserWarning: Observation names are not unique. To make them unique, call `.obs_names_make_unique`.\n",
      "  utils.warn_names_duplicates(\"obs\")\n"
     ]
    }
   ],
   "source": [
    "adata_msi_top10_spat_train = adata_msi_top10_spat[adata_msi_top10_spat.obs[\"half_split\"]==\"train\"].copy()\n",
    "adata_msi_top10_spat_test = adata_msi_top10_spat[adata_msi_top10_spat.obs[\"half_split\"]==\"test\"].copy()\n",
    "\n",
    "for feat_sel in [\"hvg\", \"hvg_svd\", \"hvg_svd_graph\", \"svd\", \"svd_graph\"]:\n",
    "    # Create the directory if it doesn't exist\n",
    "    out_dir = os.path.join(base_dir, feat_sel)\n",
    "    os.makedirs(out_dir, exist_ok=True)\n",
    "\n",
    "    # Write the files\n",
    "    adata_msi_top10_spat_train.write(os.path.join(out_dir, \"msi_dataset_train.h5ad\"))\n",
    "    adata_msi_top10_spat_test.write(os.path.join(out_dir, \"msi_dataset_test.h5ad\"))\n"
   ]
  },
  {
   "cell_type": "code",
   "execution_count": 33,
   "metadata": {},
   "outputs": [
    {
     "data": {
      "text/plain": [
       "AnnData object with n_obs × n_vars = 5618 × 20\n",
       "    obs: 'technology', 'clusters', 'random_split', 'half_split', 'slide', 'msi_concat_clusters', 'n_genes_by_counts', 'log1p_n_genes_by_counts', 'total_counts', 'log1p_total_counts', 'pct_counts_in_top_50_genes', 'pct_counts_in_top_100_genes', 'pct_counts_in_top_200_genes', 'pct_counts_in_top_500_genes'\n",
       "    var: 'highly_variable', 'means', 'dispersions', 'dispersions_norm', 'highly_variable_nbatches', 'highly_variable_intersection', 'spatialy_highly_variable', 'msi_highly_variable', 'n_cells_by_counts', 'mean_counts', 'log1p_mean_counts', 'pct_dropout_by_counts', 'total_counts', 'log1p_total_counts'\n",
       "    uns: 'hvg', 'msi_concat_clusters', 'neighbors', 'pca', 'slide_colors', 'umap', 'spatial_neighbors', 'moranI'\n",
       "    obsm: 'X_pca', 'X_umap', 'spatial', 'spatial_warp'\n",
       "    varm: 'PCs'\n",
       "    layers: 'counts'\n",
       "    obsp: 'connectivities', 'distances', 'spatial_connectivities', 'spatial_distances'"
      ]
     },
     "execution_count": 33,
     "metadata": {},
     "output_type": "execute_result"
    }
   ],
   "source": [
    "adata_msi_top20_spat"
   ]
  },
  {
   "cell_type": "code",
   "execution_count": null,
   "metadata": {},
   "outputs": [],
   "source": [
    "adata_msi_top20_spat_train = adata_msi_top20_spat[adata_msi_top20_spat.obs[\"half_split\"]==\"train\"].copy()\n",
    "adata_msi_top20_spat_test = adata_msi_top20_spat[adata_msi_top20_spat.obs[\"half_split\"]==\"test\"].copy()\n",
    "\n",
    "for feat_sel in [\"hvg\", \"hvg_svd\", \"hvg_svd_graph\", \"svd\", \"svd_graph\"]:\n",
    "    out_dir = os.path.join(base_dir, feat_sel)\n",
    "    os.makedirs(out_dir, exist_ok=True)\n",
    "    \n",
    "    adata_msi_top20_spat_train.write(os.path.join(out_dir, \"msi_dataset_train.h5ad\"))\n",
    "    adata_msi_top20_spat_test.write(os.path.join(out_dir, \"msi_dataset_test.h5ad\"))\n"
   ]
  }
 ],
 "metadata": {
  "kernelspec": {
   "display_name": "Python (minimal)",
   "language": "python",
   "name": "mini"
  },
  "language_info": {
   "codemirror_mode": {
    "name": "ipython",
    "version": 3
   },
   "file_extension": ".py",
   "mimetype": "text/x-python",
   "name": "python",
   "nbconvert_exporter": "python",
   "pygments_lexer": "ipython3",
   "version": "3.12.7"
  }
 },
 "nbformat": 4,
 "nbformat_minor": 2
}
