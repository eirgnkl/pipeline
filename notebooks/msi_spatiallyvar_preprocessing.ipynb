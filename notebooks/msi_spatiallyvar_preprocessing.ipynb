{
 "cells": [
  {
   "cell_type": "code",
   "execution_count": 1,
   "metadata": {},
   "outputs": [
    {
     "name": "stderr",
     "output_type": "stream",
     "text": [
      "/ictstr01/home/icb/eirini.giannakoulia/tools/apps/mamba/envs/mini/lib/python3.12/site-packages/anndata/utils.py:429: FutureWarning: Importing read_csv from `anndata` is deprecated. Import anndata.io.read_csv instead.\n",
      "  warnings.warn(msg, FutureWarning)\n",
      "/ictstr01/home/icb/eirini.giannakoulia/tools/apps/mamba/envs/mini/lib/python3.12/site-packages/anndata/utils.py:429: FutureWarning: Importing read_excel from `anndata` is deprecated. Import anndata.io.read_excel instead.\n",
      "  warnings.warn(msg, FutureWarning)\n",
      "/ictstr01/home/icb/eirini.giannakoulia/tools/apps/mamba/envs/mini/lib/python3.12/site-packages/anndata/utils.py:429: FutureWarning: Importing read_hdf from `anndata` is deprecated. Import anndata.io.read_hdf instead.\n",
      "  warnings.warn(msg, FutureWarning)\n",
      "/ictstr01/home/icb/eirini.giannakoulia/tools/apps/mamba/envs/mini/lib/python3.12/site-packages/anndata/utils.py:429: FutureWarning: Importing read_loom from `anndata` is deprecated. Import anndata.io.read_loom instead.\n",
      "  warnings.warn(msg, FutureWarning)\n",
      "/ictstr01/home/icb/eirini.giannakoulia/tools/apps/mamba/envs/mini/lib/python3.12/site-packages/anndata/utils.py:429: FutureWarning: Importing read_mtx from `anndata` is deprecated. Import anndata.io.read_mtx instead.\n",
      "  warnings.warn(msg, FutureWarning)\n",
      "/ictstr01/home/icb/eirini.giannakoulia/tools/apps/mamba/envs/mini/lib/python3.12/site-packages/anndata/utils.py:429: FutureWarning: Importing read_text from `anndata` is deprecated. Import anndata.io.read_text instead.\n",
      "  warnings.warn(msg, FutureWarning)\n",
      "/ictstr01/home/icb/eirini.giannakoulia/tools/apps/mamba/envs/mini/lib/python3.12/site-packages/anndata/utils.py:429: FutureWarning: Importing read_umi_tools from `anndata` is deprecated. Import anndata.io.read_umi_tools instead.\n",
      "  warnings.warn(msg, FutureWarning)\n",
      "/ictstr01/home/icb/eirini.giannakoulia/tools/apps/mamba/envs/mini/lib/python3.12/site-packages/dask/dataframe/__init__.py:31: FutureWarning: The legacy Dask DataFrame implementation is deprecated and will be removed in a future version. Set the configuration option `dataframe.query-planning` to `True` or None to enable the new Dask Dataframe implementation and silence this warning.\n",
      "  warnings.warn(\n",
      "/ictstr01/home/icb/eirini.giannakoulia/tools/apps/mamba/envs/mini/lib/python3.12/site-packages/anndata/utils.py:429: FutureWarning: Importing read_text from `anndata` is deprecated. Import anndata.io.read_text instead.\n",
      "  warnings.warn(msg, FutureWarning)\n"
     ]
    }
   ],
   "source": [
    "import scanpy as sc\n",
    "import numpy as np\n",
    "import pandas as pd\n",
    "from tqdm import tqdm\n",
    "import seaborn as sns\n",
    "import squidpy as sq\n",
    "from sklearn.preprocessing import StandardScaler\n",
    "# from sklearn import model_selection\n",
    "from sklearn.metrics import r2_score\n",
    "import matplotlib.pyplot as plt\n",
    "import os\n"
   ]
  },
  {
   "cell_type": "code",
   "execution_count": null,
   "metadata": {},
   "outputs": [],
   "source": [
    "#Set path to data\n",
    "# path_msi = \"/lustre/groups/ml01/workspace/anastasia.litinetskaya/code/vitatrack/datasets/V11L12-038_A1.MSI_MOSCOT_paired_hvg.h5ad\"\n",
    "path_msi = \"/lustre/groups/ml01/workspace/anastasia.litinetskaya/code/vitatrack/datasets/MSI_concat_lipids.h5ad\"\n",
    "\n",
    "\n",
    "# Set task/dataset name and path to store (keep MSI in the name since it will be used for storing, to differentiate from RNA)\n",
    "dataset_name  = \"V11L12-038_A1.MSI_MOSCOT_paired_hvg\"\n",
    "store_dir = \"/lustre/groups/ml01/workspace/eirini.giannakoulia/hand_prep/\"\n",
    "# name of final data will be a combination of task_name and topN abundant metabs"
   ]
  },
  {
   "cell_type": "code",
   "execution_count": 13,
   "metadata": {},
   "outputs": [],
   "source": [
    "adata_msi_full = sc.read_h5ad(path_msi)\n",
    "# adata_rna_full = sc.read_h5ad(path_rna)"
   ]
  },
  {
   "cell_type": "markdown",
   "metadata": {},
   "source": [
    "### Prepare MSI data"
   ]
  },
  {
   "cell_type": "code",
   "execution_count": 14,
   "metadata": {},
   "outputs": [
    {
     "data": {
      "text/plain": [
       "AnnData object with n_obs × n_vars = 2681 × 500\n",
       "    obs: 'technology', 'clusters', 'split', 'og_index'\n",
       "    var: 'highly_variable', 'means', 'dispersions', 'dispersions_norm'\n",
       "    uns: 'clusters', 'clusters_colors', 'hvg', 'log1p', 'moranI', 'neighbors', 'pca', 'spatial_neighbors', 'umap'\n",
       "    obsm: 'X_pca', 'X_umap', 'raw_counts', 'spatial', 'spatial_warp'\n",
       "    varm: 'PCs'\n",
       "    obsp: 'connectivities', 'distances', 'spatial_connectivities', 'spatial_distances'"
      ]
     },
     "execution_count": 14,
     "metadata": {},
     "output_type": "execute_result"
    }
   ],
   "source": [
    "adata_msi_full"
   ]
  },
  {
   "cell_type": "code",
   "execution_count": 15,
   "metadata": {},
   "outputs": [],
   "source": [
    "adata_msi_full.var_names_make_unique()"
   ]
  },
  {
   "cell_type": "code",
   "execution_count": 16,
   "metadata": {},
   "outputs": [
    {
     "data": {
      "text/plain": [
       "AnnData object with n_obs × n_vars = 2681 × 500\n",
       "    obs: 'technology', 'clusters', 'split', 'og_index'\n",
       "    var: 'highly_variable', 'means', 'dispersions', 'dispersions_norm'\n",
       "    uns: 'clusters', 'clusters_colors', 'hvg', 'log1p', 'moranI', 'neighbors', 'pca', 'spatial_neighbors', 'umap'\n",
       "    obsm: 'X_pca', 'X_umap', 'raw_counts', 'spatial', 'spatial_warp'\n",
       "    varm: 'PCs'\n",
       "    obsp: 'connectivities', 'distances', 'spatial_connectivities', 'spatial_distances'"
      ]
     },
     "execution_count": 16,
     "metadata": {},
     "output_type": "execute_result"
    }
   ],
   "source": [
    "adata_msi_full"
   ]
  },
  {
   "cell_type": "markdown",
   "metadata": {},
   "source": [
    "#### Quality control (uncomment for unprocessed datasets)"
   ]
  },
  {
   "cell_type": "markdown",
   "metadata": {},
   "source": [
    "Here you can subset metabolites for noise  \n",
    "e.g.:  \n",
    "Remove m/z below FMP10, because most likely this is noise:  \n",
    "```python\n",
    "adata_msi_full.var_names  \n",
    "adata_msi = adata_msi_full[:, adata_msi_full.var_names.astype(float) > 288.15].copy()"
   ]
  },
  {
   "cell_type": "code",
   "execution_count": null,
   "metadata": {},
   "outputs": [],
   "source": [
    "# adata_msi = adata_msi_full[:, adata_msi_full.var_names.astype(float) > 288.15].copy()\n",
    "adata_msi = adata_msi_full.copy()\n",
    "adata_msi"
   ]
  },
  {
   "cell_type": "code",
   "execution_count": null,
   "metadata": {},
   "outputs": [
    {
     "name": "stderr",
     "output_type": "stream",
     "text": [
      "\n",
      "KeyboardInterrupt\n",
      "\n"
     ]
    }
   ],
   "source": [
    "sc.pp.calculate_qc_metrics(adata_msi, inplace=True)\n",
    "sns.histplot(adata_msi.obs.total_counts) #This sums all the metabolites m/z ratios for each cell\n",
    "sns.histplot(adata_msi.var.n_cells_by_counts) #This sums all the cells for each metabolite m/z ratio\n",
    "adata_msi.var.n_cells_by_counts.describe()\n",
    "# Remove highly abundant (since they are most likely noise)\n",
    "sc.pp.filter_genes(adata_msi, max_cells=1750)"
   ]
  },
  {
   "cell_type": "markdown",
   "metadata": {},
   "source": [
    "#### Let's identify most spatialy variable metabolites"
   ]
  },
  {
   "cell_type": "code",
   "execution_count": 21,
   "metadata": {},
   "outputs": [
    {
     "data": {
      "text/plain": [
       "AnnData object with n_obs × n_vars = 2681 × 500\n",
       "    obs: 'technology', 'clusters', 'split', 'og_index'\n",
       "    var: 'highly_variable', 'means', 'dispersions', 'dispersions_norm'\n",
       "    uns: 'clusters', 'clusters_colors', 'hvg', 'log1p', 'moranI', 'neighbors', 'pca', 'spatial_neighbors', 'umap'\n",
       "    obsm: 'X_pca', 'X_umap', 'raw_counts', 'spatial', 'spatial_warp'\n",
       "    varm: 'PCs'\n",
       "    obsp: 'connectivities', 'distances', 'spatial_connectivities', 'spatial_distances'"
      ]
     },
     "execution_count": 21,
     "metadata": {},
     "output_type": "execute_result"
    }
   ],
   "source": [
    "adata_msi"
   ]
  },
  {
   "cell_type": "markdown",
   "metadata": {},
   "source": [
    "MoranI already present, but just for completeness let's go for the procedure from beginning\n",
    "\n"
   ]
  },
  {
   "cell_type": "code",
   "execution_count": 22,
   "metadata": {},
   "outputs": [],
   "source": [
    "# Identify top 5 most spatially variable metabolomes using Moran's I\n",
    "sq.gr.spatial_neighbors(adata_msi, spatial_key='spatial_warp')\n",
    "sq.gr.spatial_autocorr(adata_msi)\n"
   ]
  },
  {
   "cell_type": "markdown",
   "metadata": {},
   "source": [
    "Do a sorting based first on index, then on Benjamini Hochberg FDR correction pvalue and select the top 30"
   ]
  },
  {
   "cell_type": "code",
   "execution_count": 23,
   "metadata": {},
   "outputs": [
    {
     "data": {
      "text/html": [
       "<div>\n",
       "<style scoped>\n",
       "    .dataframe tbody tr th:only-of-type {\n",
       "        vertical-align: middle;\n",
       "    }\n",
       "\n",
       "    .dataframe tbody tr th {\n",
       "        vertical-align: top;\n",
       "    }\n",
       "\n",
       "    .dataframe thead th {\n",
       "        text-align: right;\n",
       "    }\n",
       "</style>\n",
       "<table border=\"1\" class=\"dataframe\">\n",
       "  <thead>\n",
       "    <tr style=\"text-align: right;\">\n",
       "      <th></th>\n",
       "      <th>I</th>\n",
       "      <th>pval_norm</th>\n",
       "      <th>var_norm</th>\n",
       "      <th>pval_norm_fdr_bh</th>\n",
       "    </tr>\n",
       "  </thead>\n",
       "  <tbody>\n",
       "    <tr>\n",
       "      <th>203.05299000000002</th>\n",
       "      <td>0.728759</td>\n",
       "      <td>0.000000</td>\n",
       "      <td>0.000113</td>\n",
       "      <td>0.000000</td>\n",
       "    </tr>\n",
       "    <tr>\n",
       "      <th>162.11293999999998</th>\n",
       "      <td>0.720096</td>\n",
       "      <td>0.000000</td>\n",
       "      <td>0.000113</td>\n",
       "      <td>0.000000</td>\n",
       "    </tr>\n",
       "    <tr>\n",
       "      <th>214.01164</th>\n",
       "      <td>0.692849</td>\n",
       "      <td>0.000000</td>\n",
       "      <td>0.000113</td>\n",
       "      <td>0.000000</td>\n",
       "    </tr>\n",
       "    <tr>\n",
       "      <th>280.092375</th>\n",
       "      <td>0.690487</td>\n",
       "      <td>0.000000</td>\n",
       "      <td>0.000113</td>\n",
       "      <td>0.000000</td>\n",
       "    </tr>\n",
       "    <tr>\n",
       "      <th>845.51016</th>\n",
       "      <td>0.678208</td>\n",
       "      <td>0.000000</td>\n",
       "      <td>0.000113</td>\n",
       "      <td>0.000000</td>\n",
       "    </tr>\n",
       "    <tr>\n",
       "      <th>...</th>\n",
       "      <td>...</td>\n",
       "      <td>...</td>\n",
       "      <td>...</td>\n",
       "      <td>...</td>\n",
       "    </tr>\n",
       "    <tr>\n",
       "      <th>757.524185</th>\n",
       "      <td>-0.012857</td>\n",
       "      <td>0.120397</td>\n",
       "      <td>0.000113</td>\n",
       "      <td>0.131438</td>\n",
       "    </tr>\n",
       "    <tr>\n",
       "      <th>955.885645</th>\n",
       "      <td>-0.013307</td>\n",
       "      <td>0.112128</td>\n",
       "      <td>0.000113</td>\n",
       "      <td>0.122678</td>\n",
       "    </tr>\n",
       "    <tr>\n",
       "      <th>985.53971</th>\n",
       "      <td>-0.015396</td>\n",
       "      <td>0.079038</td>\n",
       "      <td>0.000113</td>\n",
       "      <td>0.087626</td>\n",
       "    </tr>\n",
       "    <tr>\n",
       "      <th>889.700055</th>\n",
       "      <td>-0.016634</td>\n",
       "      <td>0.063264</td>\n",
       "      <td>0.000113</td>\n",
       "      <td>0.070924</td>\n",
       "    </tr>\n",
       "    <tr>\n",
       "      <th>808.216595</th>\n",
       "      <td>-0.019860</td>\n",
       "      <td>0.033545</td>\n",
       "      <td>0.000113</td>\n",
       "      <td>0.038033</td>\n",
       "    </tr>\n",
       "  </tbody>\n",
       "</table>\n",
       "<p>500 rows × 4 columns</p>\n",
       "</div>"
      ],
      "text/plain": [
       "                           I  pval_norm  var_norm  pval_norm_fdr_bh\n",
       "203.05299000000002  0.728759   0.000000  0.000113          0.000000\n",
       "162.11293999999998  0.720096   0.000000  0.000113          0.000000\n",
       "214.01164           0.692849   0.000000  0.000113          0.000000\n",
       "280.092375          0.690487   0.000000  0.000113          0.000000\n",
       "845.51016           0.678208   0.000000  0.000113          0.000000\n",
       "...                      ...        ...       ...               ...\n",
       "757.524185         -0.012857   0.120397  0.000113          0.131438\n",
       "955.885645         -0.013307   0.112128  0.000113          0.122678\n",
       "985.53971          -0.015396   0.079038  0.000113          0.087626\n",
       "889.700055         -0.016634   0.063264  0.000113          0.070924\n",
       "808.216595         -0.019860   0.033545  0.000113          0.038033\n",
       "\n",
       "[500 rows x 4 columns]"
      ]
     },
     "execution_count": 23,
     "metadata": {},
     "output_type": "execute_result"
    }
   ],
   "source": [
    "adata_msi.uns[\"moranI\"]"
   ]
  },
  {
   "cell_type": "code",
   "execution_count": 24,
   "metadata": {},
   "outputs": [],
   "source": [
    "top_30_spat = adata_msi.uns[\"moranI\"].loc[adata_msi.uns[\"moranI\"].pval_norm_fdr_bh < 0.05].sort_values(by=[\"I\", \"pval_norm_fdr_bh\"], ascending=[False, True]).index[:30]\n"
   ]
  },
  {
   "cell_type": "markdown",
   "metadata": {},
   "source": [
    "#### Mini correction for known DHB positive mode matrix peaks, if info for other matrices/modes add the values"
   ]
  },
  {
   "cell_type": "code",
   "execution_count": 25,
   "metadata": {},
   "outputs": [],
   "source": [
    "mz_values = adata_msi.var_names.astype(float).to_numpy()\n",
    "mz_values"
   ]
  },
  {
   "cell_type": "code",
   "execution_count": null,
   "metadata": {},
   "outputs": [],
   "source": [
    "dhb_peaks_positive = np.array([137.0238, 155.0341, 177.0173, 193.0351, 273.0454])\n",
    "found_peaks = set(mz_values[np.abs(mz_values[:, None] - dhb_peaks_positive[None, :]).min(axis=1) <= 0.1])\n",
    "found_peaks_str = set(map(str, found_peaks))\n",
    "\n",
    "# dhb_peaks_negative = np.array([137.0238, 155.0341, 177.0173, 193.0351, 273.0454])\n",
    "# found_peaks = set(mz_values[np.abs(mz_values[:, None] - dhb_peaks_negative[None, :]).min(axis=1) <= 0.1])\n",
    "# found_peaks_str = set(map(str, found_peaks))\n",
    "\n",
    "# fmp10_peaks_positive = np.array([])\n",
    "# found_peaks = set(mz_values[np.abs(mz_values[:, None] - fmp10_peaks_positive[None, :]).min(axis=1) <= 0.1])\n",
    "# found_peaks_str = set(map(str, found_peaks))\n",
    "\n",
    "# fmp10_peaks_negative = np.array([])\n",
    "# found_peaks = set(mz_values[np.abs(mz_values[:, None] - fmp10_peaks_negative[None, :]).min(axis=1) <= 0.1])\n",
    "# found_peaks_str = set(map(str, found_peaks))\n",
    "\n",
    "top_30_spat_filtered = [mz for mz in top_30_spat if mz not in found_peaks_str]\n",
    "print(top_30_spat_filtered, len(top_30_spat_filtered), found_peaks)\n"
   ]
  },
  {
   "cell_type": "code",
   "execution_count": null,
   "metadata": {},
   "outputs": [],
   "source": [
    "# #If you dont want to do the matrix peaks cleaning, just comment out previous part and uncomment this:\n",
    "# top_30_spat_filtered = top_30_spat"
   ]
  },
  {
   "cell_type": "code",
   "execution_count": null,
   "metadata": {},
   "outputs": [],
   "source": [
    "top_5_spat_metabolites = top_30_spat_filtered[:5]\n",
    "top_10_spat_metabolites = top_30_spat_filtered[:10]\n",
    "top_20_spat_metabolites = top_30_spat_filtered[:20]\n",
    "# adata_msi_top5_spat = adata_msi[:, adata_msi.var_names.isin(top_5_spat_metabolites)].copy()\n",
    "adata_msi_top10_spat = adata_msi[:, adata_msi.var_names.isin(top_10_spat_metabolites)].copy()\n",
    "adata_msi_top20_spat = adata_msi[:, adata_msi.var_names.isin(top_20_spat_metabolites)].copy()"
   ]
  },
  {
   "cell_type": "markdown",
   "metadata": {},
   "source": [
    "#### Store the created dataset full in the directory of choice, under {original_dataset_name}_topNspatvar.h5ad"
   ]
  },
  {
   "cell_type": "code",
   "execution_count": null,
   "metadata": {},
   "outputs": [],
   "source": [
    "# adata_msi_top5_spat.write(os.path.join(store_dir, f\"{dataset_name}_top5spatvar.h5ad\"))\n",
    "adata_msi_top10_spat.write(os.path.join(store_dir, f\"{dataset_name}_top10spatvar.h5ad\"))\n",
    "adata_msi_top20_spat.write(os.path.join(store_dir, f\"{dataset_name}_top20spatvar.h5ad\"))"
   ]
  },
  {
   "cell_type": "code",
   "execution_count": 33,
   "metadata": {},
   "outputs": [],
   "source": [
    "# adata_msi_top5_spat"
   ]
  },
  {
   "cell_type": "markdown",
   "metadata": {},
   "source": [
    "### Processed Dataset Setup for Feature Selection\n",
    "\n",
    "The following instructions explain how to avoid re-preprocessing the data in the main pipeline. The `run_featsel` step will skip preprocessing if the data already exists in the output directory of the `feat_sel` rule.\n",
    "\n",
    "### Steps\n",
    "\n",
    "1. **Manually Create Processed Datasets**\n",
    "\n",
    "   - Copy the processed RNA test and train splits from the corresponding RNA dataset (choose one from *vitatrack*, *neuro*, or *lipids*).\n",
    "\n",
    "2. **Place Data in the Pipeline Directory**\n",
    "\n",
    "   - Copy the processed datasets from the previous step into the pipeline's workspace directory.\n",
    "   - Rename the folder as needed (e.g., using the task name specified in `config.yaml`):\n",
    "     \n",
    "     ```bash\n",
    "     /lustre/groups/ml01/workspace/eirini.giannakoulia/{task_name}_topN_spatvar\n",
    "     ```\n",
    "\n",
    "3. **Add Processed MSI Data**\n",
    "\n",
    "   - Run the remaining notebook to add the processed MSI data into all the feature selection folders\n",
    "\n",
    "3. **Paste in pipeline**\n",
    "\n",
    "   - Paste under:\n",
    "   ```bash\n",
    "     pipeline/dataset/processed/{task_name}_topN_spatvar\n",
    "     ```\n",
    "\n",
    "\n",
    "\n",
    "\n",
    "After completing these steps, your pipeline is ready to run without reprocessing the data.\n"
   ]
  },
  {
   "cell_type": "code",
   "execution_count": 46,
   "metadata": {},
   "outputs": [],
   "source": [
    "task_name = \"V11L12-038_A1_MOSCOT_paired_hvg\"\n",
    "split = \"split\""
   ]
  },
  {
   "cell_type": "code",
   "execution_count": 47,
   "metadata": {},
   "outputs": [],
   "source": [
    "# base_dir = f\"/lustre/groups/ml01/workspace/eirini.giannakoulia/{task_name}_top5_spatvar\"\n",
    "# adata_msi_top5_spat_train = adata_msi_top5_spat[adata_msi_top5_spat.obs[\"half_split\" ]== \"train\"].copy()\n",
    "# adata_msi_top5_spat_test = adata_msi_top5_spat[adata_msi_top5_spat.obs[\"half_split\" ]== \"test\"].copy()\n",
    "\n",
    "# for feat_sel in [\"hvg\", \"hvg_svd\", \"hvg_svd_graph\", \"svd\", \"svd_graph\"]:\n",
    "#     adata_msi_top5_spat_train.write(os.path.join(\"/lustre/groups/ml01/workspace/eirini.giannakoulia/lipids_top5_spatvar\",feat_sel,\"msi_dataset_train.h5ad\"))\n",
    "#     adata_msi_top5_spat_test.write(os.path.join(\"/lustre/groups/ml01/workspace/eirini.giannakoulia/lipids_top5_spatvar\",feat_sel,\"msi_dataset_test.h5ad\"))\n"
   ]
  },
  {
   "cell_type": "code",
   "execution_count": 48,
   "metadata": {},
   "outputs": [],
   "source": [
    "base_dir = f\"/lustre/groups/ml01/workspace/eirini.giannakoulia/{task_name}_top10_spatvar\"\n",
    "adata_msi_top10_spat_train = adata_msi_top10_spat[adata_msi_top10_spat.obs[split]==\"train\"].copy()\n",
    "adata_msi_top10_spat_test = adata_msi_top10_spat[adata_msi_top10_spat.obs[split]==\"test\"].copy()\n",
    "\n",
    "for feat_sel in [\"hvg\", \"hvg_svd\", \"hvg_svd_graph\", \"svd\", \"svd_graph\"]:\n",
    "    # Create the directory if it doesn't exist\n",
    "    out_dir = os.path.join(base_dir, feat_sel)\n",
    "    os.makedirs(out_dir, exist_ok=True)\n",
    "\n",
    "    # Write the files\n",
    "    adata_msi_top10_spat_train.write(os.path.join(out_dir, \"msi_dataset_train.h5ad\"))\n",
    "    adata_msi_top10_spat_test.write(os.path.join(out_dir, \"msi_dataset_test.h5ad\"))\n"
   ]
  },
  {
   "cell_type": "code",
   "execution_count": 50,
   "metadata": {},
   "outputs": [
    {
     "data": {
      "text/plain": [
       "AnnData object with n_obs × n_vars = 2681 × 10\n",
       "    obs: 'technology', 'clusters', 'split', 'og_index'\n",
       "    var: 'highly_variable', 'means', 'dispersions', 'dispersions_norm'\n",
       "    uns: 'clusters', 'clusters_colors', 'hvg', 'log1p', 'moranI', 'neighbors', 'pca', 'spatial_neighbors', 'umap'\n",
       "    obsm: 'X_pca', 'X_umap', 'raw_counts', 'spatial', 'spatial_warp'\n",
       "    varm: 'PCs'\n",
       "    obsp: 'connectivities', 'distances', 'spatial_connectivities', 'spatial_distances'"
      ]
     },
     "execution_count": 50,
     "metadata": {},
     "output_type": "execute_result"
    }
   ],
   "source": [
    "adata_msi_top10_spat"
   ]
  },
  {
   "cell_type": "code",
   "execution_count": 51,
   "metadata": {},
   "outputs": [],
   "source": [
    "base_dir = f\"/lustre/groups/ml01/workspace/eirini.giannakoulia/{task_name}_top20_spatvar\"\n",
    "\n",
    "adata_msi_top20_spat_train = adata_msi_top20_spat[adata_msi_top20_spat.obs[split]==\"train\"].copy()\n",
    "adata_msi_top20_spat_test = adata_msi_top20_spat[adata_msi_top20_spat.obs[split]==\"test\"].copy()\n"
   ]
  },
  {
   "cell_type": "code",
   "execution_count": null,
   "metadata": {},
   "outputs": [],
   "source": [
    "# Cross check if var size is correct\n",
    "adata_msi_top20_spat_train\n"
   ]
  },
  {
   "cell_type": "code",
   "execution_count": null,
   "metadata": {},
   "outputs": [],
   "source": [
    "for feat_sel in [\"hvg\", \"hvg_svd\", \"hvg_svd_graph\", \"svd\", \"svd_graph\"]:\n",
    "    out_dir = os.path.join(base_dir, feat_sel)\n",
    "    os.makedirs(out_dir, exist_ok=True)\n",
    "    \n",
    "    adata_msi_top20_spat_train.write(os.path.join(out_dir, \"msi_dataset_train.h5ad\"))\n",
    "    adata_msi_top20_spat_test.write(os.path.join(out_dir, \"msi_dataset_test.h5ad\"))\n"
   ]
  }
 ],
 "metadata": {
  "kernelspec": {
   "display_name": "Python (minimal)",
   "language": "python",
   "name": "mini"
  },
  "language_info": {
   "codemirror_mode": {
    "name": "ipython",
    "version": 3
   },
   "file_extension": ".py",
   "mimetype": "text/x-python",
   "name": "python",
   "nbconvert_exporter": "python",
   "pygments_lexer": "ipython3",
   "version": "3.12.7"
  }
 },
 "nbformat": 4,
 "nbformat_minor": 2
}
