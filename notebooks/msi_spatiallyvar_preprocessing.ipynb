{
 "cells": [
  {
   "cell_type": "markdown",
   "metadata": {},
   "source": [
    "### Subset and store  MSI datasets to top20, top10 and top5 most spatially variable metabolites"
   ]
  },
  {
   "cell_type": "code",
   "execution_count": 1,
   "metadata": {},
   "outputs": [
    {
     "name": "stderr",
     "output_type": "stream",
     "text": [
      "/home/icb/yufan.xia/tools/apps/mamba/envs/pipeline/lib/python3.12/site-packages/anndata/utils.py:434: FutureWarning: Importing read_csv from `anndata` is deprecated. Import anndata.io.read_csv instead.\n",
      "  warnings.warn(msg, FutureWarning)\n",
      "/home/icb/yufan.xia/tools/apps/mamba/envs/pipeline/lib/python3.12/site-packages/anndata/utils.py:434: FutureWarning: Importing read_excel from `anndata` is deprecated. Import anndata.io.read_excel instead.\n",
      "  warnings.warn(msg, FutureWarning)\n",
      "/home/icb/yufan.xia/tools/apps/mamba/envs/pipeline/lib/python3.12/site-packages/anndata/utils.py:434: FutureWarning: Importing read_hdf from `anndata` is deprecated. Import anndata.io.read_hdf instead.\n",
      "  warnings.warn(msg, FutureWarning)\n",
      "/home/icb/yufan.xia/tools/apps/mamba/envs/pipeline/lib/python3.12/site-packages/anndata/utils.py:434: FutureWarning: Importing read_loom from `anndata` is deprecated. Import anndata.io.read_loom instead.\n",
      "  warnings.warn(msg, FutureWarning)\n",
      "/home/icb/yufan.xia/tools/apps/mamba/envs/pipeline/lib/python3.12/site-packages/anndata/utils.py:434: FutureWarning: Importing read_mtx from `anndata` is deprecated. Import anndata.io.read_mtx instead.\n",
      "  warnings.warn(msg, FutureWarning)\n",
      "/home/icb/yufan.xia/tools/apps/mamba/envs/pipeline/lib/python3.12/site-packages/anndata/utils.py:434: FutureWarning: Importing read_text from `anndata` is deprecated. Import anndata.io.read_text instead.\n",
      "  warnings.warn(msg, FutureWarning)\n",
      "/home/icb/yufan.xia/tools/apps/mamba/envs/pipeline/lib/python3.12/site-packages/anndata/utils.py:434: FutureWarning: Importing read_umi_tools from `anndata` is deprecated. Import anndata.io.read_umi_tools instead.\n",
      "  warnings.warn(msg, FutureWarning)\n",
      "/home/icb/yufan.xia/tools/apps/mamba/envs/pipeline/lib/python3.12/site-packages/dask/dataframe/__init__.py:31: FutureWarning: The legacy Dask DataFrame implementation is deprecated and will be removed in a future version. Set the configuration option `dataframe.query-planning` to `True` or None to enable the new Dask Dataframe implementation and silence this warning.\n",
      "  warnings.warn(\n",
      "/home/icb/yufan.xia/tools/apps/mamba/envs/pipeline/lib/python3.12/site-packages/anndata/utils.py:434: FutureWarning: Importing read_text from `anndata` is deprecated. Import anndata.io.read_text instead.\n",
      "  warnings.warn(msg, FutureWarning)\n"
     ]
    }
   ],
   "source": [
    "import scanpy as sc\n",
    "import numpy as np\n",
    "import pandas as pd\n",
    "from tqdm import tqdm\n",
    "import seaborn as sns\n",
    "import squidpy as sq\n",
    "from sklearn.preprocessing import StandardScaler\n",
    "# from sklearn import model_selection\n",
    "from sklearn.metrics import r2_score\n",
    "import matplotlib.pyplot as plt\n",
    "import os\n"
   ]
  },
  {
   "cell_type": "code",
   "execution_count": 2,
   "metadata": {},
   "outputs": [],
   "source": [
    "#Set path to data\n",
    "# path_msi = \"/lustre/groups/ml01/workspace/anastasia.litinetskaya/code/vitatrack/datasets/V11L12-038_A1.MSI_MOSCOT_paired_hvg.h5ad\"\n",
    "path_msi = \"/lustre/groups/ml01/workspace/anastasia.litinetskaya/code/vitatrack/datasets/V11L12-038_A1.MSI_MOSCOT_paired.h5ad\"\n"
   ]
  },
  {
   "cell_type": "code",
   "execution_count": 3,
   "metadata": {},
   "outputs": [
    {
     "data": {
      "text/plain": [
       "AnnData object with n_obs × n_vars = 2681 × 2754\n",
       "    obs: 'technology', 'clusters', 'random_split', 'half_split', 'slide'\n",
       "    var: 'highly_variable', 'means', 'dispersions', 'dispersions_norm'\n",
       "    uns: 'clusters', 'clusters_colors', 'hvg', 'log1p', 'moranI', 'neighbors', 'pca', 'spatial_neighbors', 'umap'\n",
       "    obsm: 'X_pca', 'X_umap', 'spatial', 'spatial_warp'\n",
       "    varm: 'PCs'\n",
       "    layers: 'counts'\n",
       "    obsp: 'connectivities', 'distances', 'spatial_connectivities', 'spatial_distances'"
      ]
     },
     "execution_count": 3,
     "metadata": {},
     "output_type": "execute_result"
    }
   ],
   "source": [
    "sc.read_h5ad(path_msi)"
   ]
  },
  {
   "cell_type": "code",
   "execution_count": 4,
   "metadata": {},
   "outputs": [],
   "source": [
    "# Set task/dataset name and path to store (keep MSI in the name since it will be used for storing, to differentiate from RNA)\n",
    "dataset_name  = \"V11L12-038_A1.MSI_MOSCOT_paired\"\n",
    "store_dir = \"/lustre/groups/ml01/workspace/eirini/hand_prep/\"\n",
    "# name of final data will be a combination of task/dataset_name and topN abundant metabs"
   ]
  },
  {
   "cell_type": "code",
   "execution_count": 5,
   "metadata": {},
   "outputs": [],
   "source": [
    "adata_msi_full = sc.read_h5ad(path_msi)\n",
    "# adata_rna_full = sc.read_h5ad(path_rna)"
   ]
  },
  {
   "cell_type": "markdown",
   "metadata": {},
   "source": [
    "### Prepare MSI data"
   ]
  },
  {
   "cell_type": "code",
   "execution_count": 6,
   "metadata": {},
   "outputs": [
    {
     "data": {
      "text/plain": [
       "AnnData object with n_obs × n_vars = 2681 × 2754\n",
       "    obs: 'technology', 'clusters', 'random_split', 'half_split', 'slide'\n",
       "    var: 'highly_variable', 'means', 'dispersions', 'dispersions_norm'\n",
       "    uns: 'clusters', 'clusters_colors', 'hvg', 'log1p', 'moranI', 'neighbors', 'pca', 'spatial_neighbors', 'umap'\n",
       "    obsm: 'X_pca', 'X_umap', 'spatial', 'spatial_warp'\n",
       "    varm: 'PCs'\n",
       "    layers: 'counts'\n",
       "    obsp: 'connectivities', 'distances', 'spatial_connectivities', 'spatial_distances'"
      ]
     },
     "execution_count": 6,
     "metadata": {},
     "output_type": "execute_result"
    }
   ],
   "source": [
    "adata_msi_full"
   ]
  },
  {
   "cell_type": "code",
   "execution_count": 7,
   "metadata": {},
   "outputs": [],
   "source": [
    "adata_msi_full.var_names_make_unique()"
   ]
  },
  {
   "cell_type": "code",
   "execution_count": 8,
   "metadata": {},
   "outputs": [
    {
     "data": {
      "text/plain": [
       "AnnData object with n_obs × n_vars = 2681 × 2754\n",
       "    obs: 'technology', 'clusters', 'random_split', 'half_split', 'slide'\n",
       "    var: 'highly_variable', 'means', 'dispersions', 'dispersions_norm'\n",
       "    uns: 'clusters', 'clusters_colors', 'hvg', 'log1p', 'moranI', 'neighbors', 'pca', 'spatial_neighbors', 'umap'\n",
       "    obsm: 'X_pca', 'X_umap', 'spatial', 'spatial_warp'\n",
       "    varm: 'PCs'\n",
       "    layers: 'counts'\n",
       "    obsp: 'connectivities', 'distances', 'spatial_connectivities', 'spatial_distances'"
      ]
     },
     "execution_count": 8,
     "metadata": {},
     "output_type": "execute_result"
    }
   ],
   "source": [
    "adata_msi_full"
   ]
  },
  {
   "cell_type": "markdown",
   "metadata": {},
   "source": [
    "#### Quality control (uncomment for unprocessed datasets)"
   ]
  },
  {
   "cell_type": "markdown",
   "metadata": {},
   "source": [
    "Here you can subset metabolites for noise  \n",
    "e.g.:  \n",
    "Remove m/z below FMP10, because most likely this is noise:  \n",
    "```python\n",
    "adata_msi_full.var_names  \n",
    "adata_msi = adata_msi_full[:, adata_msi_full.var_names.astype(float) > 288.15].copy()"
   ]
  },
  {
   "cell_type": "code",
   "execution_count": 9,
   "metadata": {},
   "outputs": [
    {
     "data": {
      "text/plain": [
       "AnnData object with n_obs × n_vars = 2681 × 2754\n",
       "    obs: 'technology', 'clusters', 'random_split', 'half_split', 'slide'\n",
       "    var: 'highly_variable', 'means', 'dispersions', 'dispersions_norm'\n",
       "    uns: 'clusters', 'clusters_colors', 'hvg', 'log1p', 'moranI', 'neighbors', 'pca', 'spatial_neighbors', 'umap'\n",
       "    obsm: 'X_pca', 'X_umap', 'spatial', 'spatial_warp'\n",
       "    varm: 'PCs'\n",
       "    layers: 'counts'\n",
       "    obsp: 'connectivities', 'distances', 'spatial_connectivities', 'spatial_distances'"
      ]
     },
     "execution_count": 9,
     "metadata": {},
     "output_type": "execute_result"
    }
   ],
   "source": [
    "# adata_msi = adata_msi_full[:, adata_msi_full.var_names.astype(float) > 288.15].copy()\n",
    "adata_msi = adata_msi_full.copy()\n",
    "adata_msi"
   ]
  },
  {
   "cell_type": "code",
   "execution_count": 10,
   "metadata": {},
   "outputs": [],
   "source": [
    "sc.pp.calculate_qc_metrics(adata_msi, inplace=True)\n"
   ]
  },
  {
   "cell_type": "code",
   "execution_count": 11,
   "metadata": {},
   "outputs": [
    {
     "data": {
      "text/plain": [
       "<Axes: xlabel='total_counts', ylabel='Count'>"
      ]
     },
     "execution_count": 11,
     "metadata": {},
     "output_type": "execute_result"
    },
    {
     "data": {
      "image/png": "[encoded data removed]",
      "text/plain": [
       "<Figure size 640x480 with 1 Axes>"
      ]
     },
     "metadata": {},
     "output_type": "display_data"
    }
   ],
   "source": [
    "sns.histplot(adata_msi.obs.total_counts) #This sums all the metabolites counted for each cell. \n"
   ]
  },
  {
   "cell_type": "code",
   "execution_count": 12,
   "metadata": {},
   "outputs": [
    {
     "data": {
      "text/plain": [
       "<Axes: xlabel='n_cells_by_counts', ylabel='Count'>"
      ]
     },
     "execution_count": 12,
     "metadata": {},
     "output_type": "execute_result"
    },
    {
     "data": {
      "image/png": "[encoded data removed]",
      "text/plain": [
       "<Figure size 640x480 with 1 Axes>"
      ]
     },
     "metadata": {},
     "output_type": "display_data"
    }
   ],
   "source": [
    "sns.histplot(adata_msi.var.n_cells_by_counts) #This sums # of cells in which each metabolite m/z ratio was found\n"
   ]
  },
  {
   "cell_type": "code",
   "execution_count": 13,
   "metadata": {},
   "outputs": [
    {
     "data": {
      "text/plain": [
       "count    2754.000000\n",
       "mean     1854.484386\n",
       "std       904.224189\n",
       "min        32.000000\n",
       "25%      1017.500000\n",
       "50%      2282.000000\n",
       "75%      2671.000000\n",
       "max      2681.000000\n",
       "Name: n_cells_by_counts, dtype: float64"
      ]
     },
     "execution_count": 13,
     "metadata": {},
     "output_type": "execute_result"
    }
   ],
   "source": [
    "adata_msi.var.n_cells_by_counts.describe()\n"
   ]
  },
  {
   "cell_type": "code",
   "execution_count": 15,
   "metadata": {},
   "outputs": [],
   "source": [
    "# Remove highly abundant (since they are most likely noise)\n",
    "desc = adata_msi.var.n_cells_by_counts.describe()\n",
    "# Extract the 75% value, then round up to the nearest 50\n",
    "max_cells_val = int(np.ceil(desc['75%'] / 50.0) * 50)\n",
    "\n",
    "sc.pp.filter_genes(adata_msi, max_cells=2676)\n",
    "# or alternatively seet your own number:\n",
    "# sc.pp.filter_genes(adata_msi, max_cells=1750)\n"
   ]
  },
  {
   "cell_type": "markdown",
   "metadata": {},
   "source": [
    "#### Let's identify most spatialy variable metabolites"
   ]
  },
  {
   "cell_type": "code",
   "execution_count": 16,
   "metadata": {},
   "outputs": [
    {
     "data": {
      "text/plain": [
       "AnnData object with n_obs × n_vars = 2681 × 2174\n",
       "    obs: 'technology', 'clusters', 'random_split', 'half_split', 'slide', 'n_genes_by_counts', 'log1p_n_genes_by_counts', 'total_counts', 'log1p_total_counts', 'pct_counts_in_top_50_genes', 'pct_counts_in_top_100_genes', 'pct_counts_in_top_200_genes', 'pct_counts_in_top_500_genes'\n",
       "    var: 'highly_variable', 'means', 'dispersions', 'dispersions_norm', 'n_cells_by_counts', 'mean_counts', 'log1p_mean_counts', 'pct_dropout_by_counts', 'total_counts', 'log1p_total_counts', 'n_cells'\n",
       "    uns: 'clusters', 'clusters_colors', 'hvg', 'log1p', 'moranI', 'neighbors', 'pca', 'spatial_neighbors', 'umap'\n",
       "    obsm: 'X_pca', 'X_umap', 'spatial', 'spatial_warp'\n",
       "    varm: 'PCs'\n",
       "    layers: 'counts'\n",
       "    obsp: 'connectivities', 'distances', 'spatial_connectivities', 'spatial_distances'"
      ]
     },
     "execution_count": 16,
     "metadata": {},
     "output_type": "execute_result"
    }
   ],
   "source": [
    "adata_msi"
   ]
  },
  {
   "cell_type": "markdown",
   "metadata": {},
   "source": [
    "MoranI already present, but just for completeness let's go for the procedure from beginning\n",
    "\n"
   ]
  },
  {
   "cell_type": "code",
   "execution_count": 17,
   "metadata": {},
   "outputs": [],
   "source": [
    "# Identify top 5 most spatially variable metabolomes using Moran's I\n",
    "sq.gr.spatial_neighbors(adata_msi, spatial_key='spatial_warp')\n",
    "sq.gr.spatial_autocorr(adata_msi)\n"
   ]
  },
  {
   "cell_type": "markdown",
   "metadata": {},
   "source": [
    "Do a sorting based first on index, then on Benjamini Hochberg FDR correction pvalue and select the top 30"
   ]
  },
  {
   "cell_type": "code",
   "execution_count": 18,
   "metadata": {},
   "outputs": [
    {
     "data": {
      "text/html": [
       "<div>\n",
       "<style scoped>\n",
       "    .dataframe tbody tr th:only-of-type {\n",
       "        vertical-align: middle;\n",
       "    }\n",
       "\n",
       "    .dataframe tbody tr th {\n",
       "        vertical-align: top;\n",
       "    }\n",
       "\n",
       "    .dataframe thead th {\n",
       "        text-align: right;\n",
       "    }\n",
       "</style>\n",
       "<table border=\"1\" class=\"dataframe\">\n",
       "  <thead>\n",
       "    <tr style=\"text-align: right;\">\n",
       "      <th></th>\n",
       "      <th>I</th>\n",
       "      <th>pval_norm</th>\n",
       "      <th>var_norm</th>\n",
       "      <th>pval_norm_fdr_bh</th>\n",
       "    </tr>\n",
       "  </thead>\n",
       "  <tbody>\n",
       "    <tr>\n",
       "      <th>343.05333</th>\n",
       "      <td>0.756057</td>\n",
       "      <td>0.000000</td>\n",
       "      <td>0.000113</td>\n",
       "      <td>0.000000</td>\n",
       "    </tr>\n",
       "    <tr>\n",
       "      <th>838.6165</th>\n",
       "      <td>0.746500</td>\n",
       "      <td>0.000000</td>\n",
       "      <td>0.000113</td>\n",
       "      <td>0.000000</td>\n",
       "    </tr>\n",
       "    <tr>\n",
       "      <th>866.6484849999999</th>\n",
       "      <td>0.743828</td>\n",
       "      <td>0.000000</td>\n",
       "      <td>0.000113</td>\n",
       "      <td>0.000000</td>\n",
       "    </tr>\n",
       "    <tr>\n",
       "      <th>848.6320350000001</th>\n",
       "      <td>0.735701</td>\n",
       "      <td>0.000000</td>\n",
       "      <td>0.000113</td>\n",
       "      <td>0.000000</td>\n",
       "    </tr>\n",
       "    <tr>\n",
       "      <th>867.6533999999999</th>\n",
       "      <td>0.710843</td>\n",
       "      <td>0.000000</td>\n",
       "      <td>0.000113</td>\n",
       "      <td>0.000000</td>\n",
       "    </tr>\n",
       "    <tr>\n",
       "      <th>...</th>\n",
       "      <td>...</td>\n",
       "      <td>...</td>\n",
       "      <td>...</td>\n",
       "      <td>...</td>\n",
       "    </tr>\n",
       "    <tr>\n",
       "      <th>985.53971</th>\n",
       "      <td>-0.010731</td>\n",
       "      <td>0.165204</td>\n",
       "      <td>0.000113</td>\n",
       "      <td>0.178769</td>\n",
       "    </tr>\n",
       "    <tr>\n",
       "      <th>956.007465</th>\n",
       "      <td>-0.011153</td>\n",
       "      <td>0.155548</td>\n",
       "      <td>0.000113</td>\n",
       "      <td>0.169814</td>\n",
       "    </tr>\n",
       "    <tr>\n",
       "      <th>808.216595</th>\n",
       "      <td>-0.014762</td>\n",
       "      <td>0.088185</td>\n",
       "      <td>0.000113</td>\n",
       "      <td>0.098013</td>\n",
       "    </tr>\n",
       "    <tr>\n",
       "      <th>955.885645</th>\n",
       "      <td>-0.014812</td>\n",
       "      <td>0.087435</td>\n",
       "      <td>0.000113</td>\n",
       "      <td>0.097768</td>\n",
       "    </tr>\n",
       "    <tr>\n",
       "      <th>889.700055</th>\n",
       "      <td>-0.017359</td>\n",
       "      <td>0.055241</td>\n",
       "      <td>0.000113</td>\n",
       "      <td>0.062527</td>\n",
       "    </tr>\n",
       "  </tbody>\n",
       "</table>\n",
       "<p>369 rows × 4 columns</p>\n",
       "</div>"
      ],
      "text/plain": [
       "                          I  pval_norm  var_norm  pval_norm_fdr_bh\n",
       "343.05333          0.756057   0.000000  0.000113          0.000000\n",
       "838.6165           0.746500   0.000000  0.000113          0.000000\n",
       "866.6484849999999  0.743828   0.000000  0.000113          0.000000\n",
       "848.6320350000001  0.735701   0.000000  0.000113          0.000000\n",
       "867.6533999999999  0.710843   0.000000  0.000113          0.000000\n",
       "...                     ...        ...       ...               ...\n",
       "985.53971         -0.010731   0.165204  0.000113          0.178769\n",
       "956.007465        -0.011153   0.155548  0.000113          0.169814\n",
       "808.216595        -0.014762   0.088185  0.000113          0.098013\n",
       "955.885645        -0.014812   0.087435  0.000113          0.097768\n",
       "889.700055        -0.017359   0.055241  0.000113          0.062527\n",
       "\n",
       "[369 rows x 4 columns]"
      ]
     },
     "execution_count": 18,
     "metadata": {},
     "output_type": "execute_result"
    }
   ],
   "source": [
    "adata_msi.uns[\"moranI\"]"
   ]
  },
  {
   "cell_type": "code",
   "execution_count": 19,
   "metadata": {},
   "outputs": [],
   "source": [
    "top_30_spat = adata_msi.uns[\"moranI\"].loc[adata_msi.uns[\"moranI\"].pval_norm_fdr_bh < 0.05].sort_values(by=[\"I\", \"pval_norm_fdr_bh\"], ascending=[False, True]).index[:30]\n"
   ]
  },
  {
   "cell_type": "markdown",
   "metadata": {},
   "source": [
    "#### Mini correction for known DHB positive mode matrix peaks, if info for other matrices/modes add the values"
   ]
  },
  {
   "cell_type": "code",
   "execution_count": 20,
   "metadata": {},
   "outputs": [
    {
     "data": {
      "text/plain": [
       "array([133.074345, 136.52141 , 137.046305, ..., 992.614545, 994.56201 ,\n",
       "       996.51046 ])"
      ]
     },
     "execution_count": 20,
     "metadata": {},
     "output_type": "execute_result"
    }
   ],
   "source": [
    "mz_values = adata_msi.var_names.astype(float).to_numpy()\n",
    "mz_values"
   ]
  },
  {
   "cell_type": "code",
   "execution_count": 21,
   "metadata": {},
   "outputs": [],
   "source": [
    "dhb_peaks_positive = np.array([137.0238, 155.0341, 177.0173, 193.0351, 273.0454])\n",
    "found_peaks = set(mz_values[np.abs(mz_values[:, None] - dhb_peaks_positive[None, :]).min(axis=1) <= 0.1])\n",
    "found_peaks_str = set(map(str, found_peaks))\n",
    "\n",
    "# dhb_peaks_negative = np.array([137.0238, 155.0341, 177.0173, 193.0351, 273.0454])\n",
    "# found_peaks = set(mz_values[np.abs(mz_values[:, None] - dhb_peaks_negative[None, :]).min(axis=1) <= 0.1])\n",
    "# found_peaks_str = set(map(str, found_peaks))\n",
    "\n",
    "# fmp10_peaks_positive = np.array([])\n",
    "# found_peaks = set(mz_values[np.abs(mz_values[:, None] - fmp10_peaks_positive[None, :]).min(axis=1) <= 0.1])\n",
    "# found_peaks_str = set(map(str, found_peaks))\n",
    "\n",
    "# fmp10_peaks_negative = np.array([])\n",
    "# found_peaks = set(mz_values[np.abs(mz_values[:, None] - fmp10_peaks_negative[None, :]).min(axis=1) <= 0.1])\n",
    "# found_peaks_str = set(map(str, found_peaks))"
   ]
  },
  {
   "cell_type": "code",
   "execution_count": 24,
   "metadata": {},
   "outputs": [
    {
     "name": "stdout",
     "output_type": "stream",
     "text": [
      "['343.05333', '838.6165', '866.6484849999999', '848.6320350000001', '867.6533999999999', '864.6305600000001', '839.6182200000001', '849.639235', '852.6320900000001', '364.90382', '518.26212', '866.63671', '364.90545999999995', '850.653705', '822.63419', '556.2165150000001', '850.643975', '832.6490249999999', '364.902325', '853.634125', '850.673965', '335.013615', '546.294005', '630.61329', '381.009', '865.6358299999999', '307.043815', '703.56658', '620.595435', '480.307365']\n",
      "30\n",
      "{np.float64(137.04630500000002), np.float64(137.065685), np.float64(137.071495), np.float64(273.04483), np.float64(273.04533000000004), np.float64(273.046), np.float64(273.028295), np.float64(273.02946), np.float64(273.029965), np.float64(273.03063), np.float64(273.03112999999996), np.float64(273.032135), np.float64(273.0328), np.float64(155.06254), np.float64(177.01229999999998), np.float64(273.04984), np.float64(273.03330500000004), np.float64(273.03380500000003), np.float64(273.03497500000003), np.float64(273.03447), np.float64(273.0465), np.float64(273.047005), np.float64(273.04767), np.float64(273.04817), np.float64(273.048675), np.float64(273.04934000000003)}\n"
     ]
    }
   ],
   "source": [
    "top_30_spat_filtered = [mz for mz in top_30_spat if mz not in found_peaks_str]\n",
    "print(top_30_spat_filtered) \n",
    "print(len(top_30_spat_filtered))\n",
    "print(found_peaks)\n"
   ]
  },
  {
   "cell_type": "code",
   "execution_count": 26,
   "metadata": {},
   "outputs": [
    {
     "data": {
      "text/plain": [
       "np.True_"
      ]
     },
     "execution_count": 26,
     "metadata": {},
     "output_type": "execute_result"
    }
   ],
   "source": [
    "np.all(top_30_spat == top_30_spat_filtered)"
   ]
  },
  {
   "cell_type": "code",
   "execution_count": 27,
   "metadata": {},
   "outputs": [],
   "source": [
    "# #If you dont want to do the matrix peaks cleaning, just comment out previous part and uncomment this:\n",
    "# top_30_spat_filtered = top_30_spat"
   ]
  },
  {
   "cell_type": "code",
   "execution_count": 28,
   "metadata": {},
   "outputs": [],
   "source": [
    "top_5_spat_metabolites = top_30_spat_filtered[:5]\n",
    "top_10_spat_metabolites = top_30_spat_filtered[:10]\n",
    "top_20_spat_metabolites = top_30_spat_filtered[:20]\n",
    "adata_msi_top5_spat = adata_msi[:, adata_msi.var_names.isin(top_5_spat_metabolites)].copy()\n",
    "adata_msi_top10_spat = adata_msi[:, adata_msi.var_names.isin(top_10_spat_metabolites)].copy()\n",
    "adata_msi_top20_spat = adata_msi[:, adata_msi.var_names.isin(top_20_spat_metabolites)].copy()"
   ]
  },
  {
   "cell_type": "markdown",
   "metadata": {},
   "source": [
    "#### Store the created dataset full in the directory of choice, under {original_dataset_name}_topNspatvar.h5ad"
   ]
  },
  {
   "cell_type": "code",
   "execution_count": 29,
   "metadata": {},
   "outputs": [
    {
     "data": {
      "text/plain": [
       "AnnData object with n_obs × n_vars = 2681 × 5\n",
       "    obs: 'technology', 'clusters', 'random_split', 'half_split', 'slide', 'n_genes_by_counts', 'log1p_n_genes_by_counts', 'total_counts', 'log1p_total_counts', 'pct_counts_in_top_50_genes', 'pct_counts_in_top_100_genes', 'pct_counts_in_top_200_genes', 'pct_counts_in_top_500_genes'\n",
       "    var: 'highly_variable', 'means', 'dispersions', 'dispersions_norm', 'n_cells_by_counts', 'mean_counts', 'log1p_mean_counts', 'pct_dropout_by_counts', 'total_counts', 'log1p_total_counts', 'n_cells'\n",
       "    uns: 'clusters', 'clusters_colors', 'hvg', 'log1p', 'moranI', 'neighbors', 'pca', 'spatial_neighbors', 'umap'\n",
       "    obsm: 'X_pca', 'X_umap', 'spatial', 'spatial_warp'\n",
       "    varm: 'PCs'\n",
       "    layers: 'counts'\n",
       "    obsp: 'connectivities', 'distances', 'spatial_connectivities', 'spatial_distances'"
      ]
     },
     "execution_count": 29,
     "metadata": {},
     "output_type": "execute_result"
    }
   ],
   "source": [
    "adata_msi_top5_spat"
   ]
  },
  {
   "cell_type": "code",
   "execution_count": null,
   "metadata": {},
   "outputs": [
    {
     "data": {
      "text/plain": [
       "'/lustre/groups/ml01/workspace/eirini/hand_prep/'"
      ]
     },
     "execution_count": 30,
     "metadata": {},
     "output_type": "execute_result"
    }
   ],
   "source": [
    "/lustre/groups/ml01/workspace/eirini/hand_prep"
   ]
  },
  {
   "cell_type": "code",
   "execution_count": 31,
   "metadata": {},
   "outputs": [],
   "source": [
    "adata_msi_top5_spat.write(os.path.join(store_dir, f\"{dataset_name}_top5spatvar.h5ad\"))\n",
    "adata_msi_top10_spat.write(os.path.join(store_dir, f\"{dataset_name}_top10spatvar.h5ad\"))\n",
    "adata_msi_top20_spat.write(os.path.join(store_dir, f\"{dataset_name}_top20spatvar.h5ad\"))"
   ]
  },
  {
   "cell_type": "code",
   "execution_count": 33,
   "metadata": {},
   "outputs": [],
   "source": [
    "# adata_msi_top5_spat"
   ]
  },
  {
   "cell_type": "markdown",
   "metadata": {},
   "source": [
    "### Processed Dataset Setup for Feature Selection\n",
    "\n",
    "The following instructions explain how to avoid re-preprocessing the data in the main pipeline. The `run_featsel` step will skip preprocessing if the data already exists in the output directory of the `feat_sel` rule.\n",
    "\n",
    "### Steps\n",
    "\n",
    "1. **Manually Create Processed Datasets**\n",
    "\n",
    "   - Copy the processed RNA test and train splits from the corresponding RNA dataset (choose one from *vitatrack*, *neuro*, or *lipids*).\n",
    "\n",
    "2. **Place Data in the Pipeline Directory**\n",
    "\n",
    "   - Copy the processed datasets from the previous step into the pipeline's workspace directory.\n",
    "   - Rename the folder as needed (e.g., using the task name specified in `config.yaml`):\n",
    "     \n",
    "     ```bash\n",
    "     /lustre/groups/ml01/workspace/eirini.giannakoulia/{task_name}_topN_spatvar\n",
    "     ```\n",
    "\n",
    "3. **Add Processed MSI Data**\n",
    "\n",
    "   - Run the remaining notebook to add the processed MSI data into all the feature selection folders\n",
    "\n",
    "3. **Paste in pipeline**\n",
    "\n",
    "   - Paste under:\n",
    "   ```bash\n",
    "     pipeline/dataset/processed/{task_name}_topN_spatvar\n",
    "     ```\n",
    "\n",
    "\n",
    "\n",
    "\n",
    "After completing these steps, your pipeline is ready to run without reprocessing the data.\n"
   ]
  },
  {
   "cell_type": "code",
   "execution_count": null,
   "metadata": {},
   "outputs": [],
   "source": [
    "# task_name = \"V11L12-038_A1_MOSCOT_paired\"\n",
    "# split = \"split\""
   ]
  },
  {
   "cell_type": "code",
   "execution_count": 47,
   "metadata": {},
   "outputs": [],
   "source": [
    "# base_dir = f\"/lustre/groups/ml01/workspace/eirini.giannakoulia/{task_name}_top5_spatvar\"\n",
    "# adata_msi_top5_spat_train = adata_msi_top5_spat[adata_msi_top5_spat.obs[\"half_split\" ]== \"train\"].copy()\n",
    "# adata_msi_top5_spat_test = adata_msi_top5_spat[adata_msi_top5_spat.obs[\"half_split\" ]== \"test\"].copy()\n",
    "\n",
    "# for feat_sel in [\"hvg\", \"hvg_svd\", \"hvg_svd_graph\", \"svd\", \"svd_graph\"]:\n",
    "#     adata_msi_top5_spat_train.write(os.path.join(\"/lustre/groups/ml01/workspace/eirini.giannakoulia/lipids_top5_spatvar\",feat_sel,\"msi_dataset_train.h5ad\"))\n",
    "#     adata_msi_top5_spat_test.write(os.path.join(\"/lustre/groups/ml01/workspace/eirini.giannakoulia/lipids_top5_spatvar\",feat_sel,\"msi_dataset_test.h5ad\"))\n"
   ]
  },
  {
   "cell_type": "code",
   "execution_count": null,
   "metadata": {},
   "outputs": [],
   "source": [
    "base_dir = f\"/lustre/groups/ml01/workspace/eirini/{task_name}_top10_spatvar\"\n",
    "adata_msi_top10_spat_train = adata_msi_top10_spat[adata_msi_top10_spat.obs[split]==\"train\"].copy()\n",
    "adata_msi_top10_spat_test = adata_msi_top10_spat[adata_msi_top10_spat.obs[split]==\"test\"].copy()\n",
    "\n",
    "for feat_sel in [\"hvg\", \"hvg_svd\", \"hvg_svd_graph\", \"svd\", \"svd_graph\"]:\n",
    "    # Create the directory if it doesn't exist\n",
    "    out_dir = os.path.join(base_dir, feat_sel)\n",
    "    os.makedirs(out_dir, exist_ok=True)\n",
    "\n",
    "    # Write the files\n",
    "    adata_msi_top10_spat_train.write(os.path.join(out_dir, \"msi_dataset_train.h5ad\"))\n",
    "    adata_msi_top10_spat_test.write(os.path.join(out_dir, \"msi_dataset_test.h5ad\"))\n"
   ]
  },
  {
   "cell_type": "code",
   "execution_count": 50,
   "metadata": {},
   "outputs": [
    {
     "data": {
      "text/plain": [
       "AnnData object with n_obs × n_vars = 2681 × 10\n",
       "    obs: 'technology', 'clusters', 'split', 'og_index'\n",
       "    var: 'highly_variable', 'means', 'dispersions', 'dispersions_norm'\n",
       "    uns: 'clusters', 'clusters_colors', 'hvg', 'log1p', 'moranI', 'neighbors', 'pca', 'spatial_neighbors', 'umap'\n",
       "    obsm: 'X_pca', 'X_umap', 'raw_counts', 'spatial', 'spatial_warp'\n",
       "    varm: 'PCs'\n",
       "    obsp: 'connectivities', 'distances', 'spatial_connectivities', 'spatial_distances'"
      ]
     },
     "execution_count": 50,
     "metadata": {},
     "output_type": "execute_result"
    }
   ],
   "source": [
    "adata_msi_top10_spat"
   ]
  },
  {
   "cell_type": "code",
   "execution_count": 51,
   "metadata": {},
   "outputs": [],
   "source": [
    "base_dir = f\"/lustre/groups/ml01/workspace/eirini.giannakoulia/{task_name}_top20_spatvar\"\n",
    "\n",
    "adata_msi_top20_spat_train = adata_msi_top20_spat[adata_msi_top20_spat.obs[split]==\"train\"].copy()\n",
    "adata_msi_top20_spat_test = adata_msi_top20_spat[adata_msi_top20_spat.obs[split]==\"test\"].copy()\n"
   ]
  },
  {
   "cell_type": "code",
   "execution_count": null,
   "metadata": {},
   "outputs": [],
   "source": [
    "# Cross check if var size is correct\n",
    "adata_msi_top20_spat_train\n"
   ]
  },
  {
   "cell_type": "code",
   "execution_count": null,
   "metadata": {},
   "outputs": [],
   "source": [
    "for feat_sel in [\"hvg\", \"hvg_svd\", \"hvg_svd_graph\", \"svd\", \"svd_graph\"]:\n",
    "    out_dir = os.path.join(base_dir, feat_sel)\n",
    "    os.makedirs(out_dir, exist_ok=True)\n",
    "    \n",
    "    adata_msi_top20_spat_train.write(os.path.join(out_dir, \"msi_dataset_train.h5ad\"))\n",
    "    adata_msi_top20_spat_test.write(os.path.join(out_dir, \"msi_dataset_test.h5ad\"))\n"
   ]
  }
 ],
 "metadata": {
  "kernelspec": {
   "display_name": "Python (pipeline)",
   "language": "python",
   "name": "pipeline"
  }
 },
 "nbformat": 4,
 "nbformat_minor": 2
}
