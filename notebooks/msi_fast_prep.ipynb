{
 "cells": [
  {
   "cell_type": "code",
   "execution_count": 1,
   "metadata": {},
   "outputs": [
    {
     "name": "stderr",
     "output_type": "stream",
     "text": [
      "/ictstr01/home/icb/eirini.giannakoulia/tools/apps/mamba/envs/mini/lib/python3.12/site-packages/anndata/utils.py:429: FutureWarning: Importing read_csv from `anndata` is deprecated. Import anndata.io.read_csv instead.\n",
      "  warnings.warn(msg, FutureWarning)\n",
      "/ictstr01/home/icb/eirini.giannakoulia/tools/apps/mamba/envs/mini/lib/python3.12/site-packages/anndata/utils.py:429: FutureWarning: Importing read_excel from `anndata` is deprecated. Import anndata.io.read_excel instead.\n",
      "  warnings.warn(msg, FutureWarning)\n",
      "/ictstr01/home/icb/eirini.giannakoulia/tools/apps/mamba/envs/mini/lib/python3.12/site-packages/anndata/utils.py:429: FutureWarning: Importing read_hdf from `anndata` is deprecated. Import anndata.io.read_hdf instead.\n",
      "  warnings.warn(msg, FutureWarning)\n",
      "/ictstr01/home/icb/eirini.giannakoulia/tools/apps/mamba/envs/mini/lib/python3.12/site-packages/anndata/utils.py:429: FutureWarning: Importing read_loom from `anndata` is deprecated. Import anndata.io.read_loom instead.\n",
      "  warnings.warn(msg, FutureWarning)\n",
      "/ictstr01/home/icb/eirini.giannakoulia/tools/apps/mamba/envs/mini/lib/python3.12/site-packages/anndata/utils.py:429: FutureWarning: Importing read_mtx from `anndata` is deprecated. Import anndata.io.read_mtx instead.\n",
      "  warnings.warn(msg, FutureWarning)\n",
      "/ictstr01/home/icb/eirini.giannakoulia/tools/apps/mamba/envs/mini/lib/python3.12/site-packages/anndata/utils.py:429: FutureWarning: Importing read_text from `anndata` is deprecated. Import anndata.io.read_text instead.\n",
      "  warnings.warn(msg, FutureWarning)\n",
      "/ictstr01/home/icb/eirini.giannakoulia/tools/apps/mamba/envs/mini/lib/python3.12/site-packages/anndata/utils.py:429: FutureWarning: Importing read_umi_tools from `anndata` is deprecated. Import anndata.io.read_umi_tools instead.\n",
      "  warnings.warn(msg, FutureWarning)\n",
      "/ictstr01/home/icb/eirini.giannakoulia/tools/apps/mamba/envs/mini/lib/python3.12/site-packages/dask/dataframe/__init__.py:31: FutureWarning: The legacy Dask DataFrame implementation is deprecated and will be removed in a future version. Set the configuration option `dataframe.query-planning` to `True` or None to enable the new Dask Dataframe implementation and silence this warning.\n",
      "  warnings.warn(\n",
      "/ictstr01/home/icb/eirini.giannakoulia/tools/apps/mamba/envs/mini/lib/python3.12/site-packages/anndata/utils.py:429: FutureWarning: Importing read_text from `anndata` is deprecated. Import anndata.io.read_text instead.\n",
      "  warnings.warn(msg, FutureWarning)\n"
     ]
    }
   ],
   "source": [
    "import scanpy as sc\n",
    "import numpy as np\n",
    "import pandas as pd\n",
    "from tqdm import tqdm\n",
    "import seaborn as sns\n",
    "import squidpy as sq\n",
    "from sklearn.preprocessing import StandardScaler\n",
    "# from sklearn import model_selection\n",
    "from sklearn.metrics import r2_score\n",
    "import matplotlib.pyplot as plt\n",
    "import os\n"
   ]
  },
  {
   "cell_type": "code",
   "execution_count": 5,
   "metadata": {},
   "outputs": [
    {
     "name": "stderr",
     "output_type": "stream",
     "text": [
      "/ictstr01/home/icb/eirini.giannakoulia/tools/apps/mamba/envs/mini/lib/python3.12/site-packages/anndata/_core/anndata.py:1756: UserWarning: Observation names are not unique. To make them unique, call `.obs_names_make_unique`.\n",
      "  utils.warn_names_duplicates(\"obs\")\n"
     ]
    },
    {
     "name": "stdout",
     "output_type": "stream",
     "text": [
      "AnnData object with n_obs × n_vars = 5443 × 1538\n",
      "    obs: 'technology', 'clusters', 'random_split', 'half_split', 'slide', 'msi_concat_clusters'\n",
      "    var: 'highly_variable', 'means', 'dispersions', 'dispersions_norm', 'highly_variable_nbatches', 'highly_variable_intersection', 'spatialy_highly_variable', 'msi_highly_variable'\n",
      "    uns: 'hvg', 'msi_concat_clusters', 'neighbors', 'pca', 'slide_colors', 'umap'\n",
      "    obsm: 'X_pca', 'X_umap', 'spatial', 'spatial_warp'\n",
      "    varm: 'PCs'\n",
      "    layers: 'counts'\n",
      "    obsp: 'connectivities', 'distances'\n",
      "/lustre/groups/ml01/workspace/eirini.giannakoulia/neurotransmitters_spatialy_highly_variable/hvg/msi_dataset_train.h5ad\n",
      "/lustre/groups/ml01/workspace/eirini.giannakoulia/neurotransmitters_spatialy_highly_variable/hvg_svd/msi_dataset_train.h5ad\n",
      "/lustre/groups/ml01/workspace/eirini.giannakoulia/neurotransmitters_spatialy_highly_variable/hvg_svd_graph/msi_dataset_train.h5ad\n",
      "/lustre/groups/ml01/workspace/eirini.giannakoulia/neurotransmitters_spatialy_highly_variable/svd/msi_dataset_train.h5ad\n",
      "/lustre/groups/ml01/workspace/eirini.giannakoulia/neurotransmitters_spatialy_highly_variable/svd_graph/msi_dataset_train.h5ad\n",
      "/lustre/groups/ml01/workspace/eirini.giannakoulia/neurotransmitters_msi_highly_variable/hvg/msi_dataset_train.h5ad\n",
      "/lustre/groups/ml01/workspace/eirini.giannakoulia/neurotransmitters_msi_highly_variable/hvg_svd/msi_dataset_train.h5ad\n",
      "/lustre/groups/ml01/workspace/eirini.giannakoulia/neurotransmitters_msi_highly_variable/hvg_svd_graph/msi_dataset_train.h5ad\n",
      "/lustre/groups/ml01/workspace/eirini.giannakoulia/neurotransmitters_msi_highly_variable/svd/msi_dataset_train.h5ad\n",
      "/lustre/groups/ml01/workspace/eirini.giannakoulia/neurotransmitters_msi_highly_variable/svd_graph/msi_dataset_train.h5ad\n"
     ]
    },
    {
     "name": "stderr",
     "output_type": "stream",
     "text": [
      "/ictstr01/home/icb/eirini.giannakoulia/tools/apps/mamba/envs/mini/lib/python3.12/site-packages/anndata/_core/anndata.py:1756: UserWarning: Observation names are not unique. To make them unique, call `.obs_names_make_unique`.\n",
      "  utils.warn_names_duplicates(\"obs\")\n"
     ]
    },
    {
     "name": "stdout",
     "output_type": "stream",
     "text": [
      "AnnData object with n_obs × n_vars = 5618 × 2754\n",
      "    obs: 'technology', 'clusters', 'random_split', 'half_split', 'slide', 'msi_concat_clusters'\n",
      "    var: 'highly_variable', 'means', 'dispersions', 'dispersions_norm', 'highly_variable_nbatches', 'highly_variable_intersection', 'spatialy_highly_variable', 'msi_highly_variable'\n",
      "    uns: 'hvg', 'msi_concat_clusters', 'neighbors', 'pca', 'slide_colors', 'umap'\n",
      "    obsm: 'X_pca', 'X_umap', 'spatial', 'spatial_warp'\n",
      "    varm: 'PCs'\n",
      "    layers: 'counts'\n",
      "    obsp: 'connectivities', 'distances'\n",
      "/lustre/groups/ml01/workspace/eirini.giannakoulia/lipids_spatialy_highly_variable/hvg/msi_dataset_train.h5ad\n",
      "/lustre/groups/ml01/workspace/eirini.giannakoulia/lipids_spatialy_highly_variable/hvg_svd/msi_dataset_train.h5ad\n",
      "/lustre/groups/ml01/workspace/eirini.giannakoulia/lipids_spatialy_highly_variable/hvg_svd_graph/msi_dataset_train.h5ad\n",
      "/lustre/groups/ml01/workspace/eirini.giannakoulia/lipids_spatialy_highly_variable/svd/msi_dataset_train.h5ad\n",
      "/lustre/groups/ml01/workspace/eirini.giannakoulia/lipids_spatialy_highly_variable/svd_graph/msi_dataset_train.h5ad\n",
      "/lustre/groups/ml01/workspace/eirini.giannakoulia/lipids_msi_highly_variable/hvg/msi_dataset_train.h5ad\n",
      "/lustre/groups/ml01/workspace/eirini.giannakoulia/lipids_msi_highly_variable/hvg_svd/msi_dataset_train.h5ad\n",
      "/lustre/groups/ml01/workspace/eirini.giannakoulia/lipids_msi_highly_variable/hvg_svd_graph/msi_dataset_train.h5ad\n",
      "/lustre/groups/ml01/workspace/eirini.giannakoulia/lipids_msi_highly_variable/svd/msi_dataset_train.h5ad\n",
      "/lustre/groups/ml01/workspace/eirini.giannakoulia/lipids_msi_highly_variable/svd_graph/msi_dataset_train.h5ad\n"
     ]
    }
   ],
   "source": [
    "split = 'half_split'\n",
    "\n",
    "for task in [\"neurotransmitters\" ,\"lipids\"]:\n",
    "    path_msi =f\"/lustre/groups/ml01/workspace/anastasia.litinetskaya/code/vitatrack/datasets/MSI_concat_{task}.h5ad\"\n",
    "\n",
    "    adata_msi_full = sc.read_h5ad(path_msi)\n",
    "    print(adata_msi_full)\n",
    "    for prep in [\"spatialy_highly_variable\", \"msi_highly_variable\"]:\n",
    "        adata_msi = adata_msi_full[:, adata_msi_full.var[prep]].copy()\n",
    "        adata_msi.write(f\"/lustre/groups/ml01/workspace/eirini.giannakoulia/hand_prep/MSI_{task}_{prep}.h5ad\") #save full \n",
    "        # print(\"full_ds: \" f\"/lustre/groups/ml01/workspace/eirini.giannakoulia/hand_prep/MSI_{task}_{prep}.h5ad\")\n",
    "\n",
    "\n",
    "        adata_msi_train = adata_msi[adata_msi.obs[split] == \"train\"].copy()\n",
    "        adata_msi_test = adata_msi[adata_msi.obs[split] == \"test\"].copy()\n",
    "        base_dir = f\"/lustre/groups/ml01/workspace/eirini.giannakoulia/{task}_{prep}\"\n",
    "\n",
    "        for feat_sel in [\"hvg\", \"hvg_svd\", \"hvg_svd_graph\", \"svd\", \"svd_graph\"]:\n",
    "            # Create the directory if it doesn't exist\n",
    "            out_dir = os.path.join(base_dir, feat_sel)\n",
    "            os.makedirs(out_dir, exist_ok=True)\n",
    "            # Write the files\n",
    "            print(os.path.join(out_dir, \"msi_dataset_train.h5ad\"))\n",
    "            adata_msi_train.write(os.path.join(out_dir, \"msi_dataset_train.h5ad\"))\n",
    "            adata_msi_test.write(os.path.join(out_dir, \"msi_dataset_test.h5ad\"))\n"
   ]
  },
  {
   "cell_type": "code",
   "execution_count": null,
   "metadata": {},
   "outputs": [],
   "source": []
  }
 ],
 "metadata": {
  "kernelspec": {
   "display_name": "Python (minimal)",
   "language": "python",
   "name": "mini"
  },
  "language_info": {
   "codemirror_mode": {
    "name": "ipython",
    "version": 3
   },
   "file_extension": ".py",
   "mimetype": "text/x-python",
   "name": "python",
   "nbconvert_exporter": "python",
   "pygments_lexer": "ipython3",
   "version": "3.12.7"
  }
 },
 "nbformat": 4,
 "nbformat_minor": 2
}
